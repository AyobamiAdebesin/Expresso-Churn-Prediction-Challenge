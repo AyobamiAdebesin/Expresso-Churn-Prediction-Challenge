{
 "cells": [
  {
   "cell_type": "code",
   "execution_count": 1,
   "metadata": {},
   "outputs": [],
   "source": [
    "# Import the libraries\n",
    "import numpy as np\n",
    "import pandas as pd\n",
    "import matplotlib.pyplot as plt\n",
    "import sklearn\n",
    "import os, shutil\n",
    "import time\n",
    "import warnings\n",
    "warnings.filterwarnings('ignore')\n",
    "import seaborn as sns"
   ]
  },
  {
   "cell_type": "markdown",
   "metadata": {},
   "source": [
    "### USEFUL FUNCTIONS"
   ]
  },
  {
   "cell_type": "code",
   "execution_count": 2,
   "metadata": {},
   "outputs": [],
   "source": [
    "import base64\n",
    "import os\n",
    "\n",
    "import matplotlib.pyplot as plt\n",
    "import numpy as np\n",
    "import pandas as pd\n",
    "import requests\n",
    "from sklearn import preprocessing\n",
    "\n",
    "\n",
    "# Encode text values to dummy variables(i.e. [1,0,0],[0,1,0],[0,0,1] for red,green,blue)\n",
    "def encode_text_dummy(df, name):\n",
    "    dummies = pd.get_dummies(df[name])\n",
    "    for x in dummies.columns:\n",
    "        dummy_name = f\"{name}-{x}\"\n",
    "        df[dummy_name] = dummies[x]\n",
    "    df.drop(name, axis=1, inplace=True)\n",
    "\n",
    "\n",
    "# Encode text values to a single dummy variable.  The new columns (which do not replace the old) will have a 1\n",
    "# at every location where the original column (name) matches each of the target_values.  One column is added for\n",
    "# each target value.\n",
    "def encode_text_single_dummy(df, name, target_values):\n",
    "    for tv in target_values:\n",
    "        l = list(df[name].astype(str))\n",
    "        l = [1 if str(x) == str(tv) else 0 for x in l]\n",
    "        name2 = f\"{name}-{tv}\"\n",
    "        df[name2] = l\n",
    "\n",
    "\n",
    "# Encode text values to indexes(i.e. [1],[2],[3] for red,green,blue).\n",
    "def encode_text_index(df, name):\n",
    "    le = preprocessing.LabelEncoder()\n",
    "    df[name] = le.fit_transform(df[name])\n",
    "    return le.classes_\n",
    "\n",
    "\n",
    "# Encode a numeric column as zscores\n",
    "def encode_numeric_zscore(df, name, mean=None, sd=None):\n",
    "    if mean is None:\n",
    "        mean = df[name].mean()\n",
    "\n",
    "    if sd is None:\n",
    "        sd = df[name].std()\n",
    "\n",
    "    df[name] = (df[name] - mean) / sd\n",
    "\n",
    "\n",
    "# Convert all missing values in the specified column to the median\n",
    "def missing_median(df, name):\n",
    "    med = df[name].median()\n",
    "    df[name] = df[name].fillna(med)\n",
    "\n",
    "\n",
    "# Convert all missing values in the specified column to the default\n",
    "def missing_default(df, name, default_value):\n",
    "    df[name] = df[name].fillna(default_value)\n",
    "\n",
    "\n",
    "# Convert a Pandas dataframe to the x,y inputs that TensorFlow needs\n",
    "def to_xy(df, target):\n",
    "    result = []\n",
    "    for x in df.columns:\n",
    "        if x != target:\n",
    "            result.append(x)\n",
    "    # find out the type of the target column.  Is it really this hard? :(\n",
    "    target_type = df[target].dtypes\n",
    "    target_type = target_type[0] if hasattr(\n",
    "        target_type, '__iter__') else target_type\n",
    "    # Encode to int for classification, float otherwise. TensorFlow likes 32 bits.\n",
    "    if target_type in (np.int64, np.int32):\n",
    "        # Classification\n",
    "        dummies = pd.get_dummies(df[target])\n",
    "        return df[result].values.astype(np.float32), dummies.values.astype(np.float32)\n",
    "    # Regression\n",
    "    return df[result].values.astype(np.float32), df[[target]].values.astype(np.float32)\n",
    "\n",
    "# Nicely formatted time string\n",
    "def hms_string(sec_elapsed):\n",
    "    h = int(sec_elapsed / (60 * 60))\n",
    "    m = int((sec_elapsed % (60 * 60)) / 60)\n",
    "    s = sec_elapsed % 60\n",
    "    return f\"{h}:{m:>02}:{s:>05.2f}\"\n",
    "\n",
    "\n",
    "# Regression chart.\n",
    "def chart_regression(pred, y, sort=True):\n",
    "    t = pd.DataFrame({'pred': pred, 'y': y.flatten()})\n",
    "    if sort:\n",
    "        t.sort_values(by=['y'], inplace=True)\n",
    "    plt.plot(t['y'].tolist(), label='expected')\n",
    "    plt.plot(t['pred'].tolist(), label='prediction')\n",
    "    plt.ylabel('output')\n",
    "    plt.legend()\n",
    "    plt.show()\n",
    "\n",
    "# Remove all rows where the specified column is +/- sd standard deviations\n",
    "def remove_outliers(df, name, sd):\n",
    "    drop_rows = df.index[(np.abs(df[name] - df[name].mean())\n",
    "                          >= (sd * df[name].std()))]\n",
    "    df.drop(drop_rows, axis=0, inplace=True)\n",
    "\n",
    "\n",
    "# Encode a column to a range between normalized_low and normalized_high.\n",
    "def encode_numeric_range(df, name, normalized_low=-1, normalized_high=1,\n",
    "                         data_low=None, data_high=None):\n",
    "    if data_low is None:\n",
    "        data_low = min(df[name])\n",
    "        data_high = max(df[name])\n",
    "\n",
    "    df[name] = ((df[name] - data_low) / (data_high - data_low)) \\\n",
    "        * (normalized_high - normalized_low) + normalized_low"
   ]
  },
  {
   "cell_type": "code",
   "execution_count": 3,
   "metadata": {},
   "outputs": [],
   "source": [
    "# Load the data\n",
    "train = pd.read_csv('Train.csv')\n",
    "\n",
    "test = pd.read_csv('Test.csv')\n",
    "\n",
    "sample_sub = pd.read_csv('sample_submission.csv')\n",
    "\n",
    "variable_def = pd.read_csv('VariableDefinitions.csv')"
   ]
  },
  {
   "cell_type": "code",
   "execution_count": 4,
   "metadata": {},
   "outputs": [
    {
     "name": "stdout",
     "output_type": "stream",
     "text": [
      "Train columns: Index(['user_id', 'REGION', 'TENURE', 'MONTANT', 'FREQUENCE_RECH', 'REVENUE',\n",
      "       'ARPU_SEGMENT', 'FREQUENCE', 'DATA_VOLUME', 'ON_NET', 'ORANGE', 'TIGO',\n",
      "       'ZONE1', 'ZONE2', 'MRG', 'REGULARITY', 'TOP_PACK', 'FREQ_TOP_PACK',\n",
      "       'CHURN'],\n",
      "      dtype='object')\n",
      "Shape of training data: (400000, 19)\n",
      "Shape of test set: (100000, 18)\n"
     ]
    },
    {
     "data": {
      "text/html": [
       "<div>\n",
       "<style scoped>\n",
       "    .dataframe tbody tr th:only-of-type {\n",
       "        vertical-align: middle;\n",
       "    }\n",
       "\n",
       "    .dataframe tbody tr th {\n",
       "        vertical-align: top;\n",
       "    }\n",
       "\n",
       "    .dataframe thead th {\n",
       "        text-align: right;\n",
       "    }\n",
       "</style>\n",
       "<table border=\"1\" class=\"dataframe\">\n",
       "  <thead>\n",
       "    <tr style=\"text-align: right;\">\n",
       "      <th></th>\n",
       "      <th>user_id</th>\n",
       "      <th>REGION</th>\n",
       "      <th>TENURE</th>\n",
       "      <th>MONTANT</th>\n",
       "      <th>FREQUENCE_RECH</th>\n",
       "      <th>REVENUE</th>\n",
       "      <th>ARPU_SEGMENT</th>\n",
       "      <th>FREQUENCE</th>\n",
       "      <th>DATA_VOLUME</th>\n",
       "      <th>ON_NET</th>\n",
       "      <th>ORANGE</th>\n",
       "      <th>TIGO</th>\n",
       "      <th>ZONE1</th>\n",
       "      <th>ZONE2</th>\n",
       "      <th>MRG</th>\n",
       "      <th>REGULARITY</th>\n",
       "      <th>TOP_PACK</th>\n",
       "      <th>FREQ_TOP_PACK</th>\n",
       "      <th>CHURN</th>\n",
       "    </tr>\n",
       "  </thead>\n",
       "  <tbody>\n",
       "    <tr>\n",
       "      <th>0</th>\n",
       "      <td>dcf68cc2fb515ccad7d8b9b3bd80ee2a4b270063</td>\n",
       "      <td>SAINT-LOUIS</td>\n",
       "      <td>K &gt; 24 month</td>\n",
       "      <td>17000.0</td>\n",
       "      <td>32.0</td>\n",
       "      <td>18000.0</td>\n",
       "      <td>6000.0</td>\n",
       "      <td>34.0</td>\n",
       "      <td>NaN</td>\n",
       "      <td>97.0</td>\n",
       "      <td>355.0</td>\n",
       "      <td>6.0</td>\n",
       "      <td>NaN</td>\n",
       "      <td>NaN</td>\n",
       "      <td>NO</td>\n",
       "      <td>62</td>\n",
       "      <td>All-net 500F=2000F;5d</td>\n",
       "      <td>35.0</td>\n",
       "      <td>0</td>\n",
       "    </tr>\n",
       "    <tr>\n",
       "      <th>1</th>\n",
       "      <td>71c44b5ba328db5c4192a80f7cf8f244d9350ed0</td>\n",
       "      <td>NaN</td>\n",
       "      <td>K &gt; 24 month</td>\n",
       "      <td>4300.0</td>\n",
       "      <td>29.0</td>\n",
       "      <td>4427.0</td>\n",
       "      <td>1476.0</td>\n",
       "      <td>37.0</td>\n",
       "      <td>1764.0</td>\n",
       "      <td>8.0</td>\n",
       "      <td>3.0</td>\n",
       "      <td>0.0</td>\n",
       "      <td>NaN</td>\n",
       "      <td>2.0</td>\n",
       "      <td>NO</td>\n",
       "      <td>40</td>\n",
       "      <td>Data: 100 F=40MB,24H</td>\n",
       "      <td>22.0</td>\n",
       "      <td>0</td>\n",
       "    </tr>\n",
       "    <tr>\n",
       "      <th>2</th>\n",
       "      <td>ce46411b1526c94f20a383b8cb188f8d27f82a0a</td>\n",
       "      <td>TAMBACOUNDA</td>\n",
       "      <td>K &gt; 24 month</td>\n",
       "      <td>1500.0</td>\n",
       "      <td>3.0</td>\n",
       "      <td>1500.0</td>\n",
       "      <td>500.0</td>\n",
       "      <td>3.0</td>\n",
       "      <td>NaN</td>\n",
       "      <td>30.0</td>\n",
       "      <td>30.0</td>\n",
       "      <td>NaN</td>\n",
       "      <td>NaN</td>\n",
       "      <td>NaN</td>\n",
       "      <td>NO</td>\n",
       "      <td>32</td>\n",
       "      <td>All-net 500F=2000F;5d</td>\n",
       "      <td>3.0</td>\n",
       "      <td>0</td>\n",
       "    </tr>\n",
       "    <tr>\n",
       "      <th>3</th>\n",
       "      <td>f467cdb6669818373c26c2bad44e01ba66f97d21</td>\n",
       "      <td>FATICK</td>\n",
       "      <td>K &gt; 24 month</td>\n",
       "      <td>1500.0</td>\n",
       "      <td>3.0</td>\n",
       "      <td>2497.0</td>\n",
       "      <td>832.0</td>\n",
       "      <td>4.0</td>\n",
       "      <td>0.0</td>\n",
       "      <td>159.0</td>\n",
       "      <td>45.0</td>\n",
       "      <td>19.0</td>\n",
       "      <td>NaN</td>\n",
       "      <td>NaN</td>\n",
       "      <td>NO</td>\n",
       "      <td>18</td>\n",
       "      <td>On net 200F=Unlimited _call24H</td>\n",
       "      <td>3.0</td>\n",
       "      <td>0</td>\n",
       "    </tr>\n",
       "    <tr>\n",
       "      <th>4</th>\n",
       "      <td>ec45e1a1888a32b5dcce0954cfec20c6e037db31</td>\n",
       "      <td>FATICK</td>\n",
       "      <td>K &gt; 24 month</td>\n",
       "      <td>NaN</td>\n",
       "      <td>NaN</td>\n",
       "      <td>498.0</td>\n",
       "      <td>166.0</td>\n",
       "      <td>3.0</td>\n",
       "      <td>1.0</td>\n",
       "      <td>1.0</td>\n",
       "      <td>3.0</td>\n",
       "      <td>NaN</td>\n",
       "      <td>NaN</td>\n",
       "      <td>NaN</td>\n",
       "      <td>NO</td>\n",
       "      <td>50</td>\n",
       "      <td>NaN</td>\n",
       "      <td>NaN</td>\n",
       "      <td>0</td>\n",
       "    </tr>\n",
       "  </tbody>\n",
       "</table>\n",
       "</div>"
      ],
      "text/plain": [
       "                                    user_id       REGION        TENURE  \\\n",
       "0  dcf68cc2fb515ccad7d8b9b3bd80ee2a4b270063  SAINT-LOUIS  K > 24 month   \n",
       "1  71c44b5ba328db5c4192a80f7cf8f244d9350ed0          NaN  K > 24 month   \n",
       "2  ce46411b1526c94f20a383b8cb188f8d27f82a0a  TAMBACOUNDA  K > 24 month   \n",
       "3  f467cdb6669818373c26c2bad44e01ba66f97d21       FATICK  K > 24 month   \n",
       "4  ec45e1a1888a32b5dcce0954cfec20c6e037db31       FATICK  K > 24 month   \n",
       "\n",
       "   MONTANT  FREQUENCE_RECH  REVENUE  ARPU_SEGMENT  FREQUENCE  DATA_VOLUME  \\\n",
       "0  17000.0            32.0  18000.0        6000.0       34.0          NaN   \n",
       "1   4300.0            29.0   4427.0        1476.0       37.0       1764.0   \n",
       "2   1500.0             3.0   1500.0         500.0        3.0          NaN   \n",
       "3   1500.0             3.0   2497.0         832.0        4.0          0.0   \n",
       "4      NaN             NaN    498.0         166.0        3.0          1.0   \n",
       "\n",
       "   ON_NET  ORANGE  TIGO  ZONE1  ZONE2 MRG  REGULARITY  \\\n",
       "0    97.0   355.0   6.0    NaN    NaN  NO          62   \n",
       "1     8.0     3.0   0.0    NaN    2.0  NO          40   \n",
       "2    30.0    30.0   NaN    NaN    NaN  NO          32   \n",
       "3   159.0    45.0  19.0    NaN    NaN  NO          18   \n",
       "4     1.0     3.0   NaN    NaN    NaN  NO          50   \n",
       "\n",
       "                         TOP_PACK  FREQ_TOP_PACK  CHURN  \n",
       "0           All-net 500F=2000F;5d           35.0      0  \n",
       "1            Data: 100 F=40MB,24H           22.0      0  \n",
       "2           All-net 500F=2000F;5d            3.0      0  \n",
       "3  On net 200F=Unlimited _call24H            3.0      0  \n",
       "4                             NaN            NaN      0  "
      ]
     },
     "execution_count": 4,
     "metadata": {},
     "output_type": "execute_result"
    }
   ],
   "source": [
    "# Preview the data\n",
    "print('Train columns:', train.columns)\n",
    "print('Shape of training data:', train.shape)\n",
    "print('Shape of test set:', test.shape)\n",
    "train.head()"
   ]
  },
  {
   "cell_type": "markdown",
   "metadata": {},
   "source": [
    "### FEATURE ENGINEERING AND EXPLORATORY DATA ANALYSIS"
   ]
  },
  {
   "cell_type": "code",
   "execution_count": 5,
   "metadata": {},
   "outputs": [],
   "source": [
    "train.set_index('user_id', inplace=True)\n",
    "test.set_index('user_id', inplace=True)"
   ]
  },
  {
   "cell_type": "code",
   "execution_count": 6,
   "metadata": {},
   "outputs": [
    {
     "data": {
      "text/plain": [
       "REGION            157520\n",
       "TENURE                 0\n",
       "MONTANT           140277\n",
       "FREQUENCE_RECH    140277\n",
       "REVENUE           134663\n",
       "ARPU_SEGMENT      134663\n",
       "FREQUENCE         134663\n",
       "DATA_VOLUME       196854\n",
       "ON_NET            145819\n",
       "ORANGE            166317\n",
       "TIGO              239386\n",
       "ZONE1             368310\n",
       "ZONE2             374487\n",
       "MRG                    0\n",
       "REGULARITY             0\n",
       "TOP_PACK          167329\n",
       "FREQ_TOP_PACK     167329\n",
       "CHURN                  0\n",
       "dtype: int64"
      ]
     },
     "execution_count": 6,
     "metadata": {},
     "output_type": "execute_result"
    }
   ],
   "source": [
    "train.isnull().sum()"
   ]
  },
  {
   "cell_type": "markdown",
   "metadata": {},
   "source": [
    "### REGION"
   ]
  },
  {
   "cell_type": "code",
   "execution_count": 7,
   "metadata": {},
   "outputs": [
    {
     "data": {
      "text/plain": [
       "157520"
      ]
     },
     "execution_count": 7,
     "metadata": {},
     "output_type": "execute_result"
    }
   ],
   "source": [
    "train['REGION'].isnull().sum()"
   ]
  },
  {
   "cell_type": "code",
   "execution_count": 8,
   "metadata": {},
   "outputs": [
    {
     "data": {
      "text/plain": [
       "DAKAR          95517\n",
       "THIES          33374\n",
       "SAINT-LOUIS    22125\n",
       "LOUGA          18513\n",
       "KAOLACK        18042\n",
       "DIOURBEL       12576\n",
       "TAMBACOUNDA    10273\n",
       "KAFFRINE        8181\n",
       "KOLDA           7204\n",
       "FATICK          6638\n",
       "MATAM           5255\n",
       "ZIGUINCHOR      4012\n",
       "SEDHIOU          589\n",
       "KEDOUGOU         181\n",
       "Name: REGION, dtype: int64"
      ]
     },
     "execution_count": 8,
     "metadata": {},
     "output_type": "execute_result"
    }
   ],
   "source": [
    "train['REGION'].value_counts()"
   ]
  },
  {
   "cell_type": "code",
   "execution_count": 9,
   "metadata": {},
   "outputs": [
    {
     "data": {
      "text/plain": [
       "<matplotlib.axes._subplots.AxesSubplot at 0x15a6f20dd88>"
      ]
     },
     "execution_count": 9,
     "metadata": {},
     "output_type": "execute_result"
    },
    {
     "data": {
      "image/png": "[encoded data removed]",
      "text/plain": [
       "<Figure size 432x288 with 1 Axes>"
      ]
     },
     "metadata": {
      "needs_background": "light"
     },
     "output_type": "display_data"
    }
   ],
   "source": [
    "sns.countplot(x = 'REGION', hue='CHURN', data = train)"
   ]
  },
  {
   "cell_type": "code",
   "execution_count": 10,
   "metadata": {},
   "outputs": [],
   "source": [
    "train['REGION'] = train['REGION'].fillna('DAKAR')\n",
    "test['REGION'] = test['REGION'].fillna('DAKAR')"
   ]
  },
  {
   "cell_type": "code",
   "execution_count": 11,
   "metadata": {},
   "outputs": [],
   "source": [
    "encode_text_dummy(train, name='REGION')\n",
    "encode_text_dummy(test, name='REGION')\n"
   ]
  },
  {
   "cell_type": "code",
   "execution_count": 12,
   "metadata": {},
   "outputs": [
    {
     "data": {
      "text/html": [
       "<div>\n",
       "<style scoped>\n",
       "    .dataframe tbody tr th:only-of-type {\n",
       "        vertical-align: middle;\n",
       "    }\n",
       "\n",
       "    .dataframe tbody tr th {\n",
       "        vertical-align: top;\n",
       "    }\n",
       "\n",
       "    .dataframe thead th {\n",
       "        text-align: right;\n",
       "    }\n",
       "</style>\n",
       "<table border=\"1\" class=\"dataframe\">\n",
       "  <thead>\n",
       "    <tr style=\"text-align: right;\">\n",
       "      <th></th>\n",
       "      <th>TENURE</th>\n",
       "      <th>MONTANT</th>\n",
       "      <th>FREQUENCE_RECH</th>\n",
       "      <th>REVENUE</th>\n",
       "      <th>ARPU_SEGMENT</th>\n",
       "      <th>FREQUENCE</th>\n",
       "      <th>DATA_VOLUME</th>\n",
       "      <th>ON_NET</th>\n",
       "      <th>ORANGE</th>\n",
       "      <th>TIGO</th>\n",
       "      <th>...</th>\n",
       "      <th>REGION-KAOLACK</th>\n",
       "      <th>REGION-KEDOUGOU</th>\n",
       "      <th>REGION-KOLDA</th>\n",
       "      <th>REGION-LOUGA</th>\n",
       "      <th>REGION-MATAM</th>\n",
       "      <th>REGION-SAINT-LOUIS</th>\n",
       "      <th>REGION-SEDHIOU</th>\n",
       "      <th>REGION-TAMBACOUNDA</th>\n",
       "      <th>REGION-THIES</th>\n",
       "      <th>REGION-ZIGUINCHOR</th>\n",
       "    </tr>\n",
       "    <tr>\n",
       "      <th>user_id</th>\n",
       "      <th></th>\n",
       "      <th></th>\n",
       "      <th></th>\n",
       "      <th></th>\n",
       "      <th></th>\n",
       "      <th></th>\n",
       "      <th></th>\n",
       "      <th></th>\n",
       "      <th></th>\n",
       "      <th></th>\n",
       "      <th></th>\n",
       "      <th></th>\n",
       "      <th></th>\n",
       "      <th></th>\n",
       "      <th></th>\n",
       "      <th></th>\n",
       "      <th></th>\n",
       "      <th></th>\n",
       "      <th></th>\n",
       "      <th></th>\n",
       "      <th></th>\n",
       "    </tr>\n",
       "  </thead>\n",
       "  <tbody>\n",
       "    <tr>\n",
       "      <th>dcf68cc2fb515ccad7d8b9b3bd80ee2a4b270063</th>\n",
       "      <td>K &gt; 24 month</td>\n",
       "      <td>17000.0</td>\n",
       "      <td>32.0</td>\n",
       "      <td>18000.0</td>\n",
       "      <td>6000.0</td>\n",
       "      <td>34.0</td>\n",
       "      <td>NaN</td>\n",
       "      <td>97.0</td>\n",
       "      <td>355.0</td>\n",
       "      <td>6.0</td>\n",
       "      <td>...</td>\n",
       "      <td>0</td>\n",
       "      <td>0</td>\n",
       "      <td>0</td>\n",
       "      <td>0</td>\n",
       "      <td>0</td>\n",
       "      <td>1</td>\n",
       "      <td>0</td>\n",
       "      <td>0</td>\n",
       "      <td>0</td>\n",
       "      <td>0</td>\n",
       "    </tr>\n",
       "    <tr>\n",
       "      <th>71c44b5ba328db5c4192a80f7cf8f244d9350ed0</th>\n",
       "      <td>K &gt; 24 month</td>\n",
       "      <td>4300.0</td>\n",
       "      <td>29.0</td>\n",
       "      <td>4427.0</td>\n",
       "      <td>1476.0</td>\n",
       "      <td>37.0</td>\n",
       "      <td>1764.0</td>\n",
       "      <td>8.0</td>\n",
       "      <td>3.0</td>\n",
       "      <td>0.0</td>\n",
       "      <td>...</td>\n",
       "      <td>0</td>\n",
       "      <td>0</td>\n",
       "      <td>0</td>\n",
       "      <td>0</td>\n",
       "      <td>0</td>\n",
       "      <td>0</td>\n",
       "      <td>0</td>\n",
       "      <td>0</td>\n",
       "      <td>0</td>\n",
       "      <td>0</td>\n",
       "    </tr>\n",
       "    <tr>\n",
       "      <th>ce46411b1526c94f20a383b8cb188f8d27f82a0a</th>\n",
       "      <td>K &gt; 24 month</td>\n",
       "      <td>1500.0</td>\n",
       "      <td>3.0</td>\n",
       "      <td>1500.0</td>\n",
       "      <td>500.0</td>\n",
       "      <td>3.0</td>\n",
       "      <td>NaN</td>\n",
       "      <td>30.0</td>\n",
       "      <td>30.0</td>\n",
       "      <td>NaN</td>\n",
       "      <td>...</td>\n",
       "      <td>0</td>\n",
       "      <td>0</td>\n",
       "      <td>0</td>\n",
       "      <td>0</td>\n",
       "      <td>0</td>\n",
       "      <td>0</td>\n",
       "      <td>0</td>\n",
       "      <td>1</td>\n",
       "      <td>0</td>\n",
       "      <td>0</td>\n",
       "    </tr>\n",
       "  </tbody>\n",
       "</table>\n",
       "<p>3 rows × 31 columns</p>\n",
       "</div>"
      ],
      "text/plain": [
       "                                                TENURE  MONTANT  \\\n",
       "user_id                                                           \n",
       "dcf68cc2fb515ccad7d8b9b3bd80ee2a4b270063  K > 24 month  17000.0   \n",
       "71c44b5ba328db5c4192a80f7cf8f244d9350ed0  K > 24 month   4300.0   \n",
       "ce46411b1526c94f20a383b8cb188f8d27f82a0a  K > 24 month   1500.0   \n",
       "\n",
       "                                          FREQUENCE_RECH  REVENUE  \\\n",
       "user_id                                                             \n",
       "dcf68cc2fb515ccad7d8b9b3bd80ee2a4b270063            32.0  18000.0   \n",
       "71c44b5ba328db5c4192a80f7cf8f244d9350ed0            29.0   4427.0   \n",
       "ce46411b1526c94f20a383b8cb188f8d27f82a0a             3.0   1500.0   \n",
       "\n",
       "                                          ARPU_SEGMENT  FREQUENCE  \\\n",
       "user_id                                                             \n",
       "dcf68cc2fb515ccad7d8b9b3bd80ee2a4b270063        6000.0       34.0   \n",
       "71c44b5ba328db5c4192a80f7cf8f244d9350ed0        1476.0       37.0   \n",
       "ce46411b1526c94f20a383b8cb188f8d27f82a0a         500.0        3.0   \n",
       "\n",
       "                                          DATA_VOLUME  ON_NET  ORANGE  TIGO  \\\n",
       "user_id                                                                       \n",
       "dcf68cc2fb515ccad7d8b9b3bd80ee2a4b270063          NaN    97.0   355.0   6.0   \n",
       "71c44b5ba328db5c4192a80f7cf8f244d9350ed0       1764.0     8.0     3.0   0.0   \n",
       "ce46411b1526c94f20a383b8cb188f8d27f82a0a          NaN    30.0    30.0   NaN   \n",
       "\n",
       "                                          ...  REGION-KAOLACK  \\\n",
       "user_id                                   ...                   \n",
       "dcf68cc2fb515ccad7d8b9b3bd80ee2a4b270063  ...               0   \n",
       "71c44b5ba328db5c4192a80f7cf8f244d9350ed0  ...               0   \n",
       "ce46411b1526c94f20a383b8cb188f8d27f82a0a  ...               0   \n",
       "\n",
       "                                          REGION-KEDOUGOU REGION-KOLDA  \\\n",
       "user_id                                                                  \n",
       "dcf68cc2fb515ccad7d8b9b3bd80ee2a4b270063                0            0   \n",
       "71c44b5ba328db5c4192a80f7cf8f244d9350ed0                0            0   \n",
       "ce46411b1526c94f20a383b8cb188f8d27f82a0a                0            0   \n",
       "\n",
       "                                          REGION-LOUGA REGION-MATAM  \\\n",
       "user_id                                                               \n",
       "dcf68cc2fb515ccad7d8b9b3bd80ee2a4b270063             0            0   \n",
       "71c44b5ba328db5c4192a80f7cf8f244d9350ed0             0            0   \n",
       "ce46411b1526c94f20a383b8cb188f8d27f82a0a             0            0   \n",
       "\n",
       "                                          REGION-SAINT-LOUIS  REGION-SEDHIOU  \\\n",
       "user_id                                                                        \n",
       "dcf68cc2fb515ccad7d8b9b3bd80ee2a4b270063                   1               0   \n",
       "71c44b5ba328db5c4192a80f7cf8f244d9350ed0                   0               0   \n",
       "ce46411b1526c94f20a383b8cb188f8d27f82a0a                   0               0   \n",
       "\n",
       "                                          REGION-TAMBACOUNDA  REGION-THIES  \\\n",
       "user_id                                                                      \n",
       "dcf68cc2fb515ccad7d8b9b3bd80ee2a4b270063                   0             0   \n",
       "71c44b5ba328db5c4192a80f7cf8f244d9350ed0                   0             0   \n",
       "ce46411b1526c94f20a383b8cb188f8d27f82a0a                   1             0   \n",
       "\n",
       "                                          REGION-ZIGUINCHOR  \n",
       "user_id                                                      \n",
       "dcf68cc2fb515ccad7d8b9b3bd80ee2a4b270063                  0  \n",
       "71c44b5ba328db5c4192a80f7cf8f244d9350ed0                  0  \n",
       "ce46411b1526c94f20a383b8cb188f8d27f82a0a                  0  \n",
       "\n",
       "[3 rows x 31 columns]"
      ]
     },
     "execution_count": 12,
     "metadata": {},
     "output_type": "execute_result"
    }
   ],
   "source": [
    "train.head(3)"
   ]
  },
  {
   "cell_type": "markdown",
   "metadata": {},
   "source": [
    "### TENURE"
   ]
  },
  {
   "cell_type": "code",
   "execution_count": 13,
   "metadata": {},
   "outputs": [
    {
     "data": {
      "text/plain": [
       "K > 24 month     379439\n",
       "I 18-21 month      8312\n",
       "H 15-18 month      4858\n",
       "G 12-15 month      2788\n",
       "J 21-24 month      2325\n",
       "F 9-12 month       1771\n",
       "E 6-9 month         359\n",
       "D 3-6 month         148\n",
       "Name: TENURE, dtype: int64"
      ]
     },
     "execution_count": 13,
     "metadata": {},
     "output_type": "execute_result"
    }
   ],
   "source": [
    "train['TENURE'].value_counts()"
   ]
  },
  {
   "cell_type": "code",
   "execution_count": 14,
   "metadata": {},
   "outputs": [
    {
     "data": {
      "text/plain": [
       "<matplotlib.axes._subplots.AxesSubplot at 0x15a6f92b5c8>"
      ]
     },
     "execution_count": 14,
     "metadata": {},
     "output_type": "execute_result"
    },
    {
     "data": {
      "image/png": "[encoded data removed]",
      "text/plain": [
       "<Figure size 432x288 with 1 Axes>"
      ]
     },
     "metadata": {
      "needs_background": "light"
     },
     "output_type": "display_data"
    }
   ],
   "source": [
    "sns.countplot(x = 'TENURE', hue='CHURN', data = train)"
   ]
  },
  {
   "cell_type": "code",
   "execution_count": 15,
   "metadata": {},
   "outputs": [],
   "source": [
    "def enco(data):\n",
    "    if data == 'K > 24 month':\n",
    "        out = 1\n",
    "    else:\n",
    "        out = 0\n",
    "    return out"
   ]
  },
  {
   "cell_type": "code",
   "execution_count": 16,
   "metadata": {},
   "outputs": [],
   "source": [
    "train['TENURE'] = train['TENURE'].apply(enco)\n",
    "test['TENURE'] = test['TENURE'].apply(enco)"
   ]
  },
  {
   "cell_type": "code",
   "execution_count": 17,
   "metadata": {
    "scrolled": true
   },
   "outputs": [
    {
     "data": {
      "text/plain": [
       "<matplotlib.axes._subplots.AxesSubplot at 0x15a009b2348>"
      ]
     },
     "execution_count": 17,
     "metadata": {},
     "output_type": "execute_result"
    },
    {
     "data": {
      "image/png": "[encoded data removed]",
      "text/plain": [
       "<Figure size 432x288 with 1 Axes>"
      ]
     },
     "metadata": {
      "needs_background": "light"
     },
     "output_type": "display_data"
    }
   ],
   "source": [
    "sns.countplot(x = 'TENURE', hue='CHURN', data = train)"
   ]
  },
  {
   "cell_type": "markdown",
   "metadata": {},
   "source": [
    "### MONTANT"
   ]
  },
  {
   "cell_type": "code",
   "execution_count": 18,
   "metadata": {},
   "outputs": [
    {
     "data": {
      "text/plain": [
       "count    259723.000000\n",
       "mean       5522.971346\n",
       "std        7099.640630\n",
       "min          20.000000\n",
       "25%        1000.000000\n",
       "50%        3000.000000\n",
       "75%        7300.000000\n",
       "max      226550.000000\n",
       "Name: MONTANT, dtype: float64"
      ]
     },
     "execution_count": 18,
     "metadata": {},
     "output_type": "execute_result"
    }
   ],
   "source": [
    "train['MONTANT'].describe()"
   ]
  },
  {
   "cell_type": "code",
   "execution_count": 19,
   "metadata": {},
   "outputs": [
    {
     "data": {
      "text/plain": [
       "140277"
      ]
     },
     "execution_count": 19,
     "metadata": {},
     "output_type": "execute_result"
    }
   ],
   "source": [
    "train['MONTANT'].isnull().sum()"
   ]
  },
  {
   "cell_type": "code",
   "execution_count": 20,
   "metadata": {},
   "outputs": [],
   "source": [
    "train['MONTANT'] = train['MONTANT'].fillna(train['MONTANT'].mode()[0])\n",
    "test['MONTANT'] = test['MONTANT'].fillna(test['MONTANT'].mode()[0])"
   ]
  },
  {
   "cell_type": "code",
   "execution_count": 21,
   "metadata": {},
   "outputs": [
    {
     "data": {
      "text/plain": [
       "500.0      161450\n",
       "1000.0      15519\n",
       "1500.0       8976\n",
       "2000.0       8566\n",
       "200.0        7545\n",
       "            ...  \n",
       "71000.0         1\n",
       "77800.0         1\n",
       "89550.0         1\n",
       "2799.0          1\n",
       "4096.0          1\n",
       "Name: MONTANT, Length: 2421, dtype: int64"
      ]
     },
     "execution_count": 21,
     "metadata": {},
     "output_type": "execute_result"
    }
   ],
   "source": [
    "train['MONTANT'].value_counts()"
   ]
  },
  {
   "cell_type": "code",
   "execution_count": 22,
   "metadata": {},
   "outputs": [],
   "source": [
    "def bin_montant(data, min_val, max_val, range_val):\n",
    "    data_copy = data.copy()\n",
    "    range_of_vals = int(max_val+1 - min_val)\n",
    "    batch_value = int(range_of_vals/range_val)\n",
    "    dict_batch = {}\n",
    "    start, stop = 0,0\n",
    "    for i,j in enumerate(range(0,range_of_vals, batch_value)):\n",
    "        stop = start + batch_value\n",
    "        dict_batch[str(i)] = (start,stop)\n",
    "        start = stop\n",
    "        \n",
    "        if stop <= range_of_vals:\n",
    "            pass\n",
    "        else:\n",
    "            start = stop - batch_value\n",
    "            stop = int(max_val) + 1\n",
    "            \n",
    "            dict_batch[str(i)] = (start,stop)\n",
    "    print(dict_batch)       \n",
    "    bin_out = []       \n",
    "    for k in data_copy:\n",
    "        out = [i for i,(start,stop) in zip(dict_batch.keys(), dict_batch.values()) if int(k) in range(start,stop)]\n",
    "        #print(k,out)\n",
    "        bin_out.append(int(out[0]))\n",
    "    return bin_out\n"
   ]
  },
  {
   "cell_type": "code",
   "execution_count": 23,
   "metadata": {},
   "outputs": [
    {
     "name": "stdout",
     "output_type": "stream",
     "text": [
      "{'0': (0, 7551), '1': (7551, 15102), '2': (15102, 22653), '3': (22653, 30204), '4': (30204, 37755), '5': (37755, 45306), '6': (45306, 52857), '7': (52857, 60408), '8': (60408, 67959), '9': (67959, 75510), '10': (75510, 83061), '11': (83061, 90612), '12': (90612, 98163), '13': (98163, 105714), '14': (105714, 113265), '15': (113265, 120816), '16': (120816, 128367), '17': (128367, 135918), '18': (135918, 143469), '19': (143469, 151020), '20': (151020, 158571), '21': (158571, 166122), '22': (166122, 173673), '23': (173673, 181224), '24': (181224, 188775), '25': (188775, 196326), '26': (196326, 203877), '27': (203877, 211428), '28': (211428, 218979), '29': (218979, 226530), '30': (226530, 226551)}\n",
      "{'0': (0, 6715), '1': (6715, 13430), '2': (13430, 20145), '3': (20145, 26860), '4': (26860, 33575), '5': (33575, 40290), '6': (40290, 47005), '7': (47005, 53720), '8': (53720, 60435), '9': (60435, 67150), '10': (67150, 73865), '11': (73865, 80580), '12': (80580, 87295), '13': (87295, 94010), '14': (94010, 100725), '15': (100725, 107440), '16': (107440, 114155), '17': (114155, 120870), '18': (120870, 127585), '19': (127585, 134300), '20': (134300, 141015), '21': (141015, 147730), '22': (147730, 154445), '23': (154445, 161160), '24': (161160, 167875), '25': (167875, 174590), '26': (174590, 181305), '27': (181305, 188020), '28': (188020, 194735), '29': (194735, 201450), '30': (201450, 201501)}\n"
     ]
    }
   ],
   "source": [
    "montant = bin_montant(train['MONTANT'], train['MONTANT'].min(), train['MONTANT'].max(), 30)\n",
    "montant1 = bin_montant(test['MONTANT'], test['MONTANT'].min(), test['MONTANT'].max(), 30)"
   ]
  },
  {
   "cell_type": "code",
   "execution_count": 24,
   "metadata": {},
   "outputs": [],
   "source": [
    "train['MONTANT_BIN'] = montant\n",
    "test['MONTANT_BIN'] = montant1\n",
    "\n",
    "train.drop('MONTANT', inplace=True, axis=1)\n",
    "test.drop('MONTANT', inplace=True, axis=1)"
   ]
  },
  {
   "cell_type": "code",
   "execution_count": 25,
   "metadata": {},
   "outputs": [
    {
     "data": {
      "text/plain": [
       "<matplotlib.axes._subplots.AxesSubplot at 0x15a01529788>"
      ]
     },
     "execution_count": 25,
     "metadata": {},
     "output_type": "execute_result"
    },
    {
     "data": {
      "image/png": "[encoded data removed]",
      "text/plain": [
       "<Figure size 432x288 with 1 Axes>"
      ]
     },
     "metadata": {
      "needs_background": "light"
     },
     "output_type": "display_data"
    }
   ],
   "source": [
    "sns.countplot(x='MONTANT_BIN', hue='CHURN', data=train)"
   ]
  },
  {
   "cell_type": "code",
   "execution_count": 26,
   "metadata": {},
   "outputs": [],
   "source": [
    "def enco(data):\n",
    "    if data == 0:\n",
    "        out = 1\n",
    "    else:\n",
    "        out = 0\n",
    "    return out\n",
    "\n",
    "train['MONTANT_BIN'] = train['MONTANT_BIN'].apply(enco)\n",
    "test['MONTANT_BIN'] = test['MONTANT_BIN'].apply(enco)"
   ]
  },
  {
   "cell_type": "code",
   "execution_count": 27,
   "metadata": {},
   "outputs": [
    {
     "data": {
      "text/plain": [
       "<matplotlib.axes._subplots.AxesSubplot at 0x15a0063d888>"
      ]
     },
     "execution_count": 27,
     "metadata": {},
     "output_type": "execute_result"
    },
    {
     "data": {
      "image/png": "[encoded data removed]",
      "text/plain": [
       "<Figure size 432x288 with 1 Axes>"
      ]
     },
     "metadata": {
      "needs_background": "light"
     },
     "output_type": "display_data"
    }
   ],
   "source": [
    "sns.countplot(x ='MONTANT_BIN', hue='CHURN', data = train)"
   ]
  },
  {
   "cell_type": "markdown",
   "metadata": {},
   "source": [
    "### FREQUENCE_RECH"
   ]
  },
  {
   "cell_type": "code",
   "execution_count": 28,
   "metadata": {},
   "outputs": [
    {
     "data": {
      "text/plain": [
       "count    259723.000000\n",
       "mean         11.503733\n",
       "std          13.275514\n",
       "min           1.000000\n",
       "25%           2.000000\n",
       "50%           6.000000\n",
       "75%          15.000000\n",
       "max         133.000000\n",
       "Name: FREQUENCE_RECH, dtype: float64"
      ]
     },
     "execution_count": 28,
     "metadata": {},
     "output_type": "execute_result"
    }
   ],
   "source": [
    "train['FREQUENCE_RECH'].describe()"
   ]
  },
  {
   "cell_type": "code",
   "execution_count": 29,
   "metadata": {},
   "outputs": [
    {
     "data": {
      "text/plain": [
       "140277"
      ]
     },
     "execution_count": 29,
     "metadata": {},
     "output_type": "execute_result"
    }
   ],
   "source": [
    "train['FREQUENCE_RECH'].isnull().sum()"
   ]
  },
  {
   "cell_type": "code",
   "execution_count": 30,
   "metadata": {},
   "outputs": [],
   "source": [
    "train['FREQUENCE_RECH'] = train['FREQUENCE_RECH'].fillna(train['FREQUENCE_RECH'].mean())\n",
    "test['FREQUENCE_RECH'] = test['FREQUENCE_RECH'].fillna(test['FREQUENCE_RECH'].mean())\n"
   ]
  },
  {
   "cell_type": "code",
   "execution_count": 31,
   "metadata": {},
   "outputs": [],
   "source": [
    "train['FREQUENCE_RECH'] = train['FREQUENCE_RECH'].round()\n",
    "test['FREQUENCE_RECH'] = test['FREQUENCE_RECH'].round()"
   ]
  },
  {
   "cell_type": "code",
   "execution_count": 32,
   "metadata": {},
   "outputs": [],
   "source": [
    "def bin_freq_rech(data, min_val, max_val, range_val):\n",
    "    data_copy = data.copy()\n",
    "    range_of_vals = int(max_val+1 - min_val)\n",
    "    batch_value = int(range_of_vals/range_val)\n",
    "    dict_batch = {}\n",
    "    start, stop = 0,0\n",
    "    for i,j in enumerate(range(0,range_of_vals, batch_value)):\n",
    "        stop = start + batch_value\n",
    "        dict_batch[str(i)] = (start,stop)\n",
    "        start = stop\n",
    "        \n",
    "        if stop <= range_of_vals:\n",
    "            pass\n",
    "        else:\n",
    "            start = stop - batch_value\n",
    "            stop = int(max_val) + 1\n",
    "            \n",
    "            dict_batch[str(i)] = (start,stop)\n",
    "    print(dict_batch)       \n",
    "    bin_out = []       \n",
    "    for k in data_copy:\n",
    "        out = [i for i,(start,stop) in zip(dict_batch.keys(), dict_batch.values()) if int(k) in range(start,stop)]\n",
    "        #print(k,out)\n",
    "        bin_out.append(int(out[0]))\n",
    "    return bin_out"
   ]
  },
  {
   "cell_type": "code",
   "execution_count": 33,
   "metadata": {},
   "outputs": [
    {
     "name": "stdout",
     "output_type": "stream",
     "text": [
      "{'0': (0, 13), '1': (13, 26), '2': (26, 39), '3': (39, 52), '4': (52, 65), '5': (65, 78), '6': (78, 91), '7': (91, 104), '8': (104, 117), '9': (117, 130), '10': (130, 134)}\n",
      "{'0': (0, 13), '1': (13, 26), '2': (26, 39), '3': (39, 52), '4': (52, 65), '5': (65, 78), '6': (78, 91), '7': (91, 104), '8': (104, 117), '9': (117, 121)}\n"
     ]
    }
   ],
   "source": [
    "freq_out = bin_freq_rech(train['FREQUENCE_RECH'], 1, 133, 10)\n",
    "freq_out1 = bin_freq_rech(test['FREQUENCE_RECH'], 1, 120, 9)"
   ]
  },
  {
   "cell_type": "code",
   "execution_count": 34,
   "metadata": {},
   "outputs": [],
   "source": [
    "train['FREQ_BIN'] = freq_out\n",
    "test['FREQ_BIN'] =freq_out1"
   ]
  },
  {
   "cell_type": "code",
   "execution_count": 35,
   "metadata": {},
   "outputs": [
    {
     "data": {
      "text/plain": [
       "<matplotlib.axes._subplots.AxesSubplot at 0x15a000206c8>"
      ]
     },
     "execution_count": 35,
     "metadata": {},
     "output_type": "execute_result"
    },
    {
     "data": {
      "image/png": "[encoded data removed]",
      "text/plain": [
       "<Figure size 432x288 with 1 Axes>"
      ]
     },
     "metadata": {
      "needs_background": "light"
     },
     "output_type": "display_data"
    }
   ],
   "source": [
    "sns.countplot(x='FREQ_BIN', hue='CHURN', data=train)"
   ]
  },
  {
   "cell_type": "code",
   "execution_count": 36,
   "metadata": {},
   "outputs": [],
   "source": [
    "def enco(data):\n",
    "    if data == 0:\n",
    "        out = 1\n",
    "    else:\n",
    "        out =0\n",
    "    return out"
   ]
  },
  {
   "cell_type": "code",
   "execution_count": 37,
   "metadata": {},
   "outputs": [],
   "source": [
    "train['FREQ_BIN'] = train['FREQ_BIN'].apply(enco)\n",
    "test['FREQ_BIN'] = test['FREQ_BIN'].apply(enco)"
   ]
  },
  {
   "cell_type": "code",
   "execution_count": 38,
   "metadata": {},
   "outputs": [],
   "source": [
    "train.drop('FREQUENCE_RECH', inplace=True, axis=1)\n",
    "test.drop('FREQUENCE_RECH', inplace=True, axis=1)"
   ]
  },
  {
   "cell_type": "code",
   "execution_count": 39,
   "metadata": {},
   "outputs": [
    {
     "data": {
      "text/plain": [
       "<matplotlib.axes._subplots.AxesSubplot at 0x15a000548c8>"
      ]
     },
     "execution_count": 39,
     "metadata": {},
     "output_type": "execute_result"
    },
    {
     "data": {
      "image/png": "[encoded data removed]",
      "text/plain": [
       "<Figure size 432x288 with 1 Axes>"
      ]
     },
     "metadata": {
      "needs_background": "light"
     },
     "output_type": "display_data"
    }
   ],
   "source": [
    "sns.countplot(x='FREQ_BIN', hue='CHURN', data=train)"
   ]
  },
  {
   "cell_type": "markdown",
   "metadata": {},
   "source": [
    "#### REVENUE"
   ]
  },
  {
   "cell_type": "code",
   "execution_count": 40,
   "metadata": {},
   "outputs": [
    {
     "data": {
      "text/plain": [
       "count    265337.000000\n",
       "mean       5505.487757\n",
       "std        7175.802367\n",
       "min           1.000000\n",
       "25%        1000.000000\n",
       "50%        3000.000000\n",
       "75%        7340.000000\n",
       "max      233413.000000\n",
       "Name: REVENUE, dtype: float64"
      ]
     },
     "execution_count": 40,
     "metadata": {},
     "output_type": "execute_result"
    }
   ],
   "source": [
    "train['REVENUE'].describe()"
   ]
  },
  {
   "cell_type": "code",
   "execution_count": 41,
   "metadata": {},
   "outputs": [
    {
     "data": {
      "text/plain": [
       "134663"
      ]
     },
     "execution_count": 41,
     "metadata": {},
     "output_type": "execute_result"
    }
   ],
   "source": [
    "train['REVENUE'].isnull().sum()"
   ]
  },
  {
   "cell_type": "code",
   "execution_count": 42,
   "metadata": {},
   "outputs": [],
   "source": [
    "train['REVENUE'] = train['REVENUE'].fillna(train['REVENUE'].mean())\n",
    "test['REVENUE'] = test['REVENUE'].fillna(test['REVENUE'].mean())"
   ]
  },
  {
   "cell_type": "code",
   "execution_count": 43,
   "metadata": {},
   "outputs": [
    {
     "data": {
      "text/plain": [
       "user_id\n",
       "dcf68cc2fb515ccad7d8b9b3bd80ee2a4b270063    18000.000000\n",
       "71c44b5ba328db5c4192a80f7cf8f244d9350ed0     4427.000000\n",
       "ce46411b1526c94f20a383b8cb188f8d27f82a0a     1500.000000\n",
       "f467cdb6669818373c26c2bad44e01ba66f97d21     2497.000000\n",
       "ec45e1a1888a32b5dcce0954cfec20c6e037db31      498.000000\n",
       "                                                ...     \n",
       "a892ad4ed0eda8dc721733200c47147763b183ec      704.000000\n",
       "13daa3a651bf0192a413b339c4766aeafc6d1636     5505.487757\n",
       "767f596aee426962f7d92f4de8d7b232cdc17568      699.000000\n",
       "b831e4d3b59a1e294e9e0a2aab391bc12d50845c        9.000000\n",
       "a80e3a164986e489102cfb538fa62e16ecc28adf     5505.487757\n",
       "Name: REVENUE, Length: 400000, dtype: float64"
      ]
     },
     "execution_count": 43,
     "metadata": {},
     "output_type": "execute_result"
    }
   ],
   "source": [
    "train['REVENUE']"
   ]
  },
  {
   "cell_type": "code",
   "execution_count": 44,
   "metadata": {},
   "outputs": [],
   "source": [
    "train['REVENUE'] = np.log1p(train['REVENUE'])\n",
    "test['REVENUE'] = np.log1p(test['REVENUE'])"
   ]
  },
  {
   "cell_type": "markdown",
   "metadata": {},
   "source": [
    "### ARPU_SEGMENT"
   ]
  },
  {
   "cell_type": "code",
   "execution_count": 45,
   "metadata": {},
   "outputs": [
    {
     "data": {
      "text/plain": [
       "count    265337.000000\n",
       "mean       1835.167658\n",
       "std        2391.929290\n",
       "min           0.000000\n",
       "25%         333.000000\n",
       "50%        1000.000000\n",
       "75%        2447.000000\n",
       "max       77804.000000\n",
       "Name: ARPU_SEGMENT, dtype: float64"
      ]
     },
     "execution_count": 45,
     "metadata": {},
     "output_type": "execute_result"
    }
   ],
   "source": [
    "train['ARPU_SEGMENT'].describe()"
   ]
  },
  {
   "cell_type": "code",
   "execution_count": 46,
   "metadata": {},
   "outputs": [
    {
     "data": {
      "text/plain": [
       "134663"
      ]
     },
     "execution_count": 46,
     "metadata": {},
     "output_type": "execute_result"
    }
   ],
   "source": [
    "train['ARPU_SEGMENT'].isnull().sum()"
   ]
  },
  {
   "cell_type": "code",
   "execution_count": 47,
   "metadata": {},
   "outputs": [],
   "source": [
    "train['ARPU_SEGMENT'] = train['ARPU_SEGMENT'].fillna(train['ARPU_SEGMENT'].mean())\n",
    "test['ARPU_SEGMENT'] = test['ARPU_SEGMENT'].fillna(test['ARPU_SEGMENT'].mean())"
   ]
  },
  {
   "cell_type": "code",
   "execution_count": 48,
   "metadata": {},
   "outputs": [],
   "source": [
    "train['ARPU_SEGMENT'] = np.log1p(train['ARPU_SEGMENT'])\n",
    "test['ARPU_SEGMENT'] = np.log1p(test['ARPU_SEGMENT'])"
   ]
  },
  {
   "cell_type": "markdown",
   "metadata": {},
   "source": [
    "### FREQUENCE"
   ]
  },
  {
   "cell_type": "code",
   "execution_count": 49,
   "metadata": {},
   "outputs": [
    {
     "data": {
      "image/png": "[encoded data removed]",
      "text/plain": [
       "<Figure size 432x288 with 1 Axes>"
      ]
     },
     "metadata": {
      "needs_background": "light"
     },
     "output_type": "display_data"
    }
   ],
   "source": [
    "sns.countplot(x='FREQUENCE', hue='CHURN', data=train)\n",
    "plt.show()"
   ]
  },
  {
   "cell_type": "code",
   "execution_count": 50,
   "metadata": {},
   "outputs": [],
   "source": [
    "train['FREQUENCE'] = train['FREQUENCE'].fillna(train['FREQUENCE'].median())\n",
    "test['FREQUENCE'] = test['FREQUENCE'].fillna(test['FREQUENCE'].median())"
   ]
  },
  {
   "cell_type": "code",
   "execution_count": 51,
   "metadata": {},
   "outputs": [],
   "source": [
    "def bin_freq(data, min_val, max_val, range_val):\n",
    "    data_copy = data.copy()\n",
    "    range_of_vals = int(max_val+1 - min_val)\n",
    "    batch_value = int(range_of_vals/range_val)\n",
    "    dict_batch = {}\n",
    "    start, stop = 0,0\n",
    "    for i,j in enumerate(range(0,range_of_vals, batch_value)):\n",
    "        stop = start + batch_value\n",
    "        dict_batch[str(i)] = (start,stop)\n",
    "        start = stop\n",
    "        \n",
    "        if stop <= range_of_vals:\n",
    "            pass\n",
    "        else:\n",
    "            start = stop - batch_value\n",
    "            stop = int(max_val) + 1\n",
    "            \n",
    "            dict_batch[str(i)] = (start,stop)\n",
    "    print(dict_batch)       \n",
    "    bin_out = []       \n",
    "    for k in data_copy:\n",
    "        out = [i for i,(start,stop) in zip(dict_batch.keys(), dict_batch.values()) if int(k) in range(start,stop)]\n",
    "        #print(k,out)\n",
    "        bin_out.append(int(out[0]))\n",
    "    return bin_out\n"
   ]
  },
  {
   "cell_type": "code",
   "execution_count": 52,
   "metadata": {},
   "outputs": [
    {
     "name": "stdout",
     "output_type": "stream",
     "text": [
      "{'0': (0, 10), '1': (10, 20), '2': (20, 30), '3': (30, 40), '4': (40, 50), '5': (50, 60), '6': (60, 70), '7': (70, 80), '8': (80, 90), '9': (90, 92)}\n",
      "{'0': (0, 10), '1': (10, 20), '2': (20, 30), '3': (30, 40), '4': (40, 50), '5': (50, 60), '6': (60, 70), '7': (70, 80), '8': (80, 90), '9': (90, 92)}\n"
     ]
    }
   ],
   "source": [
    "freq1 = bin_freq(train['FREQUENCE'], train['FREQUENCE'].min(), train['FREQUENCE'].max(), 9)\n",
    "freq2 = bin_freq(test['FREQUENCE'], test['FREQUENCE'].min(), test['FREQUENCE'].max(), 9)"
   ]
  },
  {
   "cell_type": "code",
   "execution_count": 53,
   "metadata": {},
   "outputs": [],
   "source": [
    "train['FREQ_BIN'] = freq1\n",
    "test['FREQ_BIN'] = freq2"
   ]
  },
  {
   "cell_type": "code",
   "execution_count": 54,
   "metadata": {},
   "outputs": [
    {
     "data": {
      "text/plain": [
       "<matplotlib.axes._subplots.AxesSubplot at 0x15a00804d48>"
      ]
     },
     "execution_count": 54,
     "metadata": {},
     "output_type": "execute_result"
    },
    {
     "data": {
      "image/png": "[encoded data removed]",
      "text/plain": [
       "<Figure size 432x288 with 1 Axes>"
      ]
     },
     "metadata": {
      "needs_background": "light"
     },
     "output_type": "display_data"
    }
   ],
   "source": [
    "sns.countplot(x='FREQ_BIN', hue='CHURN', data=train)"
   ]
  },
  {
   "cell_type": "code",
   "execution_count": 55,
   "metadata": {},
   "outputs": [],
   "source": [
    "def enco(data):\n",
    "    if data == 0:\n",
    "        out = 1\n",
    "    elif data == 1:\n",
    "        out = 1\n",
    "    else:\n",
    "        out = 0\n",
    "    return out"
   ]
  },
  {
   "cell_type": "code",
   "execution_count": 56,
   "metadata": {},
   "outputs": [],
   "source": [
    "train['FREQ_BIN'] = train['FREQ_BIN'].apply(enco)\n",
    "test['FREQ_BIN'] = test['FREQ_BIN'].apply(enco)"
   ]
  },
  {
   "cell_type": "code",
   "execution_count": 57,
   "metadata": {},
   "outputs": [],
   "source": [
    "train.drop('FREQUENCE', inplace=True, axis =1)\n",
    "test.drop('FREQUENCE', inplace=True, axis =1)"
   ]
  },
  {
   "cell_type": "markdown",
   "metadata": {},
   "source": [
    "### DATA_VOLUME"
   ]
  },
  {
   "cell_type": "code",
   "execution_count": 58,
   "metadata": {},
   "outputs": [
    {
     "data": {
      "text/plain": [
       "196854"
      ]
     },
     "execution_count": 58,
     "metadata": {},
     "output_type": "execute_result"
    }
   ],
   "source": [
    "train['DATA_VOLUME'].isna().sum()"
   ]
  },
  {
   "cell_type": "code",
   "execution_count": 59,
   "metadata": {},
   "outputs": [],
   "source": [
    "train['DATA_VOLUME'] = train['DATA_VOLUME'].fillna(train['DATA_VOLUME'].median())\n",
    "test['DATA_VOLUME'] = test['DATA_VOLUME'].fillna(test['DATA_VOLUME'].median())"
   ]
  },
  {
   "cell_type": "code",
   "execution_count": 60,
   "metadata": {},
   "outputs": [],
   "source": [
    "train['DATA_VOLUME'] = np.log1p(train['DATA_VOLUME'])\n",
    "test['DATA_VOLUME'] = np.log1p(test['DATA_VOLUME'])"
   ]
  },
  {
   "cell_type": "markdown",
   "metadata": {},
   "source": [
    "### ON_NET"
   ]
  },
  {
   "cell_type": "code",
   "execution_count": 61,
   "metadata": {},
   "outputs": [],
   "source": [
    "train['ON_NET'] = train['ON_NET'].fillna(train['ON_NET'].median())\n",
    "test['ON_NET'] = test['ON_NET'].fillna(test['ON_NET'].median())"
   ]
  },
  {
   "cell_type": "code",
   "execution_count": 62,
   "metadata": {},
   "outputs": [],
   "source": [
    "train['ON_NET']= np.log1p(train['ON_NET'])\n",
    "test['ON_NET']= np.log1p(test['ON_NET'])\n"
   ]
  },
  {
   "cell_type": "code",
   "execution_count": 63,
   "metadata": {},
   "outputs": [
    {
     "data": {
      "text/plain": [
       "<matplotlib.axes._subplots.AxesSubplot at 0x15a0141a908>"
      ]
     },
     "execution_count": 63,
     "metadata": {},
     "output_type": "execute_result"
    },
    {
     "data": {
      "image/png": "[encoded data removed]",
      "text/plain": [
       "<Figure size 432x288 with 1 Axes>"
      ]
     },
     "metadata": {
      "needs_background": "light"
     },
     "output_type": "display_data"
    }
   ],
   "source": [
    "sns.distplot(train['ON_NET'])"
   ]
  },
  {
   "cell_type": "markdown",
   "metadata": {},
   "source": [
    "### ORANGE"
   ]
  },
  {
   "cell_type": "code",
   "execution_count": 64,
   "metadata": {},
   "outputs": [],
   "source": [
    "train['ORANGE'] = train['ORANGE'].fillna(train['ORANGE'].median())\n",
    "test['ORANGE'] = test['ORANGE'].fillna(test['ORANGE'].median())"
   ]
  },
  {
   "cell_type": "code",
   "execution_count": 65,
   "metadata": {},
   "outputs": [],
   "source": [
    "train['ORANGE'] = np.log1p(train['ORANGE'])\n",
    "test['ORANGE'] = np.log1p(test['ORANGE'])"
   ]
  },
  {
   "cell_type": "code",
   "execution_count": 66,
   "metadata": {},
   "outputs": [],
   "source": [
    "def bin_orange(data, min_val, max_val, range_val):\n",
    "    data_copy = data.copy()\n",
    "    range_of_vals = int(max_val+1 - min_val)\n",
    "    batch_value = int(range_of_vals/range_val)\n",
    "    dict_batch = {}\n",
    "    start, stop = 0,0\n",
    "    for i,j in enumerate(range(0,range_of_vals, batch_value)):\n",
    "        stop = start + batch_value\n",
    "        dict_batch[str(i)] = (start,stop)\n",
    "        start = stop\n",
    "        \n",
    "        if stop <= range_of_vals:\n",
    "            pass\n",
    "        else:\n",
    "            start = stop - batch_value\n",
    "            stop = int(max_val) + 1\n",
    "            \n",
    "            dict_batch[str(i)] = (start,stop)\n",
    "    print(dict_batch)       \n",
    "    bin_out = []       \n",
    "    for k in data_copy:\n",
    "        out = [i for i,(start,stop) in zip(dict_batch.keys(), dict_batch.values()) if int(k) in range(start,stop)]\n",
    "        #print(k,out)\n",
    "        bin_out.append(int(out[0]))\n",
    "    return bin_out\n"
   ]
  },
  {
   "cell_type": "code",
   "execution_count": 67,
   "metadata": {},
   "outputs": [
    {
     "name": "stdout",
     "output_type": "stream",
     "text": [
      "{'0': (0, 1), '1': (1, 2), '2': (2, 3), '3': (3, 4), '4': (4, 5), '5': (5, 6), '6': (6, 7), '7': (7, 8), '8': (8, 9)}\n",
      "{'0': (0, 1), '1': (1, 2), '2': (2, 3), '3': (3, 4), '4': (4, 5), '5': (5, 6), '6': (6, 7), '7': (7, 8), '8': (8, 9)}\n"
     ]
    }
   ],
   "source": [
    "orange = bin_orange(train['ORANGE'], train['ORANGE'].min(), train['ORANGE'].max(), 8)\n",
    "orange1 = bin_orange(test['ORANGE'], test['ORANGE'].min(), test['ORANGE'].max(), 8)"
   ]
  },
  {
   "cell_type": "code",
   "execution_count": 68,
   "metadata": {},
   "outputs": [
    {
     "data": {
      "text/plain": [
       "<matplotlib.axes._subplots.AxesSubplot at 0x15a00106348>"
      ]
     },
     "execution_count": 68,
     "metadata": {},
     "output_type": "execute_result"
    },
    {
     "data": {
      "image/png": "[encoded data removed]",
      "text/plain": [
       "<Figure size 432x288 with 1 Axes>"
      ]
     },
     "metadata": {
      "needs_background": "light"
     },
     "output_type": "display_data"
    }
   ],
   "source": [
    "train['ORANGE'] = orange\n",
    "test['ORANGE'] = orange1\n",
    "sns.countplot(x=train['ORANGE'], hue='CHURN', data=train)"
   ]
  },
  {
   "cell_type": "markdown",
   "metadata": {},
   "source": [
    "### TIGO"
   ]
  },
  {
   "cell_type": "code",
   "execution_count": 69,
   "metadata": {},
   "outputs": [],
   "source": [
    "train['TIGO'] = train['TIGO'].fillna(train['TIGO'].mean())\n",
    "test['TIGO'] = test['TIGO'].fillna(test['TIGO'].mean())"
   ]
  },
  {
   "cell_type": "code",
   "execution_count": 70,
   "metadata": {},
   "outputs": [],
   "source": [
    "train['TIGO'] = np.round(train['TIGO'])\n",
    "test['TIGO'] = np.round(test['TIGO'])"
   ]
  },
  {
   "cell_type": "code",
   "execution_count": 71,
   "metadata": {
    "scrolled": true
   },
   "outputs": [
    {
     "data": {
      "text/plain": [
       "23.0      240662\n",
       "1.0        20808\n",
       "0.0        17828\n",
       "2.0        13450\n",
       "3.0         9910\n",
       "           ...  \n",
       "419.0          1\n",
       "1602.0         1\n",
       "926.0          1\n",
       "1219.0         1\n",
       "568.0          1\n",
       "Name: TIGO, Length: 805, dtype: int64"
      ]
     },
     "execution_count": 71,
     "metadata": {},
     "output_type": "execute_result"
    }
   ],
   "source": [
    "train['TIGO'].value_counts()"
   ]
  },
  {
   "cell_type": "code",
   "execution_count": 72,
   "metadata": {},
   "outputs": [],
   "source": [
    "def bin_tigo(data, min_val, max_val, range_val):\n",
    "    data_copy = data.copy()\n",
    "    range_of_vals = int(max_val+1 - min_val)\n",
    "    batch_value = int(range_of_vals/range_val)\n",
    "    dict_batch = {}\n",
    "    start, stop = 0,0\n",
    "    for i,j in enumerate(range(0,range_of_vals, batch_value)):\n",
    "        stop = start + batch_value\n",
    "        dict_batch[str(i)] = (start,stop)\n",
    "        start = stop\n",
    "        \n",
    "        if stop <= range_of_vals:\n",
    "            pass\n",
    "        else:\n",
    "            start = stop - batch_value\n",
    "            stop = int(max_val) + 1\n",
    "            \n",
    "            dict_batch[str(i)] = (start,stop)\n",
    "    print(dict_batch)       \n",
    "    bin_out = []       \n",
    "    for k in data_copy:\n",
    "        out = [i for i,(start,stop) in zip(dict_batch.keys(), dict_batch.values()) if int(k) in range(start,stop)]\n",
    "        #print(k,out)\n",
    "        bin_out.append(int(out[0]))\n",
    "    return bin_out\n"
   ]
  },
  {
   "cell_type": "code",
   "execution_count": 73,
   "metadata": {},
   "outputs": [
    {
     "name": "stdout",
     "output_type": "stream",
     "text": [
      "{'0': (0, 275), '1': (275, 550), '2': (550, 825), '3': (825, 1100), '4': (1100, 1375), '5': (1375, 1650), '6': (1650, 1925), '7': (1925, 2200), '8': (2200, 2475), '9': (2475, 2750), '10': (2750, 2759)}\n",
      "{'0': (0, 308), '1': (308, 616), '2': (616, 924), '3': (924, 1232), '4': (1232, 1540), '5': (1540, 1848), '6': (1848, 2156), '7': (2156, 2464), '8': (2464, 2772), '9': (2772, 3080), '10': (3080, 3084)}\n"
     ]
    }
   ],
   "source": [
    "tigo = bin_tigo(train['TIGO'], train['TIGO'].min(), train['TIGO'].max(), 10)\n",
    "tigo1 = bin_tigo(test['TIGO'], test['TIGO'].min(), test['TIGO'].max(), 10)"
   ]
  },
  {
   "cell_type": "code",
   "execution_count": 74,
   "metadata": {},
   "outputs": [],
   "source": [
    "train['TIGO'] = tigo\n",
    "test['TIGO'] = tigo1"
   ]
  },
  {
   "cell_type": "code",
   "execution_count": 75,
   "metadata": {},
   "outputs": [
    {
     "data": {
      "text/plain": [
       "<matplotlib.axes._subplots.AxesSubplot at 0x15a0014e988>"
      ]
     },
     "execution_count": 75,
     "metadata": {},
     "output_type": "execute_result"
    },
    {
     "data": {
      "image/png": "[encoded data removed]",
      "text/plain": [
       "<Figure size 432x288 with 1 Axes>"
      ]
     },
     "metadata": {
      "needs_background": "light"
     },
     "output_type": "display_data"
    }
   ],
   "source": [
    "sns.countplot(x=train['TIGO'], hue='CHURN', data=train)"
   ]
  },
  {
   "cell_type": "code",
   "execution_count": 76,
   "metadata": {},
   "outputs": [],
   "source": [
    "def enco(data):\n",
    "    if data == 0:\n",
    "        out = 1\n",
    "    else:\n",
    "        out = 0\n",
    "    return out\n",
    "\n",
    "train['TIGO'] = train['TIGO'].apply(enco)\n",
    "test['TIGO'] = test['TIGO'].apply(enco)"
   ]
  },
  {
   "cell_type": "code",
   "execution_count": 77,
   "metadata": {},
   "outputs": [
    {
     "data": {
      "text/plain": [
       "<matplotlib.axes._subplots.AxesSubplot at 0x15a001f5688>"
      ]
     },
     "execution_count": 77,
     "metadata": {},
     "output_type": "execute_result"
    },
    {
     "data": {
      "image/png": "[encoded data removed]",
      "text/plain": [
       "<Figure size 432x288 with 1 Axes>"
      ]
     },
     "metadata": {
      "needs_background": "light"
     },
     "output_type": "display_data"
    }
   ],
   "source": [
    "sns.countplot(x='TIGO', hue='CHURN', data=train)"
   ]
  },
  {
   "cell_type": "code",
   "execution_count": 78,
   "metadata": {},
   "outputs": [],
   "source": [
    "to_drop1 = ['ZONE1', 'ZONE2', 'MRG']\n",
    "\n",
    "train.drop(to_drop1, inplace=True, axis=1)\n",
    "test.drop(to_drop1, inplace=True, axis=1)"
   ]
  },
  {
   "cell_type": "markdown",
   "metadata": {},
   "source": [
    "### REGULARITY"
   ]
  },
  {
   "cell_type": "code",
   "execution_count": 79,
   "metadata": {},
   "outputs": [],
   "source": [
    "def bin_regu(data, min_val, max_val, range_val):\n",
    "    data_copy = data.copy()\n",
    "    range_of_vals = int(max_val+1 - min_val)\n",
    "    batch_value = int(range_of_vals/range_val)\n",
    "    dict_batch = {}\n",
    "    start, stop = 0,0\n",
    "    for i,j in enumerate(range(0,range_of_vals, batch_value)):\n",
    "        stop = start + batch_value\n",
    "        dict_batch[str(i)] = (start,stop)\n",
    "        start = stop\n",
    "        \n",
    "        if stop <= range_of_vals:\n",
    "            pass\n",
    "        else:\n",
    "            start = stop - batch_value\n",
    "            stop = int(max_val) + 1\n",
    "            \n",
    "            dict_batch[str(i)] = (start,stop)\n",
    "    print(dict_batch)       \n",
    "    bin_out = []       \n",
    "    for k in data_copy:\n",
    "        out = [i for i,(start,stop) in zip(dict_batch.keys(), dict_batch.values()) if int(k) in range(start,stop)]\n",
    "        #print(k,out)\n",
    "        bin_out.append(int(out[0]))\n",
    "    return bin_out\n"
   ]
  },
  {
   "cell_type": "code",
   "execution_count": 80,
   "metadata": {},
   "outputs": [
    {
     "name": "stdout",
     "output_type": "stream",
     "text": [
      "{'0': (0, 10), '1': (10, 20), '2': (20, 30), '3': (30, 40), '4': (40, 50), '5': (50, 60), '6': (60, 63)}\n",
      "{'0': (0, 10), '1': (10, 20), '2': (20, 30), '3': (30, 40), '4': (40, 50), '5': (50, 60), '6': (60, 63)}\n"
     ]
    }
   ],
   "source": [
    "regu = bin_regu(train['REGULARITY'], train['REGULARITY'].min(), train['REGULARITY'].max(), 6)\n",
    "regu1 = bin_regu(test['REGULARITY'], test['REGULARITY'].min(), test['REGULARITY'].max(), 6)"
   ]
  },
  {
   "cell_type": "code",
   "execution_count": 81,
   "metadata": {},
   "outputs": [],
   "source": [
    "train['REGULARITY'] = regu\n",
    "test['REGULARITY'] = regu1\n"
   ]
  },
  {
   "cell_type": "code",
   "execution_count": 82,
   "metadata": {},
   "outputs": [
    {
     "data": {
      "text/plain": [
       "<matplotlib.axes._subplots.AxesSubplot at 0x15a00b83fc8>"
      ]
     },
     "execution_count": 82,
     "metadata": {},
     "output_type": "execute_result"
    },
    {
     "data": {
      "image/png": "[encoded data removed]",
      "text/plain": [
       "<Figure size 432x288 with 1 Axes>"
      ]
     },
     "metadata": {
      "needs_background": "light"
     },
     "output_type": "display_data"
    }
   ],
   "source": [
    "sns.countplot(x='REGULARITY', hue='CHURN', data=train)"
   ]
  },
  {
   "cell_type": "markdown",
   "metadata": {},
   "source": [
    "### TOP_PACK"
   ]
  },
  {
   "cell_type": "code",
   "execution_count": 83,
   "metadata": {},
   "outputs": [],
   "source": [
    "train.drop('TOP_PACK', axis=1, inplace=True)\n",
    "test.drop('TOP_PACK', axis=1, inplace=True)"
   ]
  },
  {
   "cell_type": "markdown",
   "metadata": {},
   "source": [
    "### FREQ_TOP_PACK"
   ]
  },
  {
   "cell_type": "code",
   "execution_count": 84,
   "metadata": {},
   "outputs": [],
   "source": [
    "train['FREQ_TOP_PACK'].fillna(train['FREQ_TOP_PACK'].mean(), inplace=True)\n",
    "test['FREQ_TOP_PACK'].fillna(test['FREQ_TOP_PACK'].mean(), inplace=True)"
   ]
  },
  {
   "cell_type": "code",
   "execution_count": 85,
   "metadata": {},
   "outputs": [
    {
     "data": {
      "text/plain": [
       "TENURE                0\n",
       "REVENUE               0\n",
       "ARPU_SEGMENT          0\n",
       "DATA_VOLUME           0\n",
       "ON_NET                0\n",
       "ORANGE                0\n",
       "TIGO                  0\n",
       "REGULARITY            0\n",
       "FREQ_TOP_PACK         0\n",
       "CHURN                 0\n",
       "REGION-DAKAR          0\n",
       "REGION-DIOURBEL       0\n",
       "REGION-FATICK         0\n",
       "REGION-KAFFRINE       0\n",
       "REGION-KAOLACK        0\n",
       "REGION-KEDOUGOU       0\n",
       "REGION-KOLDA          0\n",
       "REGION-LOUGA          0\n",
       "REGION-MATAM          0\n",
       "REGION-SAINT-LOUIS    0\n",
       "REGION-SEDHIOU        0\n",
       "REGION-TAMBACOUNDA    0\n",
       "REGION-THIES          0\n",
       "REGION-ZIGUINCHOR     0\n",
       "MONTANT_BIN           0\n",
       "FREQ_BIN              0\n",
       "dtype: int64"
      ]
     },
     "execution_count": 85,
     "metadata": {},
     "output_type": "execute_result"
    }
   ],
   "source": [
    "train.isnull().sum()"
   ]
  },
  {
   "cell_type": "code",
   "execution_count": 86,
   "metadata": {},
   "outputs": [
    {
     "data": {
      "text/plain": [
       "(400000, 26)"
      ]
     },
     "execution_count": 86,
     "metadata": {},
     "output_type": "execute_result"
    }
   ],
   "source": [
    "train_copy = train.copy()\n",
    "train.shape"
   ]
  },
  {
   "cell_type": "code",
   "execution_count": 87,
   "metadata": {},
   "outputs": [],
   "source": [
    "# Extract the Feature Vectors and Target\n",
    "y = train['CHURN'].values\n",
    "train.drop('CHURN', inplace=True, axis=1)\n",
    "X = train.values\n",
    "test_data = test.values"
   ]
  },
  {
   "cell_type": "code",
   "execution_count": 101,
   "metadata": {},
   "outputs": [
    {
     "name": "stdout",
     "output_type": "stream",
     "text": [
      "0:\tlearn: 0.5631774\ttest: 0.5633116\tbest: 0.5633116 (0)\ttotal: 10.2s\tremaining: 2h 49m 55s\n",
      "1:\tlearn: 0.4766136\ttest: 0.4764721\tbest: 0.4764721 (1)\ttotal: 17s\tremaining: 2h 21m 31s\n",
      "2:\tlearn: 0.4205720\ttest: 0.4202920\tbest: 0.4202920 (2)\ttotal: 23.6s\tremaining: 2h 10m 30s\n",
      "3:\tlearn: 0.3824787\ttest: 0.3820434\tbest: 0.3820434 (3)\ttotal: 25.8s\tremaining: 1h 46m 54s\n",
      "4:\tlearn: 0.3558222\ttest: 0.3553859\tbest: 0.3553859 (4)\ttotal: 32.1s\tremaining: 1h 46m 34s\n",
      "5:\tlearn: 0.3373493\ttest: 0.3367997\tbest: 0.3367997 (5)\ttotal: 38.5s\tremaining: 1h 46m 13s\n",
      "6:\tlearn: 0.3243397\ttest: 0.3236489\tbest: 0.3236489 (6)\ttotal: 40.6s\tremaining: 1h 36m 5s\n",
      "7:\tlearn: 0.3150401\ttest: 0.3141184\tbest: 0.3141184 (7)\ttotal: 40.8s\tremaining: 1h 24m 23s\n",
      "8:\tlearn: 0.3079580\ttest: 0.3071366\tbest: 0.3071366 (8)\ttotal: 47.5s\tremaining: 1h 27m 9s\n",
      "9:\tlearn: 0.3025619\ttest: 0.3016769\tbest: 0.3016769 (9)\ttotal: 54.1s\tremaining: 1h 29m 12s\n",
      "10:\tlearn: 0.2981278\ttest: 0.2973914\tbest: 0.2973914 (10)\ttotal: 1m 1s\tremaining: 1h 31m 24s\n",
      "11:\tlearn: 0.2948349\ttest: 0.2943543\tbest: 0.2943543 (11)\ttotal: 1m 7s\tremaining: 1h 33m 3s\n",
      "12:\tlearn: 0.2923723\ttest: 0.2920037\tbest: 0.2920037 (12)\ttotal: 1m 14s\tremaining: 1h 34m 17s\n",
      "13:\tlearn: 0.2903175\ttest: 0.2902009\tbest: 0.2902009 (13)\ttotal: 1m 21s\tremaining: 1h 35m 22s\n",
      "14:\tlearn: 0.2884154\ttest: 0.2885846\tbest: 0.2885846 (14)\ttotal: 1m 27s\tremaining: 1h 35m 44s\n",
      "15:\tlearn: 0.2869208\ttest: 0.2873034\tbest: 0.2873034 (15)\ttotal: 1m 33s\tremaining: 1h 36m 14s\n",
      "16:\tlearn: 0.2858134\ttest: 0.2864011\tbest: 0.2864011 (16)\ttotal: 1m 40s\tremaining: 1h 36m 37s\n",
      "17:\tlearn: 0.2848255\ttest: 0.2857056\tbest: 0.2857056 (17)\ttotal: 1m 46s\tremaining: 1h 36m 48s\n",
      "18:\tlearn: 0.2841721\ttest: 0.2850098\tbest: 0.2850098 (18)\ttotal: 1m 46s\tremaining: 1h 31m 55s\n",
      "19:\tlearn: 0.2834773\ttest: 0.2844728\tbest: 0.2844728 (19)\ttotal: 1m 53s\tremaining: 1h 32m 23s\n",
      "20:\tlearn: 0.2832281\ttest: 0.2841769\tbest: 0.2841769 (20)\ttotal: 1m 53s\tremaining: 1h 27m 59s\n",
      "21:\tlearn: 0.2827517\ttest: 0.2838741\tbest: 0.2838741 (21)\ttotal: 2m\tremaining: 1h 29m 7s\n",
      "22:\tlearn: 0.2820601\ttest: 0.2835326\tbest: 0.2835326 (22)\ttotal: 2m 7s\tremaining: 1h 30m 9s\n",
      "23:\tlearn: 0.2816106\ttest: 0.2833094\tbest: 0.2833094 (23)\ttotal: 2m 13s\tremaining: 1h 30m 37s\n",
      "24:\tlearn: 0.2811609\ttest: 0.2831868\tbest: 0.2831868 (24)\ttotal: 2m 20s\tremaining: 1h 31m 10s\n",
      "25:\tlearn: 0.2808172\ttest: 0.2829594\tbest: 0.2829594 (25)\ttotal: 2m 26s\tremaining: 1h 31m 46s\n",
      "26:\tlearn: 0.2804755\ttest: 0.2827534\tbest: 0.2827534 (26)\ttotal: 2m 33s\tremaining: 1h 32m 16s\n",
      "27:\tlearn: 0.2801531\ttest: 0.2826098\tbest: 0.2826098 (27)\ttotal: 2m 40s\tremaining: 1h 32m 41s\n",
      "28:\tlearn: 0.2798192\ttest: 0.2824691\tbest: 0.2824691 (28)\ttotal: 2m 46s\tremaining: 1h 33m 7s\n",
      "29:\tlearn: 0.2795997\ttest: 0.2823941\tbest: 0.2823941 (29)\ttotal: 2m 53s\tremaining: 1h 33m 27s\n",
      "30:\tlearn: 0.2792732\ttest: 0.2823300\tbest: 0.2823300 (30)\ttotal: 3m\tremaining: 1h 34m 2s\n",
      "31:\tlearn: 0.2790542\ttest: 0.2822913\tbest: 0.2822913 (31)\ttotal: 3m 7s\tremaining: 1h 34m 31s\n",
      "32:\tlearn: 0.2788046\ttest: 0.2822420\tbest: 0.2822420 (32)\ttotal: 3m 14s\tremaining: 1h 35m 9s\n",
      "33:\tlearn: 0.2785475\ttest: 0.2821977\tbest: 0.2821977 (33)\ttotal: 3m 22s\tremaining: 1h 35m 49s\n",
      "34:\tlearn: 0.2784997\ttest: 0.2821301\tbest: 0.2821301 (34)\ttotal: 3m 22s\tremaining: 1h 33m 5s\n",
      "35:\tlearn: 0.2784906\ttest: 0.2821219\tbest: 0.2821219 (35)\ttotal: 3m 22s\tremaining: 1h 30m 28s\n",
      "36:\tlearn: 0.2783950\ttest: 0.2820908\tbest: 0.2820908 (36)\ttotal: 3m 30s\tremaining: 1h 31m 10s\n",
      "37:\tlearn: 0.2781902\ttest: 0.2820664\tbest: 0.2820664 (37)\ttotal: 3m 37s\tremaining: 1h 31m 45s\n",
      "38:\tlearn: 0.2779595\ttest: 0.2820515\tbest: 0.2820515 (38)\ttotal: 3m 44s\tremaining: 1h 32m 21s\n",
      "39:\tlearn: 0.2777459\ttest: 0.2820417\tbest: 0.2820417 (39)\ttotal: 3m 51s\tremaining: 1h 32m 44s\n",
      "40:\tlearn: 0.2776031\ttest: 0.2820286\tbest: 0.2820286 (40)\ttotal: 3m 58s\tremaining: 1h 33m 3s\n",
      "41:\tlearn: 0.2775163\ttest: 0.2820285\tbest: 0.2820285 (41)\ttotal: 4m 5s\tremaining: 1h 33m 21s\n",
      "42:\tlearn: 0.2773649\ttest: 0.2820045\tbest: 0.2820045 (42)\ttotal: 4m 12s\tremaining: 1h 33m 40s\n",
      "43:\tlearn: 0.2772493\ttest: 0.2819929\tbest: 0.2819929 (43)\ttotal: 4m 19s\tremaining: 1h 34m 4s\n",
      "44:\tlearn: 0.2770556\ttest: 0.2819735\tbest: 0.2819735 (44)\ttotal: 4m 27s\tremaining: 1h 34m 33s\n",
      "45:\tlearn: 0.2768747\ttest: 0.2819634\tbest: 0.2819634 (45)\ttotal: 4m 34s\tremaining: 1h 34m 47s\n",
      "46:\tlearn: 0.2767904\ttest: 0.2819730\tbest: 0.2819634 (45)\ttotal: 4m 41s\tremaining: 1h 35m 5s\n",
      "47:\tlearn: 0.2766127\ttest: 0.2819809\tbest: 0.2819634 (45)\ttotal: 4m 48s\tremaining: 1h 35m 24s\n",
      "48:\tlearn: 0.2765466\ttest: 0.2819656\tbest: 0.2819634 (45)\ttotal: 4m 56s\tremaining: 1h 35m 49s\n",
      "49:\tlearn: 0.2763505\ttest: 0.2820082\tbest: 0.2819634 (45)\ttotal: 5m 4s\tremaining: 1h 36m 18s\n",
      "50:\tlearn: 0.2761790\ttest: 0.2820175\tbest: 0.2819634 (45)\ttotal: 5m 11s\tremaining: 1h 36m 40s\n",
      "51:\tlearn: 0.2760146\ttest: 0.2820367\tbest: 0.2819634 (45)\ttotal: 5m 19s\tremaining: 1h 37m 5s\n",
      "52:\tlearn: 0.2758508\ttest: 0.2820302\tbest: 0.2819634 (45)\ttotal: 5m 27s\tremaining: 1h 37m 30s\n",
      "53:\tlearn: 0.2757404\ttest: 0.2820067\tbest: 0.2819634 (45)\ttotal: 5m 35s\tremaining: 1h 37m 52s\n",
      "54:\tlearn: 0.2755798\ttest: 0.2819715\tbest: 0.2819634 (45)\ttotal: 5m 42s\tremaining: 1h 38m 12s\n",
      "55:\tlearn: 0.2754119\ttest: 0.2819730\tbest: 0.2819634 (45)\ttotal: 5m 50s\tremaining: 1h 38m 30s\n",
      "56:\tlearn: 0.2751681\ttest: 0.2820026\tbest: 0.2819634 (45)\ttotal: 5m 58s\tremaining: 1h 38m 44s\n",
      "57:\tlearn: 0.2750482\ttest: 0.2820040\tbest: 0.2819634 (45)\ttotal: 6m 5s\tremaining: 1h 38m 57s\n",
      "58:\tlearn: 0.2748495\ttest: 0.2820353\tbest: 0.2819634 (45)\ttotal: 6m 13s\tremaining: 1h 39m 12s\n",
      "59:\tlearn: 0.2747331\ttest: 0.2820217\tbest: 0.2819634 (45)\ttotal: 6m 21s\tremaining: 1h 39m 31s\n",
      "60:\tlearn: 0.2746047\ttest: 0.2820382\tbest: 0.2819634 (45)\ttotal: 6m 28s\tremaining: 1h 39m 46s\n",
      "61:\tlearn: 0.2744822\ttest: 0.2820554\tbest: 0.2819634 (45)\ttotal: 6m 36s\tremaining: 1h 40m\n",
      "62:\tlearn: 0.2743015\ttest: 0.2820713\tbest: 0.2819634 (45)\ttotal: 6m 43s\tremaining: 1h 40m 5s\n",
      "63:\tlearn: 0.2741759\ttest: 0.2821013\tbest: 0.2819634 (45)\ttotal: 6m 50s\tremaining: 1h 40m 7s\n",
      "64:\tlearn: 0.2741651\ttest: 0.2821089\tbest: 0.2819634 (45)\ttotal: 6m 50s\tremaining: 1h 38m 31s\n",
      "65:\tlearn: 0.2740623\ttest: 0.2821324\tbest: 0.2819634 (45)\ttotal: 6m 57s\tremaining: 1h 38m 32s\n",
      "66:\tlearn: 0.2739705\ttest: 0.2821568\tbest: 0.2819634 (45)\ttotal: 7m 4s\tremaining: 1h 38m 34s\n",
      "67:\tlearn: 0.2738252\ttest: 0.2821793\tbest: 0.2819634 (45)\ttotal: 7m 11s\tremaining: 1h 38m 34s\n",
      "68:\tlearn: 0.2737070\ttest: 0.2821736\tbest: 0.2819634 (45)\ttotal: 7m 18s\tremaining: 1h 38m 35s\n",
      "69:\tlearn: 0.2736321\ttest: 0.2821781\tbest: 0.2819634 (45)\ttotal: 7m 25s\tremaining: 1h 38m 35s\n",
      "70:\tlearn: 0.2735885\ttest: 0.2821758\tbest: 0.2819634 (45)\ttotal: 7m 31s\tremaining: 1h 38m 33s\n",
      "71:\tlearn: 0.2735136\ttest: 0.2821671\tbest: 0.2819634 (45)\ttotal: 7m 38s\tremaining: 1h 38m 30s\n",
      "72:\tlearn: 0.2733538\ttest: 0.2821841\tbest: 0.2819634 (45)\ttotal: 7m 45s\tremaining: 1h 38m 28s\n",
      "73:\tlearn: 0.2731917\ttest: 0.2821973\tbest: 0.2819634 (45)\ttotal: 7m 51s\tremaining: 1h 38m 25s\n",
      "74:\tlearn: 0.2731874\ttest: 0.2821958\tbest: 0.2819634 (45)\ttotal: 7m 52s\tremaining: 1h 37m 2s\n",
      "75:\tlearn: 0.2730983\ttest: 0.2821952\tbest: 0.2819634 (45)\ttotal: 7m 58s\tremaining: 1h 37m 1s\n",
      "76:\tlearn: 0.2730300\ttest: 0.2821976\tbest: 0.2819634 (45)\ttotal: 8m 5s\tremaining: 1h 37m\n",
      "77:\tlearn: 0.2728255\ttest: 0.2822791\tbest: 0.2819634 (45)\ttotal: 8m 12s\tremaining: 1h 36m 59s\n",
      "78:\tlearn: 0.2726942\ttest: 0.2823015\tbest: 0.2819634 (45)\ttotal: 8m 19s\tremaining: 1h 36m 57s\n",
      "79:\tlearn: 0.2725820\ttest: 0.2823293\tbest: 0.2819634 (45)\ttotal: 8m 25s\tremaining: 1h 36m 58s\n",
      "80:\tlearn: 0.2724990\ttest: 0.2823353\tbest: 0.2819634 (45)\ttotal: 8m 32s\tremaining: 1h 36m 56s\n",
      "81:\tlearn: 0.2723784\ttest: 0.2823889\tbest: 0.2819634 (45)\ttotal: 8m 39s\tremaining: 1h 36m 54s\n",
      "82:\tlearn: 0.2722521\ttest: 0.2823976\tbest: 0.2819634 (45)\ttotal: 8m 46s\tremaining: 1h 36m 53s\n",
      "83:\tlearn: 0.2720807\ttest: 0.2824096\tbest: 0.2819634 (45)\ttotal: 8m 52s\tremaining: 1h 36m 51s\n",
      "84:\tlearn: 0.2720382\ttest: 0.2824095\tbest: 0.2819634 (45)\ttotal: 8m 59s\tremaining: 1h 36m 48s\n",
      "85:\tlearn: 0.2719628\ttest: 0.2824022\tbest: 0.2819634 (45)\ttotal: 9m 6s\tremaining: 1h 36m 45s\n",
      "86:\tlearn: 0.2719600\ttest: 0.2824025\tbest: 0.2819634 (45)\ttotal: 9m 6s\tremaining: 1h 35m 33s\n",
      "87:\tlearn: 0.2717668\ttest: 0.2824217\tbest: 0.2819634 (45)\ttotal: 9m 13s\tremaining: 1h 35m 32s\n"
     ]
    },
    {
     "name": "stdout",
     "output_type": "stream",
     "text": [
      "88:\tlearn: 0.2716654\ttest: 0.2824296\tbest: 0.2819634 (45)\ttotal: 9m 19s\tremaining: 1h 35m 30s\n",
      "89:\tlearn: 0.2714921\ttest: 0.2824593\tbest: 0.2819634 (45)\ttotal: 9m 26s\tremaining: 1h 35m 30s\n",
      "90:\tlearn: 0.2714905\ttest: 0.2824578\tbest: 0.2819634 (45)\ttotal: 9m 26s\tremaining: 1h 34m 22s\n",
      "91:\tlearn: 0.2713485\ttest: 0.2824774\tbest: 0.2819634 (45)\ttotal: 9m 33s\tremaining: 1h 34m 21s\n",
      "92:\tlearn: 0.2712721\ttest: 0.2824891\tbest: 0.2819634 (45)\ttotal: 9m 40s\tremaining: 1h 34m 19s\n",
      "93:\tlearn: 0.2711737\ttest: 0.2824978\tbest: 0.2819634 (45)\ttotal: 9m 47s\tremaining: 1h 34m 17s\n",
      "94:\tlearn: 0.2711337\ttest: 0.2825319\tbest: 0.2819634 (45)\ttotal: 9m 53s\tremaining: 1h 34m 16s\n",
      "95:\tlearn: 0.2710046\ttest: 0.2825533\tbest: 0.2819634 (45)\ttotal: 10m\tremaining: 1h 34m 13s\n",
      "96:\tlearn: 0.2709249\ttest: 0.2825595\tbest: 0.2819634 (45)\ttotal: 10m 7s\tremaining: 1h 34m 12s\n",
      "97:\tlearn: 0.2707816\ttest: 0.2825841\tbest: 0.2819634 (45)\ttotal: 10m 14s\tremaining: 1h 34m 12s\n",
      "98:\tlearn: 0.2706676\ttest: 0.2826204\tbest: 0.2819634 (45)\ttotal: 10m 21s\tremaining: 1h 34m 14s\n",
      "99:\tlearn: 0.2705814\ttest: 0.2826195\tbest: 0.2819634 (45)\ttotal: 10m 28s\tremaining: 1h 34m 18s\n",
      "100:\tlearn: 0.2704921\ttest: 0.2826373\tbest: 0.2819634 (45)\ttotal: 10m 36s\tremaining: 1h 34m 24s\n",
      "101:\tlearn: 0.2703841\ttest: 0.2826539\tbest: 0.2819634 (45)\ttotal: 10m 43s\tremaining: 1h 34m 25s\n",
      "102:\tlearn: 0.2701687\ttest: 0.2827054\tbest: 0.2819634 (45)\ttotal: 10m 50s\tremaining: 1h 34m 28s\n",
      "103:\tlearn: 0.2701236\ttest: 0.2827167\tbest: 0.2819634 (45)\ttotal: 10m 57s\tremaining: 1h 34m 26s\n",
      "104:\tlearn: 0.2699993\ttest: 0.2827414\tbest: 0.2819634 (45)\ttotal: 11m 4s\tremaining: 1h 34m 26s\n",
      "105:\tlearn: 0.2699054\ttest: 0.2827682\tbest: 0.2819634 (45)\ttotal: 11m 12s\tremaining: 1h 34m 31s\n",
      "106:\tlearn: 0.2697777\ttest: 0.2828079\tbest: 0.2819634 (45)\ttotal: 11m 19s\tremaining: 1h 34m 34s\n",
      "107:\tlearn: 0.2696916\ttest: 0.2828293\tbest: 0.2819634 (45)\ttotal: 11m 27s\tremaining: 1h 34m 36s\n",
      "108:\tlearn: 0.2695786\ttest: 0.2828779\tbest: 0.2819634 (45)\ttotal: 11m 34s\tremaining: 1h 34m 36s\n",
      "109:\tlearn: 0.2695089\ttest: 0.2828933\tbest: 0.2819634 (45)\ttotal: 11m 41s\tremaining: 1h 34m 35s\n",
      "110:\tlearn: 0.2694157\ttest: 0.2829102\tbest: 0.2819634 (45)\ttotal: 11m 48s\tremaining: 1h 34m 34s\n",
      "111:\tlearn: 0.2693027\ttest: 0.2829255\tbest: 0.2819634 (45)\ttotal: 11m 55s\tremaining: 1h 34m 32s\n",
      "112:\tlearn: 0.2691314\ttest: 0.2829054\tbest: 0.2819634 (45)\ttotal: 12m 2s\tremaining: 1h 34m 31s\n",
      "113:\tlearn: 0.2691286\ttest: 0.2829018\tbest: 0.2819634 (45)\ttotal: 12m 2s\tremaining: 1h 33m 36s\n",
      "114:\tlearn: 0.2690390\ttest: 0.2829111\tbest: 0.2819634 (45)\ttotal: 12m 9s\tremaining: 1h 33m 35s\n",
      "115:\tlearn: 0.2689301\ttest: 0.2829289\tbest: 0.2819634 (45)\ttotal: 12m 16s\tremaining: 1h 33m 32s\n",
      "116:\tlearn: 0.2687680\ttest: 0.2829690\tbest: 0.2819634 (45)\ttotal: 12m 23s\tremaining: 1h 33m 30s\n",
      "117:\tlearn: 0.2686814\ttest: 0.2829587\tbest: 0.2819634 (45)\ttotal: 12m 30s\tremaining: 1h 33m 29s\n",
      "118:\tlearn: 0.2686548\ttest: 0.2829746\tbest: 0.2819634 (45)\ttotal: 12m 37s\tremaining: 1h 33m 27s\n",
      "119:\tlearn: 0.2685978\ttest: 0.2830046\tbest: 0.2819634 (45)\ttotal: 12m 44s\tremaining: 1h 33m 25s\n",
      "120:\tlearn: 0.2684806\ttest: 0.2830305\tbest: 0.2819634 (45)\ttotal: 12m 51s\tremaining: 1h 33m 22s\n",
      "121:\tlearn: 0.2683382\ttest: 0.2830049\tbest: 0.2819634 (45)\ttotal: 12m 57s\tremaining: 1h 33m 16s\n",
      "122:\tlearn: 0.2682000\ttest: 0.2830590\tbest: 0.2819634 (45)\ttotal: 13m 4s\tremaining: 1h 33m 14s\n",
      "123:\tlearn: 0.2681545\ttest: 0.2830652\tbest: 0.2819634 (45)\ttotal: 13m 11s\tremaining: 1h 33m 10s\n",
      "124:\tlearn: 0.2679640\ttest: 0.2830887\tbest: 0.2819634 (45)\ttotal: 13m 19s\tremaining: 1h 33m 13s\n",
      "125:\tlearn: 0.2678258\ttest: 0.2831464\tbest: 0.2819634 (45)\ttotal: 13m 26s\tremaining: 1h 33m 16s\n",
      "126:\tlearn: 0.2677122\ttest: 0.2831560\tbest: 0.2819634 (45)\ttotal: 13m 33s\tremaining: 1h 33m 13s\n",
      "127:\tlearn: 0.2675667\ttest: 0.2831829\tbest: 0.2819634 (45)\ttotal: 13m 40s\tremaining: 1h 33m 11s\n",
      "128:\tlearn: 0.2674686\ttest: 0.2832237\tbest: 0.2819634 (45)\ttotal: 13m 47s\tremaining: 1h 33m 8s\n",
      "129:\tlearn: 0.2674060\ttest: 0.2832187\tbest: 0.2819634 (45)\ttotal: 13m 54s\tremaining: 1h 33m 4s\n",
      "130:\tlearn: 0.2673002\ttest: 0.2832157\tbest: 0.2819634 (45)\ttotal: 14m 1s\tremaining: 1h 33m 1s\n",
      "131:\tlearn: 0.2672028\ttest: 0.2832430\tbest: 0.2819634 (45)\ttotal: 14m 8s\tremaining: 1h 32m 59s\n",
      "132:\tlearn: 0.2671533\ttest: 0.2832470\tbest: 0.2819634 (45)\ttotal: 14m 15s\tremaining: 1h 32m 56s\n",
      "133:\tlearn: 0.2670146\ttest: 0.2832630\tbest: 0.2819634 (45)\ttotal: 14m 22s\tremaining: 1h 32m 55s\n",
      "134:\tlearn: 0.2668834\ttest: 0.2833096\tbest: 0.2819634 (45)\ttotal: 14m 29s\tremaining: 1h 32m 52s\n",
      "135:\tlearn: 0.2667506\ttest: 0.2833487\tbest: 0.2819634 (45)\ttotal: 14m 36s\tremaining: 1h 32m 50s\n",
      "136:\tlearn: 0.2666218\ttest: 0.2833704\tbest: 0.2819634 (45)\ttotal: 14m 43s\tremaining: 1h 32m 48s\n",
      "137:\tlearn: 0.2664095\ttest: 0.2834226\tbest: 0.2819634 (45)\ttotal: 14m 51s\tremaining: 1h 32m 45s\n",
      "138:\tlearn: 0.2662062\ttest: 0.2834838\tbest: 0.2819634 (45)\ttotal: 14m 57s\tremaining: 1h 32m 41s\n",
      "139:\tlearn: 0.2661341\ttest: 0.2834795\tbest: 0.2819634 (45)\ttotal: 15m 4s\tremaining: 1h 32m 37s\n",
      "140:\tlearn: 0.2660335\ttest: 0.2834979\tbest: 0.2819634 (45)\ttotal: 15m 11s\tremaining: 1h 32m 31s\n",
      "141:\tlearn: 0.2659409\ttest: 0.2835376\tbest: 0.2819634 (45)\ttotal: 15m 17s\tremaining: 1h 32m 26s\n",
      "142:\tlearn: 0.2657580\ttest: 0.2835608\tbest: 0.2819634 (45)\ttotal: 15m 24s\tremaining: 1h 32m 21s\n",
      "143:\tlearn: 0.2655568\ttest: 0.2836225\tbest: 0.2819634 (45)\ttotal: 15m 31s\tremaining: 1h 32m 16s\n",
      "144:\tlearn: 0.2654810\ttest: 0.2836585\tbest: 0.2819634 (45)\ttotal: 15m 38s\tremaining: 1h 32m 10s\n",
      "145:\tlearn: 0.2652514\ttest: 0.2837335\tbest: 0.2819634 (45)\ttotal: 15m 44s\tremaining: 1h 32m 5s\n",
      "Stopped by overfitting detector  (100 iterations wait)\n",
      "\n",
      "bestTest = 0.2819634344\n",
      "bestIteration = 45\n",
      "\n",
      "Shrink model to first 46 iterations.\n",
      "0:\tlearn: 0.5626993\ttest: 0.5625191\tbest: 0.5625191 (0)\ttotal: 6.94s\tremaining: 1h 55m 30s\n",
      "1:\tlearn: 0.4759690\ttest: 0.4758216\tbest: 0.4758216 (1)\ttotal: 13.9s\tremaining: 1h 55m 58s\n",
      "2:\tlearn: 0.4198565\ttest: 0.4200638\tbest: 0.4200638 (2)\ttotal: 20.9s\tremaining: 1h 55m 39s\n",
      "3:\tlearn: 0.3817373\ttest: 0.3824259\tbest: 0.3824259 (3)\ttotal: 22.6s\tremaining: 1h 33m 42s\n",
      "4:\tlearn: 0.3551436\ttest: 0.3563072\tbest: 0.3563072 (4)\ttotal: 29.3s\tremaining: 1h 37m 13s\n",
      "5:\tlearn: 0.3366007\ttest: 0.3381372\tbest: 0.3381372 (5)\ttotal: 36.2s\tremaining: 1h 40m 1s\n",
      "6:\tlearn: 0.3235557\ttest: 0.3254739\tbest: 0.3254739 (6)\ttotal: 38s\tremaining: 1h 29m 45s\n",
      "7:\tlearn: 0.3143238\ttest: 0.3164214\tbest: 0.3164214 (7)\ttotal: 38.1s\tremaining: 1h 18m 50s\n",
      "8:\tlearn: 0.3078893\ttest: 0.3101573\tbest: 0.3101573 (8)\ttotal: 38.3s\tremaining: 1h 10m 16s\n",
      "9:\tlearn: 0.3023312\ttest: 0.3050244\tbest: 0.3050244 (9)\ttotal: 44.9s\tremaining: 1h 14m 6s\n",
      "10:\tlearn: 0.2979738\ttest: 0.3011198\tbest: 0.3011198 (10)\ttotal: 51.6s\tremaining: 1h 17m 22s\n",
      "11:\tlearn: 0.2946197\ttest: 0.2980003\tbest: 0.2980003 (11)\ttotal: 58.1s\tremaining: 1h 19m 44s\n",
      "12:\tlearn: 0.2919176\ttest: 0.2957539\tbest: 0.2957539 (12)\ttotal: 1m 4s\tremaining: 1h 21m 35s\n",
      "13:\tlearn: 0.2897963\ttest: 0.2939703\tbest: 0.2939703 (13)\ttotal: 1m 10s\tremaining: 1h 22m 56s\n",
      "14:\tlearn: 0.2880035\ttest: 0.2926826\tbest: 0.2926826 (14)\ttotal: 1m 16s\tremaining: 1h 24m 15s\n",
      "15:\tlearn: 0.2867904\ttest: 0.2917381\tbest: 0.2917381 (15)\ttotal: 1m 23s\tremaining: 1h 25m 19s\n",
      "16:\tlearn: 0.2856115\ttest: 0.2910253\tbest: 0.2910253 (16)\ttotal: 1m 29s\tremaining: 1h 26m 23s\n",
      "17:\tlearn: 0.2846939\ttest: 0.2905385\tbest: 0.2905385 (17)\ttotal: 1m 35s\tremaining: 1h 27m 15s\n",
      "18:\tlearn: 0.2836604\ttest: 0.2899297\tbest: 0.2899297 (18)\ttotal: 1m 42s\tremaining: 1h 27m 58s\n",
      "19:\tlearn: 0.2830467\ttest: 0.2894946\tbest: 0.2894946 (19)\ttotal: 1m 48s\tremaining: 1h 28m 27s\n",
      "20:\tlearn: 0.2827283\ttest: 0.2892781\tbest: 0.2892781 (20)\ttotal: 1m 48s\tremaining: 1h 24m 18s\n",
      "21:\tlearn: 0.2822996\ttest: 0.2890690\tbest: 0.2890690 (21)\ttotal: 1m 54s\tremaining: 1h 24m 54s\n",
      "22:\tlearn: 0.2816890\ttest: 0.2889567\tbest: 0.2889567 (22)\ttotal: 2m\tremaining: 1h 25m 27s\n",
      "23:\tlearn: 0.2812868\ttest: 0.2888945\tbest: 0.2888945 (23)\ttotal: 2m 6s\tremaining: 1h 26m\n",
      "24:\tlearn: 0.2807866\ttest: 0.2887241\tbest: 0.2887241 (24)\ttotal: 2m 13s\tremaining: 1h 26m 28s\n",
      "25:\tlearn: 0.2802980\ttest: 0.2885734\tbest: 0.2885734 (25)\ttotal: 2m 19s\tremaining: 1h 26m 53s\n",
      "26:\tlearn: 0.2799878\ttest: 0.2885602\tbest: 0.2885602 (26)\ttotal: 2m 25s\tremaining: 1h 27m 16s\n",
      "27:\tlearn: 0.2796708\ttest: 0.2885217\tbest: 0.2885217 (27)\ttotal: 2m 31s\tremaining: 1h 27m 38s\n"
     ]
    },
    {
     "name": "stdout",
     "output_type": "stream",
     "text": [
      "28:\tlearn: 0.2792718\ttest: 0.2885572\tbest: 0.2885217 (27)\ttotal: 2m 37s\tremaining: 1h 28m\n",
      "29:\tlearn: 0.2789833\ttest: 0.2884993\tbest: 0.2884993 (29)\ttotal: 2m 43s\tremaining: 1h 28m 22s\n",
      "30:\tlearn: 0.2786528\ttest: 0.2884615\tbest: 0.2884615 (30)\ttotal: 2m 50s\tremaining: 1h 28m 44s\n",
      "31:\tlearn: 0.2784382\ttest: 0.2884661\tbest: 0.2884615 (30)\ttotal: 2m 56s\tremaining: 1h 29m 2s\n",
      "32:\tlearn: 0.2782470\ttest: 0.2884419\tbest: 0.2884419 (32)\ttotal: 3m 2s\tremaining: 1h 29m 18s\n",
      "33:\tlearn: 0.2781057\ttest: 0.2884371\tbest: 0.2884371 (33)\ttotal: 3m 9s\tremaining: 1h 29m 32s\n",
      "34:\tlearn: 0.2778661\ttest: 0.2884300\tbest: 0.2884300 (34)\ttotal: 3m 15s\tremaining: 1h 29m 47s\n",
      "35:\tlearn: 0.2776958\ttest: 0.2884626\tbest: 0.2884300 (34)\ttotal: 3m 21s\tremaining: 1h 30m\n",
      "36:\tlearn: 0.2774753\ttest: 0.2885088\tbest: 0.2884300 (34)\ttotal: 3m 28s\tremaining: 1h 30m 17s\n",
      "37:\tlearn: 0.2772380\ttest: 0.2885048\tbest: 0.2884300 (34)\ttotal: 3m 34s\tremaining: 1h 30m 21s\n",
      "38:\tlearn: 0.2770641\ttest: 0.2885165\tbest: 0.2884300 (34)\ttotal: 3m 40s\tremaining: 1h 30m 34s\n",
      "39:\tlearn: 0.2768928\ttest: 0.2885337\tbest: 0.2884300 (34)\ttotal: 3m 52s\tremaining: 1h 32m 57s\n",
      "40:\tlearn: 0.2767435\ttest: 0.2885533\tbest: 0.2884300 (34)\ttotal: 4m 4s\tremaining: 1h 35m 12s\n",
      "41:\tlearn: 0.2767053\ttest: 0.2885417\tbest: 0.2884300 (34)\ttotal: 4m 4s\tremaining: 1h 33m 3s\n",
      "42:\tlearn: 0.2765018\ttest: 0.2885186\tbest: 0.2884300 (34)\ttotal: 4m 16s\tremaining: 1h 35m 10s\n",
      "43:\tlearn: 0.2763066\ttest: 0.2885535\tbest: 0.2884300 (34)\ttotal: 4m 28s\tremaining: 1h 37m 6s\n",
      "44:\tlearn: 0.2761456\ttest: 0.2885625\tbest: 0.2884300 (34)\ttotal: 4m 38s\tremaining: 1h 38m 36s\n",
      "45:\tlearn: 0.2760125\ttest: 0.2885302\tbest: 0.2884300 (34)\ttotal: 4m 50s\tremaining: 1h 40m 19s\n",
      "46:\tlearn: 0.2758668\ttest: 0.2885610\tbest: 0.2884300 (34)\ttotal: 5m 1s\tremaining: 1h 41m 59s\n",
      "47:\tlearn: 0.2757342\ttest: 0.2885835\tbest: 0.2884300 (34)\ttotal: 5m 13s\tremaining: 1h 43m 35s\n",
      "48:\tlearn: 0.2755529\ttest: 0.2885707\tbest: 0.2884300 (34)\ttotal: 5m 25s\tremaining: 1h 45m 8s\n",
      "49:\tlearn: 0.2754066\ttest: 0.2885740\tbest: 0.2884300 (34)\ttotal: 5m 35s\tremaining: 1h 46m 17s\n",
      "50:\tlearn: 0.2751781\ttest: 0.2886089\tbest: 0.2884300 (34)\ttotal: 5m 47s\tremaining: 1h 47m 46s\n",
      "51:\tlearn: 0.2751696\ttest: 0.2886097\tbest: 0.2884300 (34)\ttotal: 5m 47s\tremaining: 1h 45m 41s\n",
      "52:\tlearn: 0.2749476\ttest: 0.2886135\tbest: 0.2884300 (34)\ttotal: 5m 59s\tremaining: 1h 47m 2s\n",
      "53:\tlearn: 0.2747701\ttest: 0.2886140\tbest: 0.2884300 (34)\ttotal: 6m 11s\tremaining: 1h 48m 26s\n",
      "54:\tlearn: 0.2746482\ttest: 0.2886160\tbest: 0.2884300 (34)\ttotal: 6m 23s\tremaining: 1h 49m 44s\n",
      "55:\tlearn: 0.2744076\ttest: 0.2886095\tbest: 0.2884300 (34)\ttotal: 6m 34s\tremaining: 1h 50m 43s\n",
      "56:\tlearn: 0.2742679\ttest: 0.2886112\tbest: 0.2884300 (34)\ttotal: 6m 45s\tremaining: 1h 51m 51s\n",
      "57:\tlearn: 0.2741405\ttest: 0.2886648\tbest: 0.2884300 (34)\ttotal: 6m 57s\tremaining: 1h 52m 59s\n",
      "58:\tlearn: 0.2740651\ttest: 0.2886538\tbest: 0.2884300 (34)\ttotal: 7m 9s\tremaining: 1h 54m 3s\n",
      "59:\tlearn: 0.2739301\ttest: 0.2887063\tbest: 0.2884300 (34)\ttotal: 7m 21s\tremaining: 1h 55m 11s\n",
      "60:\tlearn: 0.2739251\ttest: 0.2886990\tbest: 0.2884300 (34)\ttotal: 7m 21s\tremaining: 1h 53m 13s\n",
      "61:\tlearn: 0.2738490\ttest: 0.2887126\tbest: 0.2884300 (34)\ttotal: 7m 32s\tremaining: 1h 54m 1s\n",
      "62:\tlearn: 0.2737513\ttest: 0.2887324\tbest: 0.2884300 (34)\ttotal: 7m 45s\tremaining: 1h 55m 17s\n",
      "63:\tlearn: 0.2736352\ttest: 0.2887792\tbest: 0.2884300 (34)\ttotal: 7m 57s\tremaining: 1h 56m 28s\n",
      "64:\tlearn: 0.2735731\ttest: 0.2887810\tbest: 0.2884300 (34)\ttotal: 8m 11s\tremaining: 1h 57m 44s\n",
      "65:\tlearn: 0.2734596\ttest: 0.2887792\tbest: 0.2884300 (34)\ttotal: 8m 23s\tremaining: 1h 58m 39s\n",
      "66:\tlearn: 0.2733172\ttest: 0.2887874\tbest: 0.2884300 (34)\ttotal: 8m 34s\tremaining: 1h 59m 24s\n",
      "67:\tlearn: 0.2731973\ttest: 0.2887923\tbest: 0.2884300 (34)\ttotal: 8m 46s\tremaining: 2h 16s\n",
      "68:\tlearn: 0.2730775\ttest: 0.2888075\tbest: 0.2884300 (34)\ttotal: 8m 58s\tremaining: 2h 1m 6s\n",
      "69:\tlearn: 0.2729982\ttest: 0.2888077\tbest: 0.2884300 (34)\ttotal: 9m 10s\tremaining: 2h 1m 56s\n",
      "70:\tlearn: 0.2729266\ttest: 0.2888350\tbest: 0.2884300 (34)\ttotal: 9m 22s\tremaining: 2h 2m 35s\n",
      "71:\tlearn: 0.2728482\ttest: 0.2888401\tbest: 0.2884300 (34)\ttotal: 9m 33s\tremaining: 2h 3m 17s\n",
      "72:\tlearn: 0.2726850\ttest: 0.2888865\tbest: 0.2884300 (34)\ttotal: 9m 46s\tremaining: 2h 4m 4s\n",
      "73:\tlearn: 0.2725204\ttest: 0.2889160\tbest: 0.2884300 (34)\ttotal: 9m 58s\tremaining: 2h 4m 45s\n",
      "74:\tlearn: 0.2725158\ttest: 0.2889119\tbest: 0.2884300 (34)\ttotal: 9m 58s\tremaining: 2h 3m\n",
      "75:\tlearn: 0.2724285\ttest: 0.2889233\tbest: 0.2884300 (34)\ttotal: 10m 10s\tremaining: 2h 3m 44s\n",
      "76:\tlearn: 0.2723320\ttest: 0.2889247\tbest: 0.2884300 (34)\ttotal: 10m 21s\tremaining: 2h 4m 13s\n",
      "77:\tlearn: 0.2721747\ttest: 0.2889770\tbest: 0.2884300 (34)\ttotal: 10m 33s\tremaining: 2h 4m 54s\n",
      "78:\tlearn: 0.2720274\ttest: 0.2890317\tbest: 0.2884300 (34)\ttotal: 10m 46s\tremaining: 2h 5m 33s\n",
      "79:\tlearn: 0.2719346\ttest: 0.2890640\tbest: 0.2884300 (34)\ttotal: 10m 58s\tremaining: 2h 6m 10s\n",
      "80:\tlearn: 0.2717979\ttest: 0.2891156\tbest: 0.2884300 (34)\ttotal: 11m 10s\tremaining: 2h 6m 45s\n",
      "81:\tlearn: 0.2717319\ttest: 0.2891240\tbest: 0.2884300 (34)\ttotal: 11m 21s\tremaining: 2h 7m 7s\n",
      "82:\tlearn: 0.2716068\ttest: 0.2891537\tbest: 0.2884300 (34)\ttotal: 11m 33s\tremaining: 2h 7m 42s\n",
      "83:\tlearn: 0.2714473\ttest: 0.2892255\tbest: 0.2884300 (34)\ttotal: 11m 45s\tremaining: 2h 8m 16s\n",
      "84:\tlearn: 0.2714027\ttest: 0.2892233\tbest: 0.2884300 (34)\ttotal: 11m 58s\tremaining: 2h 8m 49s\n",
      "85:\tlearn: 0.2713630\ttest: 0.2892301\tbest: 0.2884300 (34)\ttotal: 12m 9s\tremaining: 2h 9m 15s\n",
      "86:\tlearn: 0.2713598\ttest: 0.2892260\tbest: 0.2884300 (34)\ttotal: 12m 9s\tremaining: 2h 7m 40s\n",
      "87:\tlearn: 0.2711628\ttest: 0.2892622\tbest: 0.2884300 (34)\ttotal: 12m 21s\tremaining: 2h 8m 6s\n",
      "88:\tlearn: 0.2711056\ttest: 0.2892688\tbest: 0.2884300 (34)\ttotal: 12m 33s\tremaining: 2h 8m 37s\n",
      "89:\tlearn: 0.2711039\ttest: 0.2892675\tbest: 0.2884300 (34)\ttotal: 12m 34s\tremaining: 2h 7m 4s\n",
      "90:\tlearn: 0.2710335\ttest: 0.2892870\tbest: 0.2884300 (34)\ttotal: 12m 46s\tremaining: 2h 7m 34s\n",
      "91:\tlearn: 0.2709589\ttest: 0.2892929\tbest: 0.2884300 (34)\ttotal: 12m 58s\tremaining: 2h 8m 1s\n",
      "92:\tlearn: 0.2708588\ttest: 0.2893032\tbest: 0.2884300 (34)\ttotal: 13m 9s\tremaining: 2h 8m 17s\n",
      "93:\tlearn: 0.2707992\ttest: 0.2893042\tbest: 0.2884300 (34)\ttotal: 13m 21s\tremaining: 2h 8m 42s\n",
      "94:\tlearn: 0.2707345\ttest: 0.2893061\tbest: 0.2884300 (34)\ttotal: 13m 33s\tremaining: 2h 9m 9s\n",
      "95:\tlearn: 0.2706178\ttest: 0.2893363\tbest: 0.2884300 (34)\ttotal: 13m 45s\tremaining: 2h 9m 33s\n",
      "96:\tlearn: 0.2705410\ttest: 0.2893402\tbest: 0.2884300 (34)\ttotal: 13m 57s\tremaining: 2h 9m 55s\n",
      "97:\tlearn: 0.2704678\ttest: 0.2893654\tbest: 0.2884300 (34)\ttotal: 14m 8s\tremaining: 2h 10m 11s\n",
      "98:\tlearn: 0.2703631\ttest: 0.2893593\tbest: 0.2884300 (34)\ttotal: 14m 20s\tremaining: 2h 10m 34s\n",
      "99:\tlearn: 0.2703179\ttest: 0.2893612\tbest: 0.2884300 (34)\ttotal: 14m 32s\tremaining: 2h 10m 56s\n",
      "100:\tlearn: 0.2702004\ttest: 0.2893869\tbest: 0.2884300 (34)\ttotal: 14m 45s\tremaining: 2h 11m 18s\n",
      "101:\tlearn: 0.2700775\ttest: 0.2893833\tbest: 0.2884300 (34)\ttotal: 14m 57s\tremaining: 2h 11m 38s\n",
      "102:\tlearn: 0.2698903\ttest: 0.2894460\tbest: 0.2884300 (34)\ttotal: 15m 7s\tremaining: 2h 11m 47s\n",
      "103:\tlearn: 0.2698358\ttest: 0.2894639\tbest: 0.2884300 (34)\ttotal: 15m 20s\tremaining: 2h 12m 6s\n",
      "104:\tlearn: 0.2696032\ttest: 0.2895497\tbest: 0.2884300 (34)\ttotal: 15m 32s\tremaining: 2h 12m 25s\n",
      "105:\tlearn: 0.2695127\ttest: 0.2895924\tbest: 0.2884300 (34)\ttotal: 15m 44s\tremaining: 2h 12m 43s\n",
      "106:\tlearn: 0.2695012\ttest: 0.2895979\tbest: 0.2884300 (34)\ttotal: 15m 44s\tremaining: 2h 11m 23s\n",
      "107:\tlearn: 0.2693579\ttest: 0.2896299\tbest: 0.2884300 (34)\ttotal: 15m 56s\tremaining: 2h 11m 40s\n",
      "108:\tlearn: 0.2691956\ttest: 0.2897054\tbest: 0.2884300 (34)\ttotal: 16m 8s\tremaining: 2h 11m 54s\n",
      "109:\tlearn: 0.2690400\ttest: 0.2897767\tbest: 0.2884300 (34)\ttotal: 16m 20s\tremaining: 2h 12m 13s\n",
      "110:\tlearn: 0.2690092\ttest: 0.2897835\tbest: 0.2884300 (34)\ttotal: 16m 32s\tremaining: 2h 12m 31s\n",
      "111:\tlearn: 0.2688323\ttest: 0.2898271\tbest: 0.2884300 (34)\ttotal: 16m 45s\tremaining: 2h 12m 50s\n",
      "112:\tlearn: 0.2686395\ttest: 0.2898811\tbest: 0.2884300 (34)\ttotal: 16m 57s\tremaining: 2h 13m 8s\n",
      "113:\tlearn: 0.2684405\ttest: 0.2899163\tbest: 0.2884300 (34)\ttotal: 17m 10s\tremaining: 2h 13m 28s\n",
      "114:\tlearn: 0.2683363\ttest: 0.2899254\tbest: 0.2884300 (34)\ttotal: 17m 23s\tremaining: 2h 13m 50s\n",
      "115:\tlearn: 0.2683068\ttest: 0.2899300\tbest: 0.2884300 (34)\ttotal: 17m 37s\tremaining: 2h 14m 15s\n"
     ]
    },
    {
     "name": "stdout",
     "output_type": "stream",
     "text": [
      "116:\tlearn: 0.2681505\ttest: 0.2899249\tbest: 0.2884300 (34)\ttotal: 17m 50s\tremaining: 2h 14m 35s\n",
      "117:\tlearn: 0.2681477\ttest: 0.2899197\tbest: 0.2884300 (34)\ttotal: 17m 50s\tremaining: 2h 13m 20s\n",
      "118:\tlearn: 0.2680468\ttest: 0.2899478\tbest: 0.2884300 (34)\ttotal: 18m 3s\tremaining: 2h 13m 38s\n",
      "119:\tlearn: 0.2679911\ttest: 0.2899886\tbest: 0.2884300 (34)\ttotal: 18m 16s\tremaining: 2h 13m 57s\n",
      "120:\tlearn: 0.2679067\ttest: 0.2899872\tbest: 0.2884300 (34)\ttotal: 18m 28s\tremaining: 2h 14m 9s\n",
      "121:\tlearn: 0.2677299\ttest: 0.2900616\tbest: 0.2884300 (34)\ttotal: 18m 40s\tremaining: 2h 14m 24s\n",
      "122:\tlearn: 0.2676571\ttest: 0.2900741\tbest: 0.2884300 (34)\ttotal: 18m 52s\tremaining: 2h 14m 34s\n",
      "123:\tlearn: 0.2675776\ttest: 0.2901172\tbest: 0.2884300 (34)\ttotal: 19m 4s\tremaining: 2h 14m 45s\n",
      "124:\tlearn: 0.2674609\ttest: 0.2901369\tbest: 0.2884300 (34)\ttotal: 19m 16s\tremaining: 2h 14m 55s\n",
      "125:\tlearn: 0.2672400\ttest: 0.2902099\tbest: 0.2884300 (34)\ttotal: 19m 28s\tremaining: 2h 15m 4s\n",
      "126:\tlearn: 0.2670227\ttest: 0.2902846\tbest: 0.2884300 (34)\ttotal: 19m 40s\tremaining: 2h 15m 13s\n",
      "127:\tlearn: 0.2669038\ttest: 0.2903137\tbest: 0.2884300 (34)\ttotal: 19m 52s\tremaining: 2h 15m 22s\n",
      "128:\tlearn: 0.2667947\ttest: 0.2903527\tbest: 0.2884300 (34)\ttotal: 20m 4s\tremaining: 2h 15m 30s\n",
      "129:\tlearn: 0.2667540\ttest: 0.2903585\tbest: 0.2884300 (34)\ttotal: 20m 15s\tremaining: 2h 15m 31s\n",
      "130:\tlearn: 0.2666110\ttest: 0.2903747\tbest: 0.2884300 (34)\ttotal: 20m 26s\tremaining: 2h 15m 39s\n",
      "131:\tlearn: 0.2664801\ttest: 0.2904221\tbest: 0.2884300 (34)\ttotal: 20m 39s\tremaining: 2h 15m 49s\n",
      "132:\tlearn: 0.2663822\ttest: 0.2904372\tbest: 0.2884300 (34)\ttotal: 20m 51s\tremaining: 2h 15m 55s\n",
      "133:\tlearn: 0.2662428\ttest: 0.2904436\tbest: 0.2884300 (34)\ttotal: 21m 3s\tremaining: 2h 16m 2s\n",
      "134:\tlearn: 0.2661178\ttest: 0.2904728\tbest: 0.2884300 (34)\ttotal: 21m 14s\tremaining: 2h 16m 3s\n",
      "Stopped by overfitting detector  (100 iterations wait)\n",
      "\n",
      "bestTest = 0.2884299719\n",
      "bestIteration = 34\n",
      "\n",
      "Shrink model to first 35 iterations.\n",
      "0:\tlearn: 0.5629170\ttest: 0.5637816\tbest: 0.5637816 (0)\ttotal: 12.2s\tremaining: 3h 23m 12s\n",
      "1:\tlearn: 0.4761386\ttest: 0.4775204\tbest: 0.4775204 (1)\ttotal: 24.1s\tremaining: 3h 20m 25s\n",
      "2:\tlearn: 0.4199944\ttest: 0.4218320\tbest: 0.4218320 (2)\ttotal: 35.7s\tremaining: 3h 17m 44s\n",
      "3:\tlearn: 0.3818317\ttest: 0.3840239\tbest: 0.3840239 (3)\ttotal: 38.5s\tremaining: 2h 39m 45s\n",
      "4:\tlearn: 0.3552954\ttest: 0.3578920\tbest: 0.3578920 (4)\ttotal: 48.8s\tremaining: 2h 41m 52s\n",
      "5:\tlearn: 0.3367784\ttest: 0.3396741\tbest: 0.3396741 (5)\ttotal: 1m\tremaining: 2h 48m 4s\n",
      "6:\tlearn: 0.3237845\ttest: 0.3268844\tbest: 0.3268844 (6)\ttotal: 1m 3s\tremaining: 2h 30m 38s\n",
      "7:\tlearn: 0.3145149\ttest: 0.3176913\tbest: 0.3176913 (7)\ttotal: 1m 4s\tremaining: 2h 12m 17s\n",
      "8:\tlearn: 0.3080600\ttest: 0.3113006\tbest: 0.3113006 (8)\ttotal: 1m 4s\tremaining: 1h 57m 53s\n",
      "9:\tlearn: 0.3025006\ttest: 0.3058659\tbest: 0.3058659 (9)\ttotal: 1m 6s\tremaining: 1h 50m 32s\n",
      "10:\tlearn: 0.2981123\ttest: 0.3018221\tbest: 0.3018221 (10)\ttotal: 1m 18s\tremaining: 1h 57m 42s\n",
      "11:\tlearn: 0.2947144\ttest: 0.2988171\tbest: 0.2988171 (11)\ttotal: 1m 30s\tremaining: 2h 3m 48s\n",
      "12:\tlearn: 0.2922215\ttest: 0.2965832\tbest: 0.2965832 (12)\ttotal: 1m 42s\tremaining: 2h 9m 23s\n",
      "13:\tlearn: 0.2900453\ttest: 0.2946041\tbest: 0.2946041 (13)\ttotal: 1m 54s\tremaining: 2h 13m 52s\n",
      "14:\tlearn: 0.2883396\ttest: 0.2931924\tbest: 0.2931924 (14)\ttotal: 2m 6s\tremaining: 2h 18m 16s\n",
      "15:\tlearn: 0.2870273\ttest: 0.2921213\tbest: 0.2921213 (15)\ttotal: 2m 18s\tremaining: 2h 22m\n",
      "16:\tlearn: 0.2856852\ttest: 0.2912120\tbest: 0.2912120 (16)\ttotal: 2m 30s\tremaining: 2h 24m 54s\n",
      "17:\tlearn: 0.2846812\ttest: 0.2905175\tbest: 0.2905175 (17)\ttotal: 2m 42s\tremaining: 2h 27m 36s\n",
      "18:\tlearn: 0.2839771\ttest: 0.2899840\tbest: 0.2899840 (18)\ttotal: 2m 53s\tremaining: 2h 28m 54s\n",
      "19:\tlearn: 0.2833617\ttest: 0.2895987\tbest: 0.2895987 (19)\ttotal: 3m 5s\tremaining: 2h 31m 6s\n",
      "20:\tlearn: 0.2830330\ttest: 0.2893050\tbest: 0.2893050 (20)\ttotal: 3m 5s\tremaining: 2h 24m 4s\n",
      "21:\tlearn: 0.2825404\ttest: 0.2889156\tbest: 0.2889156 (21)\ttotal: 3m 17s\tremaining: 2h 26m 8s\n",
      "22:\tlearn: 0.2818846\ttest: 0.2886872\tbest: 0.2886872 (22)\ttotal: 3m 29s\tremaining: 2h 27m 58s\n",
      "23:\tlearn: 0.2814134\ttest: 0.2884155\tbest: 0.2884155 (23)\ttotal: 3m 40s\tremaining: 2h 29m 28s\n",
      "24:\tlearn: 0.2808649\ttest: 0.2882632\tbest: 0.2882632 (24)\ttotal: 3m 51s\tremaining: 2h 30m 18s\n",
      "25:\tlearn: 0.2805004\ttest: 0.2880927\tbest: 0.2880927 (25)\ttotal: 4m 2s\tremaining: 2h 31m 33s\n",
      "26:\tlearn: 0.2801278\ttest: 0.2880497\tbest: 0.2880497 (26)\ttotal: 4m 14s\tremaining: 2h 33m 3s\n",
      "27:\tlearn: 0.2797531\ttest: 0.2879684\tbest: 0.2879684 (27)\ttotal: 4m 26s\tremaining: 2h 34m 23s\n",
      "28:\tlearn: 0.2793703\ttest: 0.2879552\tbest: 0.2879552 (28)\ttotal: 4m 38s\tremaining: 2h 35m 35s\n",
      "29:\tlearn: 0.2789907\ttest: 0.2878961\tbest: 0.2878961 (29)\ttotal: 4m 49s\tremaining: 2h 36m 10s\n",
      "30:\tlearn: 0.2787263\ttest: 0.2878324\tbest: 0.2878324 (30)\ttotal: 5m\tremaining: 2h 36m 44s\n",
      "31:\tlearn: 0.2784702\ttest: 0.2877996\tbest: 0.2877996 (31)\ttotal: 5m 12s\tremaining: 2h 37m 20s\n",
      "32:\tlearn: 0.2781840\ttest: 0.2877707\tbest: 0.2877707 (32)\ttotal: 5m 23s\tremaining: 2h 37m 56s\n",
      "33:\tlearn: 0.2780355\ttest: 0.2877575\tbest: 0.2877575 (33)\ttotal: 5m 34s\tremaining: 2h 38m 26s\n",
      "34:\tlearn: 0.2776976\ttest: 0.2877678\tbest: 0.2877575 (33)\ttotal: 5m 45s\tremaining: 2h 38m 53s\n",
      "35:\tlearn: 0.2774947\ttest: 0.2877298\tbest: 0.2877298 (35)\ttotal: 5m 56s\tremaining: 2h 38m 54s\n",
      "36:\tlearn: 0.2773509\ttest: 0.2876819\tbest: 0.2876819 (36)\ttotal: 6m 7s\tremaining: 2h 39m 24s\n",
      "37:\tlearn: 0.2771261\ttest: 0.2876663\tbest: 0.2876663 (37)\ttotal: 6m 18s\tremaining: 2h 39m 52s\n",
      "38:\tlearn: 0.2769313\ttest: 0.2876893\tbest: 0.2876663 (37)\ttotal: 6m 30s\tremaining: 2h 40m 26s\n",
      "39:\tlearn: 0.2766999\ttest: 0.2876997\tbest: 0.2876663 (37)\ttotal: 6m 42s\tremaining: 2h 40m 59s\n",
      "40:\tlearn: 0.2765103\ttest: 0.2877217\tbest: 0.2876663 (37)\ttotal: 6m 53s\tremaining: 2h 41m 2s\n",
      "41:\tlearn: 0.2763849\ttest: 0.2877281\tbest: 0.2876663 (37)\ttotal: 7m 4s\tremaining: 2h 41m 21s\n",
      "42:\tlearn: 0.2762051\ttest: 0.2877198\tbest: 0.2876663 (37)\ttotal: 7m 15s\tremaining: 2h 41m 43s\n",
      "43:\tlearn: 0.2759773\ttest: 0.2877569\tbest: 0.2876663 (37)\ttotal: 7m 27s\tremaining: 2h 42m 2s\n",
      "44:\tlearn: 0.2758191\ttest: 0.2878029\tbest: 0.2876663 (37)\ttotal: 7m 38s\tremaining: 2h 42m 20s\n",
      "45:\tlearn: 0.2757291\ttest: 0.2877901\tbest: 0.2876663 (37)\ttotal: 7m 50s\tremaining: 2h 42m 34s\n",
      "46:\tlearn: 0.2755321\ttest: 0.2877990\tbest: 0.2876663 (37)\ttotal: 8m 1s\tremaining: 2h 42m 42s\n",
      "47:\tlearn: 0.2754023\ttest: 0.2877867\tbest: 0.2876663 (37)\ttotal: 8m 13s\tremaining: 2h 43m 2s\n",
      "48:\tlearn: 0.2752519\ttest: 0.2877946\tbest: 0.2876663 (37)\ttotal: 8m 24s\tremaining: 2h 43m 19s\n",
      "49:\tlearn: 0.2750361\ttest: 0.2878188\tbest: 0.2876663 (37)\ttotal: 8m 36s\tremaining: 2h 43m 37s\n",
      "50:\tlearn: 0.2749243\ttest: 0.2878153\tbest: 0.2876663 (37)\ttotal: 8m 48s\tremaining: 2h 43m 58s\n",
      "51:\tlearn: 0.2747450\ttest: 0.2878673\tbest: 0.2876663 (37)\ttotal: 8m 59s\tremaining: 2h 43m 54s\n",
      "52:\tlearn: 0.2745631\ttest: 0.2878664\tbest: 0.2876663 (37)\ttotal: 9m 11s\tremaining: 2h 44m 9s\n",
      "53:\tlearn: 0.2743748\ttest: 0.2879468\tbest: 0.2876663 (37)\ttotal: 9m 23s\tremaining: 2h 44m 26s\n",
      "54:\tlearn: 0.2742251\ttest: 0.2879364\tbest: 0.2876663 (37)\ttotal: 9m 35s\tremaining: 2h 44m 41s\n",
      "55:\tlearn: 0.2740597\ttest: 0.2879598\tbest: 0.2876663 (37)\ttotal: 9m 47s\tremaining: 2h 44m 56s\n",
      "56:\tlearn: 0.2739437\ttest: 0.2879656\tbest: 0.2876663 (37)\ttotal: 9m 58s\tremaining: 2h 45m 5s\n",
      "57:\tlearn: 0.2738053\ttest: 0.2879623\tbest: 0.2876663 (37)\ttotal: 10m 10s\tremaining: 2h 45m 19s\n",
      "58:\tlearn: 0.2737094\ttest: 0.2879828\tbest: 0.2876663 (37)\ttotal: 10m 23s\tremaining: 2h 45m 38s\n",
      "59:\tlearn: 0.2735032\ttest: 0.2880307\tbest: 0.2876663 (37)\ttotal: 10m 35s\tremaining: 2h 45m 54s\n",
      "60:\tlearn: 0.2733793\ttest: 0.2880558\tbest: 0.2876663 (37)\ttotal: 10m 47s\tremaining: 2h 46m 9s\n",
      "61:\tlearn: 0.2733674\ttest: 0.2880457\tbest: 0.2876663 (37)\ttotal: 10m 47s\tremaining: 2h 43m 22s\n",
      "62:\tlearn: 0.2732351\ttest: 0.2880454\tbest: 0.2876663 (37)\ttotal: 10m 59s\tremaining: 2h 43m 27s\n",
      "63:\tlearn: 0.2730851\ttest: 0.2880350\tbest: 0.2876663 (37)\ttotal: 11m 11s\tremaining: 2h 43m 44s\n",
      "64:\tlearn: 0.2729850\ttest: 0.2880510\tbest: 0.2876663 (37)\ttotal: 11m 24s\tremaining: 2h 44m\n",
      "65:\tlearn: 0.2728869\ttest: 0.2880488\tbest: 0.2876663 (37)\ttotal: 11m 36s\tremaining: 2h 44m 17s\n",
      "66:\tlearn: 0.2727830\ttest: 0.2880811\tbest: 0.2876663 (37)\ttotal: 11m 48s\tremaining: 2h 44m 30s\n"
     ]
    },
    {
     "name": "stdout",
     "output_type": "stream",
     "text": [
      "67:\tlearn: 0.2726403\ttest: 0.2881418\tbest: 0.2876663 (37)\ttotal: 12m\tremaining: 2h 44m 33s\n",
      "68:\tlearn: 0.2725738\ttest: 0.2881396\tbest: 0.2876663 (37)\ttotal: 12m 13s\tremaining: 2h 44m 55s\n",
      "69:\tlearn: 0.2725161\ttest: 0.2881604\tbest: 0.2876663 (37)\ttotal: 12m 26s\tremaining: 2h 45m 19s\n",
      "70:\tlearn: 0.2723255\ttest: 0.2881648\tbest: 0.2876663 (37)\ttotal: 12m 38s\tremaining: 2h 45m 27s\n",
      "71:\tlearn: 0.2721794\ttest: 0.2881702\tbest: 0.2876663 (37)\ttotal: 12m 50s\tremaining: 2h 45m 37s\n",
      "72:\tlearn: 0.2720677\ttest: 0.2881996\tbest: 0.2876663 (37)\ttotal: 13m 2s\tremaining: 2h 45m 36s\n",
      "73:\tlearn: 0.2719492\ttest: 0.2882182\tbest: 0.2876663 (37)\ttotal: 13m 15s\tremaining: 2h 45m 50s\n",
      "74:\tlearn: 0.2717846\ttest: 0.2882261\tbest: 0.2876663 (37)\ttotal: 13m 27s\tremaining: 2h 46m 1s\n",
      "75:\tlearn: 0.2716499\ttest: 0.2882639\tbest: 0.2876663 (37)\ttotal: 13m 40s\tremaining: 2h 46m 16s\n",
      "76:\tlearn: 0.2716122\ttest: 0.2882572\tbest: 0.2876663 (37)\ttotal: 13m 52s\tremaining: 2h 46m 22s\n",
      "77:\tlearn: 0.2714806\ttest: 0.2882802\tbest: 0.2876663 (37)\ttotal: 14m 3s\tremaining: 2h 46m 13s\n",
      "78:\tlearn: 0.2713646\ttest: 0.2882892\tbest: 0.2876663 (37)\ttotal: 14m 16s\tremaining: 2h 46m 28s\n",
      "79:\tlearn: 0.2711560\ttest: 0.2882999\tbest: 0.2876663 (37)\ttotal: 14m 30s\tremaining: 2h 46m 49s\n",
      "80:\tlearn: 0.2709255\ttest: 0.2883474\tbest: 0.2876663 (37)\ttotal: 14m 44s\tremaining: 2h 47m 18s\n",
      "81:\tlearn: 0.2708255\ttest: 0.2883799\tbest: 0.2876663 (37)\ttotal: 14m 59s\tremaining: 2h 47m 49s\n",
      "82:\tlearn: 0.2706481\ttest: 0.2884308\tbest: 0.2876663 (37)\ttotal: 15m 12s\tremaining: 2h 47m 58s\n",
      "83:\tlearn: 0.2705068\ttest: 0.2884611\tbest: 0.2876663 (37)\ttotal: 15m 26s\tremaining: 2h 48m 18s\n",
      "84:\tlearn: 0.2703974\ttest: 0.2884935\tbest: 0.2876663 (37)\ttotal: 15m 39s\tremaining: 2h 48m 30s\n",
      "85:\tlearn: 0.2702565\ttest: 0.2885120\tbest: 0.2876663 (37)\ttotal: 15m 52s\tremaining: 2h 48m 42s\n",
      "86:\tlearn: 0.2701934\ttest: 0.2885168\tbest: 0.2876663 (37)\ttotal: 16m 6s\tremaining: 2h 49m 1s\n",
      "87:\tlearn: 0.2700403\ttest: 0.2885374\tbest: 0.2876663 (37)\ttotal: 16m 19s\tremaining: 2h 49m 15s\n",
      "88:\tlearn: 0.2699611\ttest: 0.2885372\tbest: 0.2876663 (37)\ttotal: 16m 33s\tremaining: 2h 49m 26s\n",
      "89:\tlearn: 0.2698261\ttest: 0.2885701\tbest: 0.2876663 (37)\ttotal: 16m 46s\tremaining: 2h 49m 38s\n",
      "90:\tlearn: 0.2697387\ttest: 0.2886076\tbest: 0.2876663 (37)\ttotal: 16m 59s\tremaining: 2h 49m 47s\n",
      "91:\tlearn: 0.2697338\ttest: 0.2886040\tbest: 0.2876663 (37)\ttotal: 17m\tremaining: 2h 47m 48s\n",
      "92:\tlearn: 0.2695472\ttest: 0.2886266\tbest: 0.2876663 (37)\ttotal: 17m 13s\tremaining: 2h 47m 59s\n",
      "93:\tlearn: 0.2695398\ttest: 0.2886264\tbest: 0.2876663 (37)\ttotal: 17m 14s\tremaining: 2h 46m 6s\n",
      "94:\tlearn: 0.2694441\ttest: 0.2886409\tbest: 0.2876663 (37)\ttotal: 17m 26s\tremaining: 2h 46m 5s\n",
      "95:\tlearn: 0.2693993\ttest: 0.2886295\tbest: 0.2876663 (37)\ttotal: 17m 39s\tremaining: 2h 46m 15s\n",
      "96:\tlearn: 0.2693135\ttest: 0.2886410\tbest: 0.2876663 (37)\ttotal: 17m 52s\tremaining: 2h 46m 26s\n",
      "97:\tlearn: 0.2691941\ttest: 0.2886537\tbest: 0.2876663 (37)\ttotal: 18m 5s\tremaining: 2h 46m 34s\n",
      "98:\tlearn: 0.2691796\ttest: 0.2886458\tbest: 0.2876663 (37)\ttotal: 18m 6s\tremaining: 2h 44m 48s\n",
      "99:\tlearn: 0.2690694\ttest: 0.2886569\tbest: 0.2876663 (37)\ttotal: 18m 19s\tremaining: 2h 44m 58s\n",
      "100:\tlearn: 0.2689549\ttest: 0.2886827\tbest: 0.2876663 (37)\ttotal: 18m 32s\tremaining: 2h 45m 1s\n",
      "101:\tlearn: 0.2688305\ttest: 0.2886985\tbest: 0.2876663 (37)\ttotal: 18m 45s\tremaining: 2h 45m 11s\n",
      "102:\tlearn: 0.2687093\ttest: 0.2887204\tbest: 0.2876663 (37)\ttotal: 18m 58s\tremaining: 2h 45m 18s\n",
      "103:\tlearn: 0.2685778\ttest: 0.2887499\tbest: 0.2876663 (37)\ttotal: 19m 12s\tremaining: 2h 45m 29s\n",
      "104:\tlearn: 0.2685601\ttest: 0.2887453\tbest: 0.2876663 (37)\ttotal: 19m 16s\tremaining: 2h 44m 17s\n",
      "105:\tlearn: 0.2684244\ttest: 0.2887724\tbest: 0.2876663 (37)\ttotal: 19m 29s\tremaining: 2h 44m 24s\n",
      "106:\tlearn: 0.2683386\ttest: 0.2887936\tbest: 0.2876663 (37)\ttotal: 19m 42s\tremaining: 2h 44m 30s\n",
      "107:\tlearn: 0.2682842\ttest: 0.2887762\tbest: 0.2876663 (37)\ttotal: 19m 55s\tremaining: 2h 44m 31s\n",
      "108:\tlearn: 0.2681685\ttest: 0.2887887\tbest: 0.2876663 (37)\ttotal: 20m 8s\tremaining: 2h 44m 40s\n",
      "109:\tlearn: 0.2680943\ttest: 0.2887864\tbest: 0.2876663 (37)\ttotal: 20m 23s\tremaining: 2h 45m 2s\n",
      "110:\tlearn: 0.2680345\ttest: 0.2888057\tbest: 0.2876663 (37)\ttotal: 20m 37s\tremaining: 2h 45m 13s\n",
      "111:\tlearn: 0.2679557\ttest: 0.2888231\tbest: 0.2876663 (37)\ttotal: 20m 50s\tremaining: 2h 45m 18s\n",
      "112:\tlearn: 0.2677845\ttest: 0.2888616\tbest: 0.2876663 (37)\ttotal: 21m 4s\tremaining: 2h 45m 22s\n",
      "113:\tlearn: 0.2675786\ttest: 0.2888779\tbest: 0.2876663 (37)\ttotal: 21m 17s\tremaining: 2h 45m 28s\n",
      "114:\tlearn: 0.2674156\ttest: 0.2889017\tbest: 0.2876663 (37)\ttotal: 21m 30s\tremaining: 2h 45m 31s\n",
      "115:\tlearn: 0.2673089\ttest: 0.2889307\tbest: 0.2876663 (37)\ttotal: 21m 43s\tremaining: 2h 45m 29s\n",
      "116:\tlearn: 0.2672176\ttest: 0.2889181\tbest: 0.2876663 (37)\ttotal: 21m 55s\tremaining: 2h 45m 31s\n",
      "117:\tlearn: 0.2671726\ttest: 0.2889394\tbest: 0.2876663 (37)\ttotal: 22m 8s\tremaining: 2h 45m 33s\n",
      "118:\tlearn: 0.2670941\ttest: 0.2889608\tbest: 0.2876663 (37)\ttotal: 22m 21s\tremaining: 2h 45m 34s\n",
      "119:\tlearn: 0.2669765\ttest: 0.2889878\tbest: 0.2876663 (37)\ttotal: 22m 34s\tremaining: 2h 45m 35s\n",
      "120:\tlearn: 0.2669124\ttest: 0.2890010\tbest: 0.2876663 (37)\ttotal: 22m 47s\tremaining: 2h 45m 33s\n",
      "121:\tlearn: 0.2668620\ttest: 0.2890167\tbest: 0.2876663 (37)\ttotal: 22m 54s\tremaining: 2h 44m 51s\n",
      "122:\tlearn: 0.2666238\ttest: 0.2891018\tbest: 0.2876663 (37)\ttotal: 23m 3s\tremaining: 2h 44m 23s\n",
      "123:\tlearn: 0.2664127\ttest: 0.2891206\tbest: 0.2876663 (37)\ttotal: 23m 12s\tremaining: 2h 44m\n",
      "124:\tlearn: 0.2662720\ttest: 0.2891306\tbest: 0.2876663 (37)\ttotal: 23m 22s\tremaining: 2h 43m 34s\n",
      "125:\tlearn: 0.2661053\ttest: 0.2891815\tbest: 0.2876663 (37)\ttotal: 23m 31s\tremaining: 2h 43m 13s\n",
      "126:\tlearn: 0.2659274\ttest: 0.2892254\tbest: 0.2876663 (37)\ttotal: 23m 41s\tremaining: 2h 42m 52s\n",
      "127:\tlearn: 0.2657385\ttest: 0.2892736\tbest: 0.2876663 (37)\ttotal: 23m 51s\tremaining: 2h 42m 29s\n",
      "128:\tlearn: 0.2656406\ttest: 0.2892893\tbest: 0.2876663 (37)\ttotal: 24m\tremaining: 2h 42m 7s\n",
      "129:\tlearn: 0.2654199\ttest: 0.2893155\tbest: 0.2876663 (37)\ttotal: 24m 10s\tremaining: 2h 41m 44s\n",
      "130:\tlearn: 0.2652273\ttest: 0.2893846\tbest: 0.2876663 (37)\ttotal: 24m 17s\tremaining: 2h 41m 10s\n",
      "131:\tlearn: 0.2651166\ttest: 0.2894438\tbest: 0.2876663 (37)\ttotal: 24m 24s\tremaining: 2h 40m 32s\n",
      "132:\tlearn: 0.2649192\ttest: 0.2895118\tbest: 0.2876663 (37)\ttotal: 24m 31s\tremaining: 2h 39m 51s\n",
      "133:\tlearn: 0.2647218\ttest: 0.2895719\tbest: 0.2876663 (37)\ttotal: 24m 37s\tremaining: 2h 39m 10s\n",
      "134:\tlearn: 0.2645662\ttest: 0.2896460\tbest: 0.2876663 (37)\ttotal: 24m 44s\tremaining: 2h 38m 30s\n",
      "135:\tlearn: 0.2644994\ttest: 0.2896436\tbest: 0.2876663 (37)\ttotal: 24m 51s\tremaining: 2h 37m 52s\n",
      "136:\tlearn: 0.2643752\ttest: 0.2896725\tbest: 0.2876663 (37)\ttotal: 24m 57s\tremaining: 2h 37m 13s\n",
      "137:\tlearn: 0.2642049\ttest: 0.2896610\tbest: 0.2876663 (37)\ttotal: 25m 4s\tremaining: 2h 36m 34s\n",
      "Stopped by overfitting detector  (100 iterations wait)\n",
      "\n",
      "bestTest = 0.2876662946\n",
      "bestIteration = 37\n",
      "\n",
      "Shrink model to first 38 iterations.\n",
      "0:\tlearn: 0.5623927\ttest: 0.5622414\tbest: 0.5622414 (0)\ttotal: 6.33s\tremaining: 1h 45m 25s\n",
      "1:\tlearn: 0.4757230\ttest: 0.4756025\tbest: 0.4756025 (1)\ttotal: 12.6s\tremaining: 1h 44m 41s\n",
      "2:\tlearn: 0.4197958\ttest: 0.4198382\tbest: 0.4198382 (2)\ttotal: 19.5s\tremaining: 1h 48m 5s\n",
      "3:\tlearn: 0.3818302\ttest: 0.3820601\tbest: 0.3820601 (3)\ttotal: 21.1s\tremaining: 1h 27m 35s\n",
      "4:\tlearn: 0.3553216\ttest: 0.3558302\tbest: 0.3558302 (4)\ttotal: 28.5s\tremaining: 1h 34m 25s\n",
      "5:\tlearn: 0.3368005\ttest: 0.3374741\tbest: 0.3374741 (5)\ttotal: 35.8s\tremaining: 1h 38m 58s\n",
      "6:\tlearn: 0.3238663\ttest: 0.3246840\tbest: 0.3246840 (6)\ttotal: 37.4s\tremaining: 1h 28m 26s\n",
      "7:\tlearn: 0.3146636\ttest: 0.3154775\tbest: 0.3154775 (7)\ttotal: 37.6s\tremaining: 1h 17m 37s\n",
      "8:\tlearn: 0.3082489\ttest: 0.3090430\tbest: 0.3090430 (8)\ttotal: 37.7s\tremaining: 1h 9m 9s\n",
      "9:\tlearn: 0.3026981\ttest: 0.3036067\tbest: 0.3036067 (9)\ttotal: 39.3s\tremaining: 1h 4m 49s\n",
      "10:\tlearn: 0.2982212\ttest: 0.2995035\tbest: 0.2995035 (10)\ttotal: 45.3s\tremaining: 1h 7m 52s\n",
      "11:\tlearn: 0.2955136\ttest: 0.2968055\tbest: 0.2968055 (11)\ttotal: 45.4s\tremaining: 1h 2m 21s\n",
      "12:\tlearn: 0.2927704\ttest: 0.2945351\tbest: 0.2945351 (12)\ttotal: 51.4s\tremaining: 1h 5m 5s\n",
      "13:\tlearn: 0.2903894\ttest: 0.2925468\tbest: 0.2925468 (13)\ttotal: 58.2s\tremaining: 1h 8m 17s\n",
      "14:\tlearn: 0.2886815\ttest: 0.2912070\tbest: 0.2912070 (14)\ttotal: 1m 5s\tremaining: 1h 12m 9s\n"
     ]
    },
    {
     "name": "stdout",
     "output_type": "stream",
     "text": [
      "15:\tlearn: 0.2872030\ttest: 0.2899071\tbest: 0.2899071 (15)\ttotal: 1m 13s\tremaining: 1h 15m 7s\n",
      "16:\tlearn: 0.2861040\ttest: 0.2890480\tbest: 0.2890480 (16)\ttotal: 1m 20s\tremaining: 1h 17m 43s\n",
      "17:\tlearn: 0.2850086\ttest: 0.2883397\tbest: 0.2883397 (17)\ttotal: 1m 28s\tremaining: 1h 20m 1s\n",
      "18:\tlearn: 0.2842527\ttest: 0.2877997\tbest: 0.2877997 (18)\ttotal: 1m 35s\tremaining: 1h 21m 59s\n",
      "19:\tlearn: 0.2836763\ttest: 0.2872365\tbest: 0.2872365 (19)\ttotal: 1m 35s\tremaining: 1h 18m 12s\n",
      "20:\tlearn: 0.2830379\ttest: 0.2868117\tbest: 0.2868117 (20)\ttotal: 1m 43s\tremaining: 1h 20m 11s\n",
      "21:\tlearn: 0.2828439\ttest: 0.2866155\tbest: 0.2866155 (21)\ttotal: 1m 43s\tremaining: 1h 16m 32s\n",
      "22:\tlearn: 0.2823620\ttest: 0.2863755\tbest: 0.2863755 (22)\ttotal: 1m 50s\tremaining: 1h 18m 4s\n",
      "23:\tlearn: 0.2816912\ttest: 0.2860891\tbest: 0.2860891 (23)\ttotal: 1m 57s\tremaining: 1h 19m 29s\n",
      "24:\tlearn: 0.2812362\ttest: 0.2859311\tbest: 0.2859311 (24)\ttotal: 2m 4s\tremaining: 1h 20m 43s\n",
      "25:\tlearn: 0.2807847\ttest: 0.2858361\tbest: 0.2858361 (25)\ttotal: 2m 10s\tremaining: 1h 21m 46s\n",
      "26:\tlearn: 0.2804755\ttest: 0.2857333\tbest: 0.2857333 (26)\ttotal: 2m 17s\tremaining: 1h 22m 50s\n",
      "27:\tlearn: 0.2800729\ttest: 0.2857099\tbest: 0.2857099 (27)\ttotal: 2m 25s\tremaining: 1h 24m 1s\n",
      "28:\tlearn: 0.2797786\ttest: 0.2856204\tbest: 0.2856204 (28)\ttotal: 2m 32s\tremaining: 1h 25m 1s\n",
      "29:\tlearn: 0.2794120\ttest: 0.2854947\tbest: 0.2854947 (29)\ttotal: 2m 39s\tremaining: 1h 25m 50s\n",
      "30:\tlearn: 0.2792105\ttest: 0.2854337\tbest: 0.2854337 (30)\ttotal: 2m 45s\tremaining: 1h 26m 26s\n",
      "31:\tlearn: 0.2788169\ttest: 0.2854774\tbest: 0.2854337 (30)\ttotal: 2m 52s\tremaining: 1h 27m 3s\n",
      "32:\tlearn: 0.2785255\ttest: 0.2854541\tbest: 0.2854337 (30)\ttotal: 2m 59s\tremaining: 1h 27m 46s\n",
      "33:\tlearn: 0.2781880\ttest: 0.2853973\tbest: 0.2853973 (33)\ttotal: 3m 13s\tremaining: 1h 31m 32s\n",
      "34:\tlearn: 0.2780085\ttest: 0.2854036\tbest: 0.2853973 (33)\ttotal: 3m 27s\tremaining: 1h 35m 28s\n",
      "35:\tlearn: 0.2777914\ttest: 0.2853362\tbest: 0.2853362 (35)\ttotal: 3m 40s\tremaining: 1h 38m 24s\n",
      "36:\tlearn: 0.2776648\ttest: 0.2852899\tbest: 0.2852899 (36)\ttotal: 3m 50s\tremaining: 1h 40m\n",
      "37:\tlearn: 0.2775419\ttest: 0.2852985\tbest: 0.2852899 (36)\ttotal: 3m 56s\tremaining: 1h 39m 56s\n",
      "38:\tlearn: 0.2773482\ttest: 0.2852537\tbest: 0.2852537 (38)\ttotal: 4m 3s\tremaining: 1h 39m 50s\n",
      "39:\tlearn: 0.2772167\ttest: 0.2852518\tbest: 0.2852518 (39)\ttotal: 4m 9s\tremaining: 1h 39m 39s\n",
      "40:\tlearn: 0.2770166\ttest: 0.2852674\tbest: 0.2852518 (39)\ttotal: 4m 15s\tremaining: 1h 39m 27s\n",
      "41:\tlearn: 0.2769916\ttest: 0.2852537\tbest: 0.2852518 (39)\ttotal: 4m 15s\tremaining: 1h 37m 2s\n",
      "42:\tlearn: 0.2767518\ttest: 0.2852774\tbest: 0.2852518 (39)\ttotal: 4m 23s\tremaining: 1h 37m 34s\n",
      "43:\tlearn: 0.2766521\ttest: 0.2852495\tbest: 0.2852495 (43)\ttotal: 4m 31s\tremaining: 1h 38m 21s\n",
      "44:\tlearn: 0.2765176\ttest: 0.2852712\tbest: 0.2852495 (43)\ttotal: 4m 43s\tremaining: 1h 40m 23s\n",
      "45:\tlearn: 0.2763916\ttest: 0.2852533\tbest: 0.2852495 (43)\ttotal: 4m 56s\tremaining: 1h 42m 22s\n",
      "46:\tlearn: 0.2761397\ttest: 0.2852520\tbest: 0.2852495 (43)\ttotal: 5m 8s\tremaining: 1h 44m 14s\n",
      "47:\tlearn: 0.2760504\ttest: 0.2852500\tbest: 0.2852495 (43)\ttotal: 5m 18s\tremaining: 1h 45m 22s\n",
      "48:\tlearn: 0.2757996\ttest: 0.2852668\tbest: 0.2852495 (43)\ttotal: 5m 26s\tremaining: 1h 45m 34s\n",
      "49:\tlearn: 0.2756616\ttest: 0.2852795\tbest: 0.2852495 (43)\ttotal: 5m 38s\tremaining: 1h 47m 11s\n",
      "50:\tlearn: 0.2755841\ttest: 0.2852834\tbest: 0.2852495 (43)\ttotal: 5m 50s\tremaining: 1h 48m 46s\n",
      "51:\tlearn: 0.2754781\ttest: 0.2852756\tbest: 0.2852495 (43)\ttotal: 6m 2s\tremaining: 1h 50m 15s\n",
      "52:\tlearn: 0.2753039\ttest: 0.2852663\tbest: 0.2852495 (43)\ttotal: 6m 13s\tremaining: 1h 51m 14s\n",
      "53:\tlearn: 0.2751373\ttest: 0.2852760\tbest: 0.2852495 (43)\ttotal: 6m 20s\tremaining: 1h 51m 14s\n",
      "54:\tlearn: 0.2749577\ttest: 0.2853025\tbest: 0.2852495 (43)\ttotal: 6m 33s\tremaining: 1h 52m 33s\n",
      "55:\tlearn: 0.2748186\ttest: 0.2853101\tbest: 0.2852495 (43)\ttotal: 6m 45s\tremaining: 1h 53m 51s\n",
      "56:\tlearn: 0.2745895\ttest: 0.2853489\tbest: 0.2852495 (43)\ttotal: 6m 57s\tremaining: 1h 55m 6s\n",
      "57:\tlearn: 0.2744420\ttest: 0.2853432\tbest: 0.2852495 (43)\ttotal: 7m 8s\tremaining: 1h 55m 53s\n",
      "58:\tlearn: 0.2742477\ttest: 0.2853885\tbest: 0.2852495 (43)\ttotal: 7m 15s\tremaining: 1h 55m 44s\n",
      "59:\tlearn: 0.2740885\ttest: 0.2853747\tbest: 0.2852495 (43)\ttotal: 7m 26s\tremaining: 1h 56m 41s\n",
      "60:\tlearn: 0.2740011\ttest: 0.2853735\tbest: 0.2852495 (43)\ttotal: 7m 38s\tremaining: 1h 57m 39s\n",
      "61:\tlearn: 0.2739443\ttest: 0.2853842\tbest: 0.2852495 (43)\ttotal: 7m 50s\tremaining: 1h 58m 31s\n",
      "62:\tlearn: 0.2737420\ttest: 0.2853591\tbest: 0.2852495 (43)\ttotal: 8m 1s\tremaining: 1h 59m 17s\n",
      "63:\tlearn: 0.2736529\ttest: 0.2853651\tbest: 0.2852495 (43)\ttotal: 8m 8s\tremaining: 1h 59m 5s\n",
      "64:\tlearn: 0.2734778\ttest: 0.2853850\tbest: 0.2852495 (43)\ttotal: 8m 19s\tremaining: 1h 59m 40s\n",
      "65:\tlearn: 0.2734766\ttest: 0.2853859\tbest: 0.2852495 (43)\ttotal: 8m 19s\tremaining: 1h 57m 46s\n",
      "66:\tlearn: 0.2733407\ttest: 0.2854002\tbest: 0.2852495 (43)\ttotal: 8m 31s\tremaining: 1h 58m 40s\n",
      "67:\tlearn: 0.2732552\ttest: 0.2854330\tbest: 0.2852495 (43)\ttotal: 8m 43s\tremaining: 1h 59m 35s\n",
      "68:\tlearn: 0.2731953\ttest: 0.2854444\tbest: 0.2852495 (43)\ttotal: 8m 55s\tremaining: 2h 28s\n",
      "69:\tlearn: 0.2731343\ttest: 0.2854339\tbest: 0.2852495 (43)\ttotal: 9m 3s\tremaining: 2h 23s\n",
      "70:\tlearn: 0.2729982\ttest: 0.2854956\tbest: 0.2852495 (43)\ttotal: 9m 13s\tremaining: 2h 46s\n",
      "71:\tlearn: 0.2728862\ttest: 0.2855190\tbest: 0.2852495 (43)\ttotal: 9m 25s\tremaining: 2h 1m 34s\n",
      "72:\tlearn: 0.2727767\ttest: 0.2855470\tbest: 0.2852495 (43)\ttotal: 9m 38s\tremaining: 2h 2m 30s\n",
      "73:\tlearn: 0.2726714\ttest: 0.2855653\tbest: 0.2852495 (43)\ttotal: 9m 51s\tremaining: 2h 3m 25s\n",
      "74:\tlearn: 0.2724735\ttest: 0.2856206\tbest: 0.2852495 (43)\ttotal: 10m\tremaining: 2h 3m 25s\n",
      "75:\tlearn: 0.2722925\ttest: 0.2856272\tbest: 0.2852495 (43)\ttotal: 10m 10s\tremaining: 2h 3m 44s\n",
      "76:\tlearn: 0.2722105\ttest: 0.2856444\tbest: 0.2852495 (43)\ttotal: 10m 23s\tremaining: 2h 4m 32s\n",
      "77:\tlearn: 0.2720921\ttest: 0.2856498\tbest: 0.2852495 (43)\ttotal: 10m 35s\tremaining: 2h 5m 13s\n",
      "78:\tlearn: 0.2719972\ttest: 0.2856670\tbest: 0.2852495 (43)\ttotal: 10m 48s\tremaining: 2h 5m 57s\n",
      "79:\tlearn: 0.2719221\ttest: 0.2856789\tbest: 0.2852495 (43)\ttotal: 10m 56s\tremaining: 2h 5m 53s\n",
      "80:\tlearn: 0.2718240\ttest: 0.2857247\tbest: 0.2852495 (43)\ttotal: 11m 7s\tremaining: 2h 6m 12s\n",
      "81:\tlearn: 0.2717161\ttest: 0.2857428\tbest: 0.2852495 (43)\ttotal: 11m 19s\tremaining: 2h 6m 52s\n",
      "82:\tlearn: 0.2716487\ttest: 0.2857325\tbest: 0.2852495 (43)\ttotal: 11m 32s\tremaining: 2h 7m 30s\n",
      "83:\tlearn: 0.2715783\ttest: 0.2857190\tbest: 0.2852495 (43)\ttotal: 11m 45s\tremaining: 2h 8m 7s\n",
      "84:\tlearn: 0.2715375\ttest: 0.2857304\tbest: 0.2852495 (43)\ttotal: 11m 52s\tremaining: 2h 7m 54s\n",
      "85:\tlearn: 0.2714030\ttest: 0.2857304\tbest: 0.2852495 (43)\ttotal: 12m 4s\tremaining: 2h 8m 14s\n",
      "86:\tlearn: 0.2713295\ttest: 0.2857238\tbest: 0.2852495 (43)\ttotal: 12m 16s\tremaining: 2h 8m 47s\n",
      "87:\tlearn: 0.2711746\ttest: 0.2857630\tbest: 0.2852495 (43)\ttotal: 12m 28s\tremaining: 2h 9m 21s\n",
      "88:\tlearn: 0.2711272\ttest: 0.2857530\tbest: 0.2852495 (43)\ttotal: 12m 41s\tremaining: 2h 9m 51s\n",
      "89:\tlearn: 0.2709884\ttest: 0.2857725\tbest: 0.2852495 (43)\ttotal: 12m 49s\tremaining: 2h 9m 40s\n",
      "90:\tlearn: 0.2708852\ttest: 0.2858082\tbest: 0.2852495 (43)\ttotal: 13m 1s\tremaining: 2h 10m 3s\n",
      "91:\tlearn: 0.2707182\ttest: 0.2857988\tbest: 0.2852495 (43)\ttotal: 13m 13s\tremaining: 2h 10m 29s\n",
      "92:\tlearn: 0.2705655\ttest: 0.2858296\tbest: 0.2852495 (43)\ttotal: 13m 24s\tremaining: 2h 10m 50s\n",
      "93:\tlearn: 0.2704366\ttest: 0.2858492\tbest: 0.2852495 (43)\ttotal: 13m 36s\tremaining: 2h 11m 13s\n",
      "94:\tlearn: 0.2703166\ttest: 0.2858728\tbest: 0.2852495 (43)\ttotal: 13m 47s\tremaining: 2h 11m 22s\n",
      "95:\tlearn: 0.2702358\ttest: 0.2858770\tbest: 0.2852495 (43)\ttotal: 13m 59s\tremaining: 2h 11m 43s\n",
      "96:\tlearn: 0.2702148\ttest: 0.2858829\tbest: 0.2852495 (43)\ttotal: 13m 59s\tremaining: 2h 10m 18s\n",
      "97:\tlearn: 0.2700347\ttest: 0.2859017\tbest: 0.2852495 (43)\ttotal: 14m 11s\tremaining: 2h 10m 41s\n",
      "98:\tlearn: 0.2700323\ttest: 0.2859023\tbest: 0.2852495 (43)\ttotal: 14m 12s\tremaining: 2h 9m 15s\n",
      "99:\tlearn: 0.2699591\ttest: 0.2859427\tbest: 0.2852495 (43)\ttotal: 14m 24s\tremaining: 2h 9m 36s\n",
      "100:\tlearn: 0.2698587\ttest: 0.2859557\tbest: 0.2852495 (43)\ttotal: 14m 36s\tremaining: 2h 10m\n",
      "101:\tlearn: 0.2697531\ttest: 0.2860113\tbest: 0.2852495 (43)\ttotal: 14m 47s\tremaining: 2h 10m 13s\n",
      "102:\tlearn: 0.2695886\ttest: 0.2860563\tbest: 0.2852495 (43)\ttotal: 14m 59s\tremaining: 2h 10m 33s\n"
     ]
    },
    {
     "name": "stdout",
     "output_type": "stream",
     "text": [
      "103:\tlearn: 0.2694543\ttest: 0.2860695\tbest: 0.2852495 (43)\ttotal: 15m 11s\tremaining: 2h 10m 53s\n",
      "104:\tlearn: 0.2693763\ttest: 0.2860634\tbest: 0.2852495 (43)\ttotal: 15m 23s\tremaining: 2h 11m 14s\n",
      "105:\tlearn: 0.2692491\ttest: 0.2860960\tbest: 0.2852495 (43)\ttotal: 15m 35s\tremaining: 2h 11m 34s\n",
      "106:\tlearn: 0.2692067\ttest: 0.2860982\tbest: 0.2852495 (43)\ttotal: 15m 47s\tremaining: 2h 11m 45s\n",
      "107:\tlearn: 0.2690491\ttest: 0.2861172\tbest: 0.2852495 (43)\ttotal: 15m 59s\tremaining: 2h 12m 7s\n",
      "108:\tlearn: 0.2689519\ttest: 0.2861741\tbest: 0.2852495 (43)\ttotal: 16m 12s\tremaining: 2h 12m 26s\n",
      "109:\tlearn: 0.2687923\ttest: 0.2862063\tbest: 0.2852495 (43)\ttotal: 16m 24s\tremaining: 2h 12m 43s\n",
      "110:\tlearn: 0.2687494\ttest: 0.2862142\tbest: 0.2852495 (43)\ttotal: 16m 35s\tremaining: 2h 12m 53s\n",
      "111:\tlearn: 0.2686609\ttest: 0.2862128\tbest: 0.2852495 (43)\ttotal: 16m 47s\tremaining: 2h 13m 5s\n",
      "112:\tlearn: 0.2685744\ttest: 0.2862376\tbest: 0.2852495 (43)\ttotal: 16m 59s\tremaining: 2h 13m 21s\n",
      "113:\tlearn: 0.2684625\ttest: 0.2862325\tbest: 0.2852495 (43)\ttotal: 17m 11s\tremaining: 2h 13m 39s\n",
      "114:\tlearn: 0.2683766\ttest: 0.2862496\tbest: 0.2852495 (43)\ttotal: 17m 24s\tremaining: 2h 13m 54s\n",
      "115:\tlearn: 0.2683389\ttest: 0.2862607\tbest: 0.2852495 (43)\ttotal: 17m 35s\tremaining: 2h 14m 3s\n",
      "116:\tlearn: 0.2681623\ttest: 0.2862875\tbest: 0.2852495 (43)\ttotal: 17m 47s\tremaining: 2h 14m 17s\n",
      "117:\tlearn: 0.2679647\ttest: 0.2863104\tbest: 0.2852495 (43)\ttotal: 17m 59s\tremaining: 2h 14m 32s\n",
      "118:\tlearn: 0.2679038\ttest: 0.2863239\tbest: 0.2852495 (43)\ttotal: 18m 12s\tremaining: 2h 14m 47s\n",
      "119:\tlearn: 0.2677837\ttest: 0.2863475\tbest: 0.2852495 (43)\ttotal: 18m 24s\tremaining: 2h 14m 59s\n",
      "120:\tlearn: 0.2677318\ttest: 0.2863413\tbest: 0.2852495 (43)\ttotal: 18m 35s\tremaining: 2h 15m 4s\n",
      "121:\tlearn: 0.2676658\ttest: 0.2863264\tbest: 0.2852495 (43)\ttotal: 18m 47s\tremaining: 2h 15m 14s\n",
      "122:\tlearn: 0.2675618\ttest: 0.2863373\tbest: 0.2852495 (43)\ttotal: 18m 59s\tremaining: 2h 15m 25s\n",
      "123:\tlearn: 0.2674590\ttest: 0.2863608\tbest: 0.2852495 (43)\ttotal: 19m 11s\tremaining: 2h 15m 35s\n",
      "124:\tlearn: 0.2673796\ttest: 0.2863830\tbest: 0.2852495 (43)\ttotal: 19m 23s\tremaining: 2h 15m 44s\n",
      "125:\tlearn: 0.2671996\ttest: 0.2863970\tbest: 0.2852495 (43)\ttotal: 19m 34s\tremaining: 2h 15m 48s\n",
      "126:\tlearn: 0.2670849\ttest: 0.2864211\tbest: 0.2852495 (43)\ttotal: 19m 47s\tremaining: 2h 16m 1s\n",
      "127:\tlearn: 0.2669536\ttest: 0.2864362\tbest: 0.2852495 (43)\ttotal: 19m 59s\tremaining: 2h 16m 13s\n",
      "128:\tlearn: 0.2668029\ttest: 0.2864931\tbest: 0.2852495 (43)\ttotal: 20m 12s\tremaining: 2h 16m 24s\n",
      "129:\tlearn: 0.2667265\ttest: 0.2865154\tbest: 0.2852495 (43)\ttotal: 20m 23s\tremaining: 2h 16m 29s\n",
      "130:\tlearn: 0.2666952\ttest: 0.2865126\tbest: 0.2852495 (43)\ttotal: 20m 35s\tremaining: 2h 16m 35s\n",
      "131:\tlearn: 0.2665195\ttest: 0.2865965\tbest: 0.2852495 (43)\ttotal: 20m 47s\tremaining: 2h 16m 45s\n",
      "132:\tlearn: 0.2663730\ttest: 0.2866296\tbest: 0.2852495 (43)\ttotal: 21m\tremaining: 2h 16m 55s\n",
      "133:\tlearn: 0.2662254\ttest: 0.2866921\tbest: 0.2852495 (43)\ttotal: 21m 12s\tremaining: 2h 17m 4s\n",
      "134:\tlearn: 0.2661806\ttest: 0.2867070\tbest: 0.2852495 (43)\ttotal: 21m 23s\tremaining: 2h 17m 6s\n",
      "135:\tlearn: 0.2660639\ttest: 0.2867327\tbest: 0.2852495 (43)\ttotal: 21m 35s\tremaining: 2h 17m 13s\n",
      "136:\tlearn: 0.2659063\ttest: 0.2867366\tbest: 0.2852495 (43)\ttotal: 21m 48s\tremaining: 2h 17m 19s\n",
      "137:\tlearn: 0.2657822\ttest: 0.2867674\tbest: 0.2852495 (43)\ttotal: 22m\tremaining: 2h 17m 25s\n",
      "138:\tlearn: 0.2656188\ttest: 0.2868094\tbest: 0.2852495 (43)\ttotal: 22m 12s\tremaining: 2h 17m 33s\n",
      "139:\tlearn: 0.2655422\ttest: 0.2868182\tbest: 0.2852495 (43)\ttotal: 22m 23s\tremaining: 2h 17m 33s\n",
      "140:\tlearn: 0.2653492\ttest: 0.2868178\tbest: 0.2852495 (43)\ttotal: 22m 35s\tremaining: 2h 17m 38s\n",
      "141:\tlearn: 0.2652640\ttest: 0.2868399\tbest: 0.2852495 (43)\ttotal: 22m 47s\tremaining: 2h 17m 43s\n",
      "142:\tlearn: 0.2650810\ttest: 0.2868796\tbest: 0.2852495 (43)\ttotal: 22m 59s\tremaining: 2h 17m 49s\n",
      "143:\tlearn: 0.2649851\ttest: 0.2869147\tbest: 0.2852495 (43)\ttotal: 23m 12s\tremaining: 2h 17m 55s\n",
      "Stopped by overfitting detector  (100 iterations wait)\n",
      "\n",
      "bestTest = 0.2852495418\n",
      "bestIteration = 43\n",
      "\n",
      "Shrink model to first 44 iterations.\n",
      "0:\tlearn: 0.5627214\ttest: 0.5628728\tbest: 0.5628728 (0)\ttotal: 11.4s\tremaining: 3h 10m 5s\n",
      "1:\tlearn: 0.4760053\ttest: 0.4761639\tbest: 0.4761639 (1)\ttotal: 23.2s\tremaining: 3h 13m 10s\n",
      "2:\tlearn: 0.4200453\ttest: 0.4203302\tbest: 0.4203302 (2)\ttotal: 35.1s\tremaining: 3h 14m 38s\n",
      "3:\tlearn: 0.3819982\ttest: 0.3823627\tbest: 0.3823627 (3)\ttotal: 38.1s\tremaining: 2h 37m 55s\n",
      "4:\tlearn: 0.3554772\ttest: 0.3559417\tbest: 0.3559417 (4)\ttotal: 49.2s\tremaining: 2h 43m 2s\n",
      "5:\tlearn: 0.3370163\ttest: 0.3376785\tbest: 0.3376785 (5)\ttotal: 59.2s\tremaining: 2h 43m 22s\n",
      "6:\tlearn: 0.3240236\ttest: 0.3248247\tbest: 0.3248247 (6)\ttotal: 1m 2s\tremaining: 2h 26m 45s\n",
      "7:\tlearn: 0.3147869\ttest: 0.3155560\tbest: 0.3155560 (7)\ttotal: 1m 2s\tremaining: 2h 9m\n",
      "8:\tlearn: 0.3078138\ttest: 0.3086864\tbest: 0.3086864 (8)\ttotal: 1m 13s\tremaining: 2h 15m 28s\n",
      "9:\tlearn: 0.3023842\ttest: 0.3033989\tbest: 0.3033989 (9)\ttotal: 1m 26s\tremaining: 2h 22m 1s\n",
      "10:\tlearn: 0.2979543\ttest: 0.2991664\tbest: 0.2991664 (10)\ttotal: 1m 38s\tremaining: 2h 27m 21s\n",
      "11:\tlearn: 0.2946003\ttest: 0.2961148\tbest: 0.2961148 (11)\ttotal: 1m 50s\tremaining: 2h 31m 56s\n",
      "12:\tlearn: 0.2921495\ttest: 0.2938765\tbest: 0.2938765 (12)\ttotal: 2m 2s\tremaining: 2h 35m 5s\n",
      "13:\tlearn: 0.2901240\ttest: 0.2921223\tbest: 0.2921223 (13)\ttotal: 2m 14s\tremaining: 2h 38m 4s\n",
      "14:\tlearn: 0.2882366\ttest: 0.2905634\tbest: 0.2905634 (14)\ttotal: 2m 26s\tremaining: 2h 40m 45s\n",
      "15:\tlearn: 0.2868132\ttest: 0.2894423\tbest: 0.2894423 (15)\ttotal: 2m 39s\tremaining: 2h 43m 13s\n",
      "16:\tlearn: 0.2856530\ttest: 0.2885376\tbest: 0.2885376 (16)\ttotal: 2m 51s\tremaining: 2h 45m 29s\n",
      "17:\tlearn: 0.2846578\ttest: 0.2878461\tbest: 0.2878461 (17)\ttotal: 3m 3s\tremaining: 2h 46m 57s\n",
      "18:\tlearn: 0.2840379\ttest: 0.2872495\tbest: 0.2872495 (18)\ttotal: 3m 4s\tremaining: 2h 38m 28s\n",
      "19:\tlearn: 0.2833737\ttest: 0.2867950\tbest: 0.2867950 (19)\ttotal: 3m 16s\tremaining: 2h 40m 21s\n",
      "20:\tlearn: 0.2831245\ttest: 0.2865598\tbest: 0.2865598 (20)\ttotal: 3m 16s\tremaining: 2h 32m 43s\n",
      "21:\tlearn: 0.2826241\ttest: 0.2862364\tbest: 0.2862364 (21)\ttotal: 3m 28s\tremaining: 2h 34m 43s\n",
      "22:\tlearn: 0.2820002\ttest: 0.2858914\tbest: 0.2858914 (22)\ttotal: 3m 41s\tremaining: 2h 36m 28s\n",
      "23:\tlearn: 0.2815315\ttest: 0.2856570\tbest: 0.2856570 (23)\ttotal: 3m 53s\tremaining: 2h 38m 13s\n",
      "24:\tlearn: 0.2810893\ttest: 0.2855269\tbest: 0.2855269 (24)\ttotal: 4m 5s\tremaining: 2h 39m 25s\n",
      "25:\tlearn: 0.2807575\ttest: 0.2853786\tbest: 0.2853786 (25)\ttotal: 4m 17s\tremaining: 2h 40m 53s\n",
      "26:\tlearn: 0.2804063\ttest: 0.2852359\tbest: 0.2852359 (26)\ttotal: 4m 29s\tremaining: 2h 42m 6s\n",
      "27:\tlearn: 0.2801015\ttest: 0.2851899\tbest: 0.2851899 (27)\ttotal: 4m 41s\tremaining: 2h 43m 7s\n",
      "28:\tlearn: 0.2797410\ttest: 0.2851339\tbest: 0.2851339 (28)\ttotal: 4m 54s\tremaining: 2h 44m 5s\n",
      "29:\tlearn: 0.2794366\ttest: 0.2850632\tbest: 0.2850632 (29)\ttotal: 5m 5s\tremaining: 2h 44m 46s\n",
      "30:\tlearn: 0.2790225\ttest: 0.2849939\tbest: 0.2849939 (30)\ttotal: 5m 18s\tremaining: 2h 45m 45s\n",
      "31:\tlearn: 0.2787305\ttest: 0.2849522\tbest: 0.2849522 (31)\ttotal: 5m 30s\tremaining: 2h 46m 32s\n",
      "32:\tlearn: 0.2783758\ttest: 0.2848813\tbest: 0.2848813 (32)\ttotal: 5m 42s\tremaining: 2h 47m 10s\n",
      "33:\tlearn: 0.2781373\ttest: 0.2848829\tbest: 0.2848813 (32)\ttotal: 5m 54s\tremaining: 2h 47m 42s\n",
      "34:\tlearn: 0.2781169\ttest: 0.2848671\tbest: 0.2848671 (34)\ttotal: 5m 54s\tremaining: 2h 42m 54s\n",
      "35:\tlearn: 0.2779442\ttest: 0.2848249\tbest: 0.2848249 (35)\ttotal: 6m 5s\tremaining: 2h 43m 19s\n",
      "36:\tlearn: 0.2777783\ttest: 0.2848087\tbest: 0.2848087 (36)\ttotal: 6m 18s\tremaining: 2h 43m 59s\n",
      "37:\tlearn: 0.2773760\ttest: 0.2848458\tbest: 0.2848087 (36)\ttotal: 6m 30s\tremaining: 2h 44m 35s\n",
      "38:\tlearn: 0.2772338\ttest: 0.2848104\tbest: 0.2848087 (36)\ttotal: 6m 42s\tremaining: 2h 45m 8s\n",
      "39:\tlearn: 0.2769681\ttest: 0.2848249\tbest: 0.2848087 (36)\ttotal: 6m 54s\tremaining: 2h 45m 38s\n",
      "40:\tlearn: 0.2768900\ttest: 0.2848263\tbest: 0.2848087 (36)\ttotal: 7m 5s\tremaining: 2h 45m 47s\n",
      "41:\tlearn: 0.2767980\ttest: 0.2847779\tbest: 0.2847779 (41)\ttotal: 7m 16s\tremaining: 2h 46m 4s\n",
      "42:\tlearn: 0.2767878\ttest: 0.2847725\tbest: 0.2847725 (42)\ttotal: 7m 17s\tremaining: 2h 42m 7s\n",
      "43:\tlearn: 0.2766058\ttest: 0.2848034\tbest: 0.2847725 (42)\ttotal: 7m 28s\tremaining: 2h 42m 32s\n",
      "44:\tlearn: 0.2765996\ttest: 0.2847967\tbest: 0.2847725 (42)\ttotal: 7m 29s\tremaining: 2h 38m 49s\n"
     ]
    },
    {
     "name": "stdout",
     "output_type": "stream",
     "text": [
      "45:\tlearn: 0.2764453\ttest: 0.2847724\tbest: 0.2847724 (45)\ttotal: 7m 40s\tremaining: 2h 39m 7s\n",
      "46:\tlearn: 0.2762615\ttest: 0.2847490\tbest: 0.2847490 (46)\ttotal: 7m 51s\tremaining: 2h 39m 24s\n",
      "47:\tlearn: 0.2761293\ttest: 0.2847184\tbest: 0.2847184 (47)\ttotal: 8m 2s\tremaining: 2h 39m 32s\n",
      "48:\tlearn: 0.2760679\ttest: 0.2847243\tbest: 0.2847184 (47)\ttotal: 8m 3s\tremaining: 2h 36m 24s\n",
      "49:\tlearn: 0.2759293\ttest: 0.2846956\tbest: 0.2846956 (49)\ttotal: 8m 14s\tremaining: 2h 36m 41s\n",
      "50:\tlearn: 0.2756754\ttest: 0.2846899\tbest: 0.2846899 (50)\ttotal: 8m 26s\tremaining: 2h 37m 1s\n",
      "51:\tlearn: 0.2755510\ttest: 0.2847076\tbest: 0.2846899 (50)\ttotal: 8m 37s\tremaining: 2h 37m 19s\n",
      "52:\tlearn: 0.2754445\ttest: 0.2847026\tbest: 0.2846899 (50)\ttotal: 8m 49s\tremaining: 2h 37m 42s\n",
      "53:\tlearn: 0.2752423\ttest: 0.2847132\tbest: 0.2846899 (50)\ttotal: 9m\tremaining: 2h 37m 49s\n",
      "54:\tlearn: 0.2751239\ttest: 0.2847390\tbest: 0.2846899 (50)\ttotal: 9m 12s\tremaining: 2h 38m 15s\n",
      "55:\tlearn: 0.2749449\ttest: 0.2847380\tbest: 0.2846899 (50)\ttotal: 9m 24s\tremaining: 2h 38m 38s\n",
      "56:\tlearn: 0.2748226\ttest: 0.2847200\tbest: 0.2846899 (50)\ttotal: 9m 36s\tremaining: 2h 39m 4s\n",
      "57:\tlearn: 0.2746809\ttest: 0.2847078\tbest: 0.2846899 (50)\ttotal: 9m 49s\tremaining: 2h 39m 27s\n",
      "58:\tlearn: 0.2746062\ttest: 0.2847155\tbest: 0.2846899 (50)\ttotal: 10m\tremaining: 2h 39m 36s\n",
      "59:\tlearn: 0.2745343\ttest: 0.2847069\tbest: 0.2846899 (50)\ttotal: 10m 6s\tremaining: 2h 38m 29s\n",
      "60:\tlearn: 0.2744602\ttest: 0.2847051\tbest: 0.2846899 (50)\ttotal: 10m 18s\tremaining: 2h 38m 42s\n",
      "61:\tlearn: 0.2743176\ttest: 0.2847057\tbest: 0.2846899 (50)\ttotal: 10m 30s\tremaining: 2h 38m 51s\n",
      "62:\tlearn: 0.2741415\ttest: 0.2847174\tbest: 0.2846899 (50)\ttotal: 10m 41s\tremaining: 2h 38m 58s\n",
      "63:\tlearn: 0.2739232\ttest: 0.2847329\tbest: 0.2846899 (50)\ttotal: 10m 52s\tremaining: 2h 39m 3s\n",
      "64:\tlearn: 0.2737402\ttest: 0.2847393\tbest: 0.2846899 (50)\ttotal: 11m 2s\tremaining: 2h 38m 55s\n",
      "65:\tlearn: 0.2735519\ttest: 0.2847598\tbest: 0.2846899 (50)\ttotal: 11m 14s\tremaining: 2h 39m 1s\n",
      "66:\tlearn: 0.2733775\ttest: 0.2847929\tbest: 0.2846899 (50)\ttotal: 11m 25s\tremaining: 2h 39m 11s\n",
      "67:\tlearn: 0.2732372\ttest: 0.2847883\tbest: 0.2846899 (50)\ttotal: 11m 37s\tremaining: 2h 39m 20s\n",
      "68:\tlearn: 0.2730970\ttest: 0.2847765\tbest: 0.2846899 (50)\ttotal: 11m 49s\tremaining: 2h 39m 32s\n",
      "69:\tlearn: 0.2729924\ttest: 0.2847675\tbest: 0.2846899 (50)\ttotal: 11m 59s\tremaining: 2h 39m 22s\n",
      "70:\tlearn: 0.2728987\ttest: 0.2847735\tbest: 0.2846899 (50)\ttotal: 12m 11s\tremaining: 2h 39m 37s\n",
      "71:\tlearn: 0.2727908\ttest: 0.2847681\tbest: 0.2846899 (50)\ttotal: 12m 24s\tremaining: 2h 39m 52s\n",
      "72:\tlearn: 0.2726002\ttest: 0.2847774\tbest: 0.2846899 (50)\ttotal: 12m 36s\tremaining: 2h 40m\n",
      "73:\tlearn: 0.2725116\ttest: 0.2847803\tbest: 0.2846899 (50)\ttotal: 12m 47s\tremaining: 2h 40m 3s\n",
      "74:\tlearn: 0.2723692\ttest: 0.2847858\tbest: 0.2846899 (50)\ttotal: 12m 58s\tremaining: 2h 39m 58s\n",
      "75:\tlearn: 0.2722067\ttest: 0.2848193\tbest: 0.2846899 (50)\ttotal: 13m 9s\tremaining: 2h 39m 57s\n",
      "76:\tlearn: 0.2721717\ttest: 0.2848316\tbest: 0.2846899 (50)\ttotal: 13m 20s\tremaining: 2h 39m 57s\n",
      "77:\tlearn: 0.2721020\ttest: 0.2848567\tbest: 0.2846899 (50)\ttotal: 13m 31s\tremaining: 2h 39m 57s\n",
      "78:\tlearn: 0.2719014\ttest: 0.2848929\tbest: 0.2846899 (50)\ttotal: 13m 43s\tremaining: 2h 39m 56s\n",
      "79:\tlearn: 0.2717024\ttest: 0.2849051\tbest: 0.2846899 (50)\ttotal: 13m 54s\tremaining: 2h 39m 56s\n",
      "80:\tlearn: 0.2715752\ttest: 0.2849200\tbest: 0.2846899 (50)\ttotal: 14m 4s\tremaining: 2h 39m 45s\n",
      "81:\tlearn: 0.2714042\ttest: 0.2849791\tbest: 0.2846899 (50)\ttotal: 14m 16s\tremaining: 2h 39m 45s\n",
      "82:\tlearn: 0.2713041\ttest: 0.2849805\tbest: 0.2846899 (50)\ttotal: 14m 27s\tremaining: 2h 39m 43s\n",
      "83:\tlearn: 0.2711910\ttest: 0.2849886\tbest: 0.2846899 (50)\ttotal: 14m 38s\tremaining: 2h 39m 42s\n",
      "84:\tlearn: 0.2710726\ttest: 0.2849922\tbest: 0.2846899 (50)\ttotal: 14m 50s\tremaining: 2h 39m 43s\n",
      "85:\tlearn: 0.2709897\ttest: 0.2849746\tbest: 0.2846899 (50)\ttotal: 15m 1s\tremaining: 2h 39m 41s\n",
      "86:\tlearn: 0.2709157\ttest: 0.2849465\tbest: 0.2846899 (50)\ttotal: 15m 12s\tremaining: 2h 39m 39s\n",
      "87:\tlearn: 0.2708053\ttest: 0.2849715\tbest: 0.2846899 (50)\ttotal: 15m 24s\tremaining: 2h 39m 39s\n",
      "88:\tlearn: 0.2706465\ttest: 0.2849753\tbest: 0.2846899 (50)\ttotal: 15m 35s\tremaining: 2h 39m 39s\n",
      "89:\tlearn: 0.2705729\ttest: 0.2849808\tbest: 0.2846899 (50)\ttotal: 15m 47s\tremaining: 2h 39m 40s\n",
      "90:\tlearn: 0.2704930\ttest: 0.2849627\tbest: 0.2846899 (50)\ttotal: 15m 58s\tremaining: 2h 39m 39s\n",
      "91:\tlearn: 0.2703404\ttest: 0.2850414\tbest: 0.2846899 (50)\ttotal: 16m 10s\tremaining: 2h 39m 34s\n",
      "92:\tlearn: 0.2702318\ttest: 0.2850579\tbest: 0.2846899 (50)\ttotal: 16m 21s\tremaining: 2h 39m 34s\n",
      "93:\tlearn: 0.2702283\ttest: 0.2850523\tbest: 0.2846899 (50)\ttotal: 16m 21s\tremaining: 2h 37m 44s\n",
      "94:\tlearn: 0.2701675\ttest: 0.2850503\tbest: 0.2846899 (50)\ttotal: 16m 33s\tremaining: 2h 37m 45s\n",
      "95:\tlearn: 0.2700675\ttest: 0.2850519\tbest: 0.2846899 (50)\ttotal: 16m 45s\tremaining: 2h 37m 48s\n",
      "96:\tlearn: 0.2699916\ttest: 0.2850655\tbest: 0.2846899 (50)\ttotal: 16m 56s\tremaining: 2h 37m 46s\n",
      "97:\tlearn: 0.2698497\ttest: 0.2851002\tbest: 0.2846899 (50)\ttotal: 17m 8s\tremaining: 2h 37m 42s\n",
      "98:\tlearn: 0.2697042\ttest: 0.2851111\tbest: 0.2846899 (50)\ttotal: 17m 19s\tremaining: 2h 37m 42s\n",
      "99:\tlearn: 0.2695681\ttest: 0.2851043\tbest: 0.2846899 (50)\ttotal: 17m 31s\tremaining: 2h 37m 46s\n",
      "100:\tlearn: 0.2694313\ttest: 0.2851022\tbest: 0.2846899 (50)\ttotal: 17m 43s\tremaining: 2h 37m 46s\n",
      "101:\tlearn: 0.2692999\ttest: 0.2851426\tbest: 0.2846899 (50)\ttotal: 17m 55s\tremaining: 2h 37m 47s\n",
      "102:\tlearn: 0.2691837\ttest: 0.2851534\tbest: 0.2846899 (50)\ttotal: 18m 5s\tremaining: 2h 37m 36s\n",
      "103:\tlearn: 0.2690508\ttest: 0.2851595\tbest: 0.2846899 (50)\ttotal: 18m 17s\tremaining: 2h 37m 37s\n",
      "104:\tlearn: 0.2689769\ttest: 0.2851625\tbest: 0.2846899 (50)\ttotal: 18m 29s\tremaining: 2h 37m 37s\n",
      "105:\tlearn: 0.2688568\ttest: 0.2851941\tbest: 0.2846899 (50)\ttotal: 18m 41s\tremaining: 2h 37m 38s\n",
      "106:\tlearn: 0.2687426\ttest: 0.2852126\tbest: 0.2846899 (50)\ttotal: 18m 53s\tremaining: 2h 37m 38s\n",
      "107:\tlearn: 0.2686599\ttest: 0.2852082\tbest: 0.2846899 (50)\ttotal: 19m 4s\tremaining: 2h 37m 32s\n",
      "108:\tlearn: 0.2686146\ttest: 0.2852110\tbest: 0.2846899 (50)\ttotal: 19m 16s\tremaining: 2h 37m 33s\n",
      "109:\tlearn: 0.2684700\ttest: 0.2852757\tbest: 0.2846899 (50)\ttotal: 19m 28s\tremaining: 2h 37m 32s\n",
      "110:\tlearn: 0.2683104\ttest: 0.2852774\tbest: 0.2846899 (50)\ttotal: 19m 40s\tremaining: 2h 37m 31s\n",
      "111:\tlearn: 0.2682547\ttest: 0.2852799\tbest: 0.2846899 (50)\ttotal: 19m 52s\tremaining: 2h 37m 32s\n",
      "112:\tlearn: 0.2679883\ttest: 0.2853488\tbest: 0.2846899 (50)\ttotal: 20m 3s\tremaining: 2h 37m 26s\n",
      "113:\tlearn: 0.2678683\ttest: 0.2853813\tbest: 0.2846899 (50)\ttotal: 20m 15s\tremaining: 2h 37m 29s\n",
      "114:\tlearn: 0.2677845\ttest: 0.2853794\tbest: 0.2846899 (50)\ttotal: 20m 27s\tremaining: 2h 37m 29s\n",
      "115:\tlearn: 0.2677255\ttest: 0.2854073\tbest: 0.2846899 (50)\ttotal: 20m 39s\tremaining: 2h 37m 29s\n",
      "116:\tlearn: 0.2676123\ttest: 0.2854113\tbest: 0.2846899 (50)\ttotal: 20m 52s\tremaining: 2h 37m 30s\n",
      "117:\tlearn: 0.2675464\ttest: 0.2854345\tbest: 0.2846899 (50)\ttotal: 21m 3s\tremaining: 2h 37m 23s\n",
      "118:\tlearn: 0.2674164\ttest: 0.2854900\tbest: 0.2846899 (50)\ttotal: 21m 15s\tremaining: 2h 37m 22s\n",
      "119:\tlearn: 0.2672726\ttest: 0.2855565\tbest: 0.2846899 (50)\ttotal: 21m 27s\tremaining: 2h 37m 21s\n",
      "120:\tlearn: 0.2671920\ttest: 0.2855696\tbest: 0.2846899 (50)\ttotal: 21m 39s\tremaining: 2h 37m 21s\n",
      "121:\tlearn: 0.2671907\ttest: 0.2855685\tbest: 0.2846899 (50)\ttotal: 21m 39s\tremaining: 2h 35m 55s\n",
      "122:\tlearn: 0.2669193\ttest: 0.2855998\tbest: 0.2846899 (50)\ttotal: 21m 52s\tremaining: 2h 35m 56s\n",
      "123:\tlearn: 0.2667325\ttest: 0.2855921\tbest: 0.2846899 (50)\ttotal: 22m 4s\tremaining: 2h 35m 56s\n",
      "124:\tlearn: 0.2665708\ttest: 0.2856185\tbest: 0.2846899 (50)\ttotal: 22m 17s\tremaining: 2h 36m\n",
      "125:\tlearn: 0.2665318\ttest: 0.2856183\tbest: 0.2846899 (50)\ttotal: 22m 30s\tremaining: 2h 36m 10s\n",
      "126:\tlearn: 0.2663677\ttest: 0.2856816\tbest: 0.2846899 (50)\ttotal: 22m 43s\tremaining: 2h 36m 11s\n",
      "129:\tlearn: 0.2660638\ttest: 0.2857507\tbest: 0.2846899 (50)\ttotal: 23m 22s\tremaining: 2h 36m 28s\n",
      "130:\tlearn: 0.2659249\ttest: 0.2857599\tbest: 0.2846899 (50)\ttotal: 23m 35s\tremaining: 2h 36m 31s\n",
      "131:\tlearn: 0.2658080\ttest: 0.2857917\tbest: 0.2846899 (50)\ttotal: 23m 48s\tremaining: 2h 36m 32s\n",
      "132:\tlearn: 0.2656309\ttest: 0.2857920\tbest: 0.2846899 (50)\ttotal: 24m 1s\tremaining: 2h 36m 33s\n",
      "133:\tlearn: 0.2655126\ttest: 0.2857961\tbest: 0.2846899 (50)\ttotal: 24m 12s\tremaining: 2h 36m 29s\n"
     ]
    },
    {
     "name": "stdout",
     "output_type": "stream",
     "text": [
      "134:\tlearn: 0.2654016\ttest: 0.2858264\tbest: 0.2846899 (50)\ttotal: 24m 25s\tremaining: 2h 36m 30s\n",
      "135:\tlearn: 0.2652033\ttest: 0.2858679\tbest: 0.2846899 (50)\ttotal: 24m 38s\tremaining: 2h 36m 34s\n",
      "136:\tlearn: 0.2651018\ttest: 0.2859128\tbest: 0.2846899 (50)\ttotal: 24m 51s\tremaining: 2h 36m 35s\n",
      "137:\tlearn: 0.2651013\ttest: 0.2859117\tbest: 0.2846899 (50)\ttotal: 24m 51s\tremaining: 2h 35m 18s\n",
      "138:\tlearn: 0.2650083\ttest: 0.2859251\tbest: 0.2846899 (50)\ttotal: 25m 4s\tremaining: 2h 35m 18s\n",
      "139:\tlearn: 0.2648302\ttest: 0.2859462\tbest: 0.2846899 (50)\ttotal: 25m 16s\tremaining: 2h 35m 13s\n",
      "140:\tlearn: 0.2646361\ttest: 0.2859769\tbest: 0.2846899 (50)\ttotal: 25m 28s\tremaining: 2h 35m 13s\n",
      "141:\tlearn: 0.2644281\ttest: 0.2859630\tbest: 0.2846899 (50)\ttotal: 25m 41s\tremaining: 2h 35m 15s\n",
      "142:\tlearn: 0.2642820\ttest: 0.2859960\tbest: 0.2846899 (50)\ttotal: 25m 54s\tremaining: 2h 35m 16s\n",
      "143:\tlearn: 0.2641309\ttest: 0.2860129\tbest: 0.2846899 (50)\ttotal: 26m 7s\tremaining: 2h 35m 18s\n",
      "144:\tlearn: 0.2639576\ttest: 0.2860114\tbest: 0.2846899 (50)\ttotal: 26m 19s\tremaining: 2h 35m 15s\n",
      "145:\tlearn: 0.2638663\ttest: 0.2860358\tbest: 0.2846899 (50)\ttotal: 26m 32s\tremaining: 2h 35m 14s\n",
      "146:\tlearn: 0.2637347\ttest: 0.2860864\tbest: 0.2846899 (50)\ttotal: 26m 45s\tremaining: 2h 35m 15s\n",
      "147:\tlearn: 0.2635297\ttest: 0.2861230\tbest: 0.2846899 (50)\ttotal: 26m 57s\tremaining: 2h 35m 14s\n",
      "148:\tlearn: 0.2633336\ttest: 0.2861286\tbest: 0.2846899 (50)\ttotal: 27m 11s\tremaining: 2h 35m 17s\n",
      "149:\tlearn: 0.2631365\ttest: 0.2861427\tbest: 0.2846899 (50)\ttotal: 27m 23s\tremaining: 2h 35m 12s\n",
      "150:\tlearn: 0.2630254\ttest: 0.2861463\tbest: 0.2846899 (50)\ttotal: 27m 36s\tremaining: 2h 35m 11s\n",
      "Stopped by overfitting detector  (100 iterations wait)\n",
      "\n",
      "bestTest = 0.2846898537\n",
      "bestIteration = 50\n",
      "\n",
      "Shrink model to first 51 iterations.\n",
      "0:\tlearn: 0.5629764\ttest: 0.5632687\tbest: 0.5632687 (0)\ttotal: 12.3s\tremaining: 3h 24m 39s\n",
      "1:\tlearn: 0.4762040\ttest: 0.4765396\tbest: 0.4765396 (1)\ttotal: 24.3s\tremaining: 3h 22m 18s\n",
      "2:\tlearn: 0.4201730\ttest: 0.4206056\tbest: 0.4206056 (2)\ttotal: 35.9s\tremaining: 3h 19m 5s\n",
      "3:\tlearn: 0.3820188\ttest: 0.3826107\tbest: 0.3826107 (3)\ttotal: 38.8s\tremaining: 2h 40m 59s\n",
      "4:\tlearn: 0.3554252\ttest: 0.3562032\tbest: 0.3562032 (4)\ttotal: 51.1s\tremaining: 2h 49m 23s\n",
      "5:\tlearn: 0.3369989\ttest: 0.3378838\tbest: 0.3378838 (5)\ttotal: 1m 2s\tremaining: 2h 53m 44s\n",
      "6:\tlearn: 0.3240045\ttest: 0.3249182\tbest: 0.3249182 (6)\ttotal: 1m 5s\tremaining: 2h 35m 40s\n",
      "7:\tlearn: 0.3147625\ttest: 0.3155648\tbest: 0.3155648 (7)\ttotal: 1m 6s\tremaining: 2h 16m 44s\n",
      "8:\tlearn: 0.3083350\ttest: 0.3090760\tbest: 0.3090760 (8)\ttotal: 1m 6s\tremaining: 2h 1m 52s\n",
      "9:\tlearn: 0.3027663\ttest: 0.3035227\tbest: 0.3035227 (9)\ttotal: 1m 9s\tremaining: 1h 54m 20s\n",
      "10:\tlearn: 0.2982621\ttest: 0.2993110\tbest: 0.2993110 (10)\ttotal: 1m 21s\tremaining: 2h 2m 17s\n",
      "11:\tlearn: 0.2955462\ttest: 0.2965423\tbest: 0.2965423 (11)\ttotal: 1m 21s\tremaining: 1h 52m 19s\n",
      "12:\tlearn: 0.2927793\ttest: 0.2942187\tbest: 0.2942187 (12)\ttotal: 1m 34s\tremaining: 1h 59m\n",
      "13:\tlearn: 0.2903919\ttest: 0.2921526\tbest: 0.2921526 (13)\ttotal: 1m 44s\tremaining: 2h 2m 36s\n",
      "14:\tlearn: 0.2886283\ttest: 0.2906988\tbest: 0.2906988 (14)\ttotal: 1m 53s\tremaining: 2h 3m 56s\n",
      "15:\tlearn: 0.2871387\ttest: 0.2893132\tbest: 0.2893132 (15)\ttotal: 2m 2s\tremaining: 2h 5m 34s\n",
      "16:\tlearn: 0.2860817\ttest: 0.2884406\tbest: 0.2884406 (16)\ttotal: 2m 12s\tremaining: 2h 7m 13s\n",
      "17:\tlearn: 0.2850414\ttest: 0.2877066\tbest: 0.2877066 (17)\ttotal: 2m 20s\tremaining: 2h 7m 50s\n",
      "18:\tlearn: 0.2842682\ttest: 0.2871728\tbest: 0.2871728 (18)\ttotal: 2m 29s\tremaining: 2h 8m 36s\n",
      "19:\tlearn: 0.2839405\ttest: 0.2868200\tbest: 0.2868200 (19)\ttotal: 2m 29s\tremaining: 2h 2m 9s\n",
      "20:\tlearn: 0.2833275\ttest: 0.2864540\tbest: 0.2864540 (20)\ttotal: 2m 38s\tremaining: 2h 3m 6s\n",
      "21:\tlearn: 0.2831067\ttest: 0.2862285\tbest: 0.2862285 (21)\ttotal: 2m 38s\tremaining: 1h 57m 29s\n",
      "22:\tlearn: 0.2825594\ttest: 0.2858623\tbest: 0.2858623 (22)\ttotal: 2m 47s\tremaining: 1h 58m 41s\n",
      "23:\tlearn: 0.2819670\ttest: 0.2854693\tbest: 0.2854693 (23)\ttotal: 2m 56s\tremaining: 1h 59m 28s\n",
      "24:\tlearn: 0.2815791\ttest: 0.2852422\tbest: 0.2852422 (24)\ttotal: 3m 10s\tremaining: 2h 3m 58s\n",
      "25:\tlearn: 0.2811342\ttest: 0.2850978\tbest: 0.2850978 (25)\ttotal: 3m 23s\tremaining: 2h 7m 18s\n",
      "26:\tlearn: 0.2806634\ttest: 0.2849950\tbest: 0.2849950 (26)\ttotal: 3m 37s\tremaining: 2h 10m 27s\n",
      "27:\tlearn: 0.2803553\ttest: 0.2847987\tbest: 0.2847987 (27)\ttotal: 3m 50s\tremaining: 2h 13m 14s\n",
      "28:\tlearn: 0.2800736\ttest: 0.2847264\tbest: 0.2847264 (28)\ttotal: 4m 3s\tremaining: 2h 15m 51s\n",
      "29:\tlearn: 0.2798830\ttest: 0.2845694\tbest: 0.2845694 (29)\ttotal: 4m 16s\tremaining: 2h 18m 21s\n",
      "30:\tlearn: 0.2795770\ttest: 0.2844504\tbest: 0.2844504 (30)\ttotal: 4m 30s\tremaining: 2h 20m 43s\n",
      "31:\tlearn: 0.2793234\ttest: 0.2844018\tbest: 0.2844018 (31)\ttotal: 4m 44s\tremaining: 2h 23m 19s\n",
      "32:\tlearn: 0.2793112\ttest: 0.2843819\tbest: 0.2843819 (32)\ttotal: 4m 44s\tremaining: 2h 18m 53s\n",
      "33:\tlearn: 0.2790863\ttest: 0.2842975\tbest: 0.2842975 (33)\ttotal: 4m 58s\tremaining: 2h 21m 17s\n",
      "34:\tlearn: 0.2788519\ttest: 0.2842781\tbest: 0.2842781 (34)\ttotal: 5m 12s\tremaining: 2h 23m 26s\n",
      "35:\tlearn: 0.2786417\ttest: 0.2842049\tbest: 0.2842049 (35)\ttotal: 5m 26s\tremaining: 2h 25m 34s\n",
      "36:\tlearn: 0.2784843\ttest: 0.2840933\tbest: 0.2840933 (36)\ttotal: 5m 33s\tremaining: 2h 24m 52s\n",
      "37:\tlearn: 0.2783206\ttest: 0.2840717\tbest: 0.2840717 (37)\ttotal: 5m 41s\tremaining: 2h 24m 16s\n",
      "38:\tlearn: 0.2781267\ttest: 0.2840141\tbest: 0.2840141 (38)\ttotal: 5m 50s\tremaining: 2h 23m 44s\n",
      "39:\tlearn: 0.2777278\ttest: 0.2840443\tbest: 0.2840141 (38)\ttotal: 5m 57s\tremaining: 2h 23m 11s\n",
      "40:\tlearn: 0.2774940\ttest: 0.2839912\tbest: 0.2839912 (40)\ttotal: 6m 5s\tremaining: 2h 22m 37s\n",
      "41:\tlearn: 0.2773336\ttest: 0.2839882\tbest: 0.2839882 (41)\ttotal: 6m 13s\tremaining: 2h 22m 4s\n",
      "42:\tlearn: 0.2770965\ttest: 0.2839831\tbest: 0.2839831 (42)\ttotal: 6m 21s\tremaining: 2h 21m 30s\n",
      "43:\tlearn: 0.2769506\ttest: 0.2839586\tbest: 0.2839586 (43)\ttotal: 6m 29s\tremaining: 2h 20m 56s\n",
      "44:\tlearn: 0.2767482\ttest: 0.2839396\tbest: 0.2839396 (44)\ttotal: 6m 36s\tremaining: 2h 20m 23s\n",
      "45:\tlearn: 0.2766261\ttest: 0.2839404\tbest: 0.2839396 (44)\ttotal: 6m 44s\tremaining: 2h 19m 51s\n",
      "46:\tlearn: 0.2765242\ttest: 0.2839506\tbest: 0.2839396 (44)\ttotal: 6m 52s\tremaining: 2h 19m 17s\n",
      "47:\tlearn: 0.2764144\ttest: 0.2839035\tbest: 0.2839035 (47)\ttotal: 6m 59s\tremaining: 2h 18m 45s\n",
      "48:\tlearn: 0.2762734\ttest: 0.2839200\tbest: 0.2839035 (47)\ttotal: 7m 7s\tremaining: 2h 18m 11s\n",
      "49:\tlearn: 0.2761800\ttest: 0.2839162\tbest: 0.2839035 (47)\ttotal: 7m 14s\tremaining: 2h 17m 37s\n",
      "50:\tlearn: 0.2760200\ttest: 0.2838978\tbest: 0.2838978 (50)\ttotal: 7m 22s\tremaining: 2h 17m 5s\n",
      "51:\tlearn: 0.2758235\ttest: 0.2838947\tbest: 0.2838947 (51)\ttotal: 7m 29s\tremaining: 2h 16m 32s\n",
      "52:\tlearn: 0.2756906\ttest: 0.2838725\tbest: 0.2838725 (52)\ttotal: 7m 36s\tremaining: 2h 16m 1s\n",
      "53:\tlearn: 0.2755097\ttest: 0.2837991\tbest: 0.2837991 (53)\ttotal: 7m 44s\tremaining: 2h 15m 32s\n",
      "54:\tlearn: 0.2753533\ttest: 0.2838079\tbest: 0.2837991 (53)\ttotal: 7m 50s\tremaining: 2h 14m 52s\n",
      "55:\tlearn: 0.2751140\ttest: 0.2838304\tbest: 0.2837991 (53)\ttotal: 7m 57s\tremaining: 2h 14m 12s\n",
      "56:\tlearn: 0.2749691\ttest: 0.2837919\tbest: 0.2837919 (56)\ttotal: 8m 4s\tremaining: 2h 13m 32s\n",
      "57:\tlearn: 0.2749660\ttest: 0.2837896\tbest: 0.2837896 (57)\ttotal: 8m 4s\tremaining: 2h 11m 8s\n",
      "58:\tlearn: 0.2748418\ttest: 0.2837683\tbest: 0.2837683 (58)\ttotal: 8m 11s\tremaining: 2h 10m 36s\n",
      "59:\tlearn: 0.2746294\ttest: 0.2837964\tbest: 0.2837683 (58)\ttotal: 8m 18s\tremaining: 2h 10m 3s\n",
      "60:\tlearn: 0.2744744\ttest: 0.2837903\tbest: 0.2837683 (58)\ttotal: 8m 24s\tremaining: 2h 9m 29s\n",
      "61:\tlearn: 0.2744721\ttest: 0.2837893\tbest: 0.2837683 (58)\ttotal: 8m 24s\tremaining: 2h 7m 17s\n",
      "62:\tlearn: 0.2743061\ttest: 0.2837901\tbest: 0.2837683 (58)\ttotal: 8m 31s\tremaining: 2h 6m 47s\n",
      "63:\tlearn: 0.2742320\ttest: 0.2837830\tbest: 0.2837683 (58)\ttotal: 8m 38s\tremaining: 2h 6m 24s\n",
      "64:\tlearn: 0.2740292\ttest: 0.2837813\tbest: 0.2837683 (58)\ttotal: 8m 45s\tremaining: 2h 5m 56s\n",
      "65:\tlearn: 0.2739360\ttest: 0.2837918\tbest: 0.2837683 (58)\ttotal: 8m 51s\tremaining: 2h 5m 27s\n",
      "66:\tlearn: 0.2738071\ttest: 0.2837904\tbest: 0.2837683 (58)\ttotal: 8m 58s\tremaining: 2h 4m 58s\n",
      "67:\tlearn: 0.2736977\ttest: 0.2837946\tbest: 0.2837683 (58)\ttotal: 9m 5s\tremaining: 2h 4m 29s\n",
      "68:\tlearn: 0.2735767\ttest: 0.2837993\tbest: 0.2837683 (58)\ttotal: 9m 11s\tremaining: 2h 4m 5s\n",
      "69:\tlearn: 0.2734191\ttest: 0.2837864\tbest: 0.2837683 (58)\ttotal: 9m 18s\tremaining: 2h 3m 40s\n"
     ]
    },
    {
     "name": "stdout",
     "output_type": "stream",
     "text": [
      "70:\tlearn: 0.2732481\ttest: 0.2838031\tbest: 0.2837683 (58)\ttotal: 9m 25s\tremaining: 2h 3m 14s\n",
      "71:\tlearn: 0.2732476\ttest: 0.2838029\tbest: 0.2837683 (58)\ttotal: 9m 25s\tremaining: 2h 1m 24s\n",
      "72:\tlearn: 0.2731170\ttest: 0.2838200\tbest: 0.2837683 (58)\ttotal: 9m 31s\tremaining: 2h 1m\n",
      "73:\tlearn: 0.2730740\ttest: 0.2838122\tbest: 0.2837683 (58)\ttotal: 9m 38s\tremaining: 2h 35s\n",
      "74:\tlearn: 0.2729731\ttest: 0.2838269\tbest: 0.2837683 (58)\ttotal: 9m 44s\tremaining: 2h 14s\n",
      "75:\tlearn: 0.2728545\ttest: 0.2838314\tbest: 0.2837683 (58)\ttotal: 9m 51s\tremaining: 1h 59m 52s\n",
      "76:\tlearn: 0.2727723\ttest: 0.2838215\tbest: 0.2837683 (58)\ttotal: 9m 58s\tremaining: 1h 59m 30s\n",
      "77:\tlearn: 0.2727197\ttest: 0.2838259\tbest: 0.2837683 (58)\ttotal: 10m 4s\tremaining: 1h 59m 6s\n",
      "78:\tlearn: 0.2726763\ttest: 0.2838346\tbest: 0.2837683 (58)\ttotal: 10m 11s\tremaining: 1h 58m 43s\n",
      "79:\tlearn: 0.2725444\ttest: 0.2838433\tbest: 0.2837683 (58)\ttotal: 10m 17s\tremaining: 1h 58m 19s\n",
      "80:\tlearn: 0.2724466\ttest: 0.2838504\tbest: 0.2837683 (58)\ttotal: 10m 23s\tremaining: 1h 57m 58s\n",
      "81:\tlearn: 0.2724457\ttest: 0.2838507\tbest: 0.2837683 (58)\ttotal: 10m 24s\tremaining: 1h 56m 25s\n",
      "82:\tlearn: 0.2723946\ttest: 0.2838410\tbest: 0.2837683 (58)\ttotal: 10m 30s\tremaining: 1h 56m 5s\n",
      "83:\tlearn: 0.2722634\ttest: 0.2838639\tbest: 0.2837683 (58)\ttotal: 10m 36s\tremaining: 1h 55m 45s\n",
      "84:\tlearn: 0.2721442\ttest: 0.2838702\tbest: 0.2837683 (58)\ttotal: 10m 43s\tremaining: 1h 55m 29s\n",
      "85:\tlearn: 0.2720797\ttest: 0.2838634\tbest: 0.2837683 (58)\ttotal: 10m 50s\tremaining: 1h 55m 13s\n",
      "86:\tlearn: 0.2718827\ttest: 0.2838692\tbest: 0.2837683 (58)\ttotal: 10m 57s\tremaining: 1h 54m 55s\n",
      "87:\tlearn: 0.2718061\ttest: 0.2838727\tbest: 0.2837683 (58)\ttotal: 11m 3s\tremaining: 1h 54m 38s\n",
      "88:\tlearn: 0.2716830\ttest: 0.2838781\tbest: 0.2837683 (58)\ttotal: 11m 10s\tremaining: 1h 54m 23s\n",
      "89:\tlearn: 0.2715877\ttest: 0.2838979\tbest: 0.2837683 (58)\ttotal: 11m 17s\tremaining: 1h 54m 7s\n",
      "90:\tlearn: 0.2714818\ttest: 0.2839296\tbest: 0.2837683 (58)\ttotal: 11m 24s\tremaining: 1h 53m 54s\n",
      "91:\tlearn: 0.2713757\ttest: 0.2839552\tbest: 0.2837683 (58)\ttotal: 11m 30s\tremaining: 1h 53m 39s\n",
      "92:\tlearn: 0.2712745\ttest: 0.2839694\tbest: 0.2837683 (58)\ttotal: 11m 37s\tremaining: 1h 53m 23s\n",
      "93:\tlearn: 0.2711698\ttest: 0.2839633\tbest: 0.2837683 (58)\ttotal: 11m 44s\tremaining: 1h 53m 10s\n",
      "94:\tlearn: 0.2710932\ttest: 0.2839599\tbest: 0.2837683 (58)\ttotal: 11m 51s\tremaining: 1h 52m 55s\n",
      "95:\tlearn: 0.2710267\ttest: 0.2839764\tbest: 0.2837683 (58)\ttotal: 11m 58s\tremaining: 1h 52m 42s\n",
      "96:\tlearn: 0.2708861\ttest: 0.2840036\tbest: 0.2837683 (58)\ttotal: 12m 4s\tremaining: 1h 52m 28s\n",
      "97:\tlearn: 0.2708039\ttest: 0.2840534\tbest: 0.2837683 (58)\ttotal: 12m 11s\tremaining: 1h 52m 14s\n",
      "98:\tlearn: 0.2707250\ttest: 0.2840508\tbest: 0.2837683 (58)\ttotal: 12m 18s\tremaining: 1h 52m\n",
      "99:\tlearn: 0.2705811\ttest: 0.2840563\tbest: 0.2837683 (58)\ttotal: 12m 25s\tremaining: 1h 51m 47s\n",
      "100:\tlearn: 0.2703372\ttest: 0.2841024\tbest: 0.2837683 (58)\ttotal: 12m 32s\tremaining: 1h 51m 34s\n",
      "101:\tlearn: 0.2701392\ttest: 0.2841817\tbest: 0.2837683 (58)\ttotal: 12m 39s\tremaining: 1h 51m 22s\n",
      "102:\tlearn: 0.2701391\ttest: 0.2841812\tbest: 0.2837683 (58)\ttotal: 12m 39s\tremaining: 1h 50m 11s\n",
      "103:\tlearn: 0.2700359\ttest: 0.2841828\tbest: 0.2837683 (58)\ttotal: 12m 46s\tremaining: 1h 50m\n",
      "104:\tlearn: 0.2699164\ttest: 0.2842243\tbest: 0.2837683 (58)\ttotal: 12m 52s\tremaining: 1h 49m 48s\n",
      "105:\tlearn: 0.2697096\ttest: 0.2842046\tbest: 0.2837683 (58)\ttotal: 12m 59s\tremaining: 1h 49m 37s\n",
      "106:\tlearn: 0.2695275\ttest: 0.2842197\tbest: 0.2837683 (58)\ttotal: 13m 6s\tremaining: 1h 49m 26s\n",
      "107:\tlearn: 0.2694195\ttest: 0.2842290\tbest: 0.2837683 (58)\ttotal: 13m 13s\tremaining: 1h 49m 15s\n",
      "108:\tlearn: 0.2692891\ttest: 0.2842554\tbest: 0.2837683 (58)\ttotal: 13m 20s\tremaining: 1h 49m 5s\n",
      "109:\tlearn: 0.2691034\ttest: 0.2842512\tbest: 0.2837683 (58)\ttotal: 13m 27s\tremaining: 1h 48m 55s\n",
      "110:\tlearn: 0.2690212\ttest: 0.2842626\tbest: 0.2837683 (58)\ttotal: 13m 34s\tremaining: 1h 48m 46s\n",
      "111:\tlearn: 0.2689111\ttest: 0.2842795\tbest: 0.2837683 (58)\ttotal: 13m 42s\tremaining: 1h 48m 38s\n",
      "112:\tlearn: 0.2688623\ttest: 0.2843015\tbest: 0.2837683 (58)\ttotal: 13m 49s\tremaining: 1h 48m 32s\n",
      "113:\tlearn: 0.2687642\ttest: 0.2843099\tbest: 0.2837683 (58)\ttotal: 13m 56s\tremaining: 1h 48m 23s\n",
      "114:\tlearn: 0.2686255\ttest: 0.2843170\tbest: 0.2837683 (58)\ttotal: 14m 4s\tremaining: 1h 48m 15s\n",
      "115:\tlearn: 0.2685162\ttest: 0.2842991\tbest: 0.2837683 (58)\ttotal: 14m 11s\tremaining: 1h 48m 6s\n",
      "116:\tlearn: 0.2684068\ttest: 0.2842972\tbest: 0.2837683 (58)\ttotal: 14m 18s\tremaining: 1h 47m 57s\n",
      "117:\tlearn: 0.2683919\ttest: 0.2843001\tbest: 0.2837683 (58)\ttotal: 14m 18s\tremaining: 1h 46m 56s\n",
      "118:\tlearn: 0.2683459\ttest: 0.2842990\tbest: 0.2837683 (58)\ttotal: 14m 25s\tremaining: 1h 46m 49s\n",
      "119:\tlearn: 0.2682738\ttest: 0.2843447\tbest: 0.2837683 (58)\ttotal: 14m 32s\tremaining: 1h 46m 41s\n",
      "120:\tlearn: 0.2680759\ttest: 0.2844085\tbest: 0.2837683 (58)\ttotal: 14m 40s\tremaining: 1h 46m 33s\n",
      "121:\tlearn: 0.2679897\ttest: 0.2843902\tbest: 0.2837683 (58)\ttotal: 14m 47s\tremaining: 1h 46m 26s\n",
      "122:\tlearn: 0.2678277\ttest: 0.2843994\tbest: 0.2837683 (58)\ttotal: 14m 54s\tremaining: 1h 46m 18s\n",
      "123:\tlearn: 0.2676663\ttest: 0.2844531\tbest: 0.2837683 (58)\ttotal: 15m 1s\tremaining: 1h 46m 10s\n",
      "124:\tlearn: 0.2674829\ttest: 0.2844808\tbest: 0.2837683 (58)\ttotal: 15m 8s\tremaining: 1h 46m 2s\n",
      "125:\tlearn: 0.2673733\ttest: 0.2844866\tbest: 0.2837683 (58)\ttotal: 15m 16s\tremaining: 1h 45m 54s\n",
      "126:\tlearn: 0.2672478\ttest: 0.2845052\tbest: 0.2837683 (58)\ttotal: 15m 23s\tremaining: 1h 45m 47s\n",
      "127:\tlearn: 0.2672147\ttest: 0.2845149\tbest: 0.2837683 (58)\ttotal: 15m 30s\tremaining: 1h 45m 39s\n",
      "128:\tlearn: 0.2670010\ttest: 0.2845396\tbest: 0.2837683 (58)\ttotal: 15m 37s\tremaining: 1h 45m 31s\n",
      "129:\tlearn: 0.2668938\ttest: 0.2845631\tbest: 0.2837683 (58)\ttotal: 15m 45s\tremaining: 1h 45m 24s\n",
      "130:\tlearn: 0.2667817\ttest: 0.2845917\tbest: 0.2837683 (58)\ttotal: 15m 52s\tremaining: 1h 45m 17s\n",
      "131:\tlearn: 0.2666802\ttest: 0.2846273\tbest: 0.2837683 (58)\ttotal: 15m 59s\tremaining: 1h 45m 9s\n",
      "132:\tlearn: 0.2666063\ttest: 0.2846449\tbest: 0.2837683 (58)\ttotal: 16m 6s\tremaining: 1h 45m 2s\n",
      "133:\tlearn: 0.2665414\ttest: 0.2846443\tbest: 0.2837683 (58)\ttotal: 16m 14s\tremaining: 1h 44m 55s\n",
      "134:\tlearn: 0.2663642\ttest: 0.2846885\tbest: 0.2837683 (58)\ttotal: 16m 21s\tremaining: 1h 44m 48s\n",
      "135:\tlearn: 0.2662692\ttest: 0.2846945\tbest: 0.2837683 (58)\ttotal: 16m 28s\tremaining: 1h 44m 38s\n",
      "136:\tlearn: 0.2661684\ttest: 0.2846981\tbest: 0.2837683 (58)\ttotal: 16m 36s\tremaining: 1h 44m 34s\n",
      "137:\tlearn: 0.2660957\ttest: 0.2847210\tbest: 0.2837683 (58)\ttotal: 16m 42s\tremaining: 1h 44m 23s\n",
      "138:\tlearn: 0.2660956\ttest: 0.2847207\tbest: 0.2837683 (58)\ttotal: 16m 42s\tremaining: 1h 43m 31s\n",
      "139:\tlearn: 0.2660046\ttest: 0.2847762\tbest: 0.2837683 (58)\ttotal: 16m 49s\tremaining: 1h 43m 20s\n",
      "140:\tlearn: 0.2658632\ttest: 0.2848181\tbest: 0.2837683 (58)\ttotal: 16m 55s\tremaining: 1h 43m 6s\n",
      "141:\tlearn: 0.2657935\ttest: 0.2848321\tbest: 0.2837683 (58)\ttotal: 17m 1s\tremaining: 1h 42m 53s\n",
      "142:\tlearn: 0.2655914\ttest: 0.2848296\tbest: 0.2837683 (58)\ttotal: 17m 7s\tremaining: 1h 42m 40s\n",
      "143:\tlearn: 0.2654680\ttest: 0.2848652\tbest: 0.2837683 (58)\ttotal: 17m 14s\tremaining: 1h 42m 26s\n",
      "144:\tlearn: 0.2653396\ttest: 0.2848634\tbest: 0.2837683 (58)\ttotal: 17m 20s\tremaining: 1h 42m 13s\n",
      "145:\tlearn: 0.2651042\ttest: 0.2848739\tbest: 0.2837683 (58)\ttotal: 17m 26s\tremaining: 1h 42m\n",
      "146:\tlearn: 0.2650228\ttest: 0.2849008\tbest: 0.2837683 (58)\ttotal: 17m 32s\tremaining: 1h 41m 47s\n",
      "147:\tlearn: 0.2648085\ttest: 0.2849393\tbest: 0.2837683 (58)\ttotal: 17m 39s\tremaining: 1h 41m 37s\n",
      "148:\tlearn: 0.2647393\ttest: 0.2849645\tbest: 0.2837683 (58)\ttotal: 17m 45s\tremaining: 1h 41m 26s\n",
      "149:\tlearn: 0.2646019\ttest: 0.2849888\tbest: 0.2837683 (58)\ttotal: 17m 52s\tremaining: 1h 41m 15s\n",
      "150:\tlearn: 0.2644186\ttest: 0.2850179\tbest: 0.2837683 (58)\ttotal: 17m 58s\tremaining: 1h 41m 4s\n",
      "151:\tlearn: 0.2642467\ttest: 0.2850516\tbest: 0.2837683 (58)\ttotal: 18m 5s\tremaining: 1h 40m 53s\n",
      "152:\tlearn: 0.2641245\ttest: 0.2850594\tbest: 0.2837683 (58)\ttotal: 18m 11s\tremaining: 1h 40m 42s\n",
      "153:\tlearn: 0.2639832\ttest: 0.2850518\tbest: 0.2837683 (58)\ttotal: 18m 17s\tremaining: 1h 40m 30s\n",
      "154:\tlearn: 0.2638456\ttest: 0.2850964\tbest: 0.2837683 (58)\ttotal: 18m 23s\tremaining: 1h 40m 18s\n",
      "155:\tlearn: 0.2636703\ttest: 0.2851137\tbest: 0.2837683 (58)\ttotal: 18m 30s\tremaining: 1h 40m 6s\n",
      "156:\tlearn: 0.2636158\ttest: 0.2851186\tbest: 0.2837683 (58)\ttotal: 18m 36s\tremaining: 1h 39m 55s\n"
     ]
    },
    {
     "name": "stdout",
     "output_type": "stream",
     "text": [
      "157:\tlearn: 0.2635057\ttest: 0.2851480\tbest: 0.2837683 (58)\ttotal: 18m 42s\tremaining: 1h 39m 44s\n",
      "158:\tlearn: 0.2633927\ttest: 0.2851859\tbest: 0.2837683 (58)\ttotal: 18m 49s\tremaining: 1h 39m 35s\n",
      "Stopped by overfitting detector  (100 iterations wait)\n",
      "\n",
      "bestTest = 0.2837683457\n",
      "bestIteration = 58\n",
      "\n",
      "Shrink model to first 59 iterations.\n",
      "0:\tlearn: 0.5632560\ttest: 0.5635147\tbest: 0.5635147 (0)\ttotal: 6.2s\tremaining: 1h 43m 13s\n",
      "1:\tlearn: 0.4763637\ttest: 0.4767283\tbest: 0.4767283 (1)\ttotal: 12.4s\tremaining: 1h 43m 1s\n",
      "2:\tlearn: 0.4201624\ttest: 0.4207133\tbest: 0.4207133 (2)\ttotal: 18.4s\tremaining: 1h 42m 7s\n",
      "3:\tlearn: 0.3820140\ttest: 0.3828334\tbest: 0.3828334 (3)\ttotal: 20.1s\tremaining: 1h 23m 32s\n",
      "4:\tlearn: 0.3554752\ttest: 0.3566019\tbest: 0.3566019 (4)\ttotal: 26s\tremaining: 1h 26m 20s\n",
      "5:\tlearn: 0.3369015\ttest: 0.3382945\tbest: 0.3382945 (5)\ttotal: 31.9s\tremaining: 1h 28m 7s\n",
      "6:\tlearn: 0.3238270\ttest: 0.3254289\tbest: 0.3254289 (6)\ttotal: 33.5s\tremaining: 1h 19m 7s\n",
      "7:\tlearn: 0.3145730\ttest: 0.3162458\tbest: 0.3162458 (7)\ttotal: 33.6s\tremaining: 1h 9m 27s\n",
      "8:\tlearn: 0.3075418\ttest: 0.3094968\tbest: 0.3094968 (8)\ttotal: 39.5s\tremaining: 1h 12m 32s\n",
      "9:\tlearn: 0.3022136\ttest: 0.3043274\tbest: 0.3043274 (9)\ttotal: 45.4s\tremaining: 1h 14m 50s\n",
      "10:\tlearn: 0.2979199\ttest: 0.3004567\tbest: 0.3004567 (10)\ttotal: 51.5s\tremaining: 1h 17m 7s\n",
      "11:\tlearn: 0.2945048\ttest: 0.2975487\tbest: 0.2975487 (11)\ttotal: 57.5s\tremaining: 1h 18m 55s\n",
      "12:\tlearn: 0.2918978\ttest: 0.2952130\tbest: 0.2952130 (12)\ttotal: 1m 3s\tremaining: 1h 20m 51s\n",
      "13:\tlearn: 0.2898617\ttest: 0.2935926\tbest: 0.2935926 (13)\ttotal: 1m 10s\tremaining: 1h 22m 34s\n",
      "14:\tlearn: 0.2879187\ttest: 0.2922280\tbest: 0.2922280 (14)\ttotal: 1m 18s\tremaining: 1h 25m 37s\n",
      "15:\tlearn: 0.2864471\ttest: 0.2911670\tbest: 0.2911670 (15)\ttotal: 1m 26s\tremaining: 1h 28m 10s\n",
      "16:\tlearn: 0.2852696\ttest: 0.2903820\tbest: 0.2903820 (16)\ttotal: 1m 33s\tremaining: 1h 30m 16s\n",
      "17:\tlearn: 0.2842459\ttest: 0.2897141\tbest: 0.2897141 (17)\ttotal: 1m 41s\tremaining: 1h 32m 8s\n",
      "18:\tlearn: 0.2833521\ttest: 0.2891198\tbest: 0.2891198 (18)\ttotal: 1m 49s\tremaining: 1h 33m 50s\n",
      "19:\tlearn: 0.2826929\ttest: 0.2887665\tbest: 0.2887665 (19)\ttotal: 1m 56s\tremaining: 1h 35m 18s\n",
      "20:\tlearn: 0.2820690\ttest: 0.2884674\tbest: 0.2884674 (20)\ttotal: 2m 4s\tremaining: 1h 36m 37s\n",
      "21:\tlearn: 0.2815204\ttest: 0.2882319\tbest: 0.2882319 (21)\ttotal: 2m 11s\tremaining: 1h 37m 44s\n",
      "22:\tlearn: 0.2809641\ttest: 0.2880644\tbest: 0.2880644 (22)\ttotal: 2m 19s\tremaining: 1h 38m 45s\n",
      "23:\tlearn: 0.2805502\ttest: 0.2878215\tbest: 0.2878215 (23)\ttotal: 2m 26s\tremaining: 1h 39m 36s\n",
      "24:\tlearn: 0.2801107\ttest: 0.2876314\tbest: 0.2876314 (24)\ttotal: 2m 34s\tremaining: 1h 40m 30s\n",
      "25:\tlearn: 0.2796978\ttest: 0.2875173\tbest: 0.2875173 (25)\ttotal: 2m 42s\tremaining: 1h 41m 20s\n",
      "26:\tlearn: 0.2794547\ttest: 0.2874191\tbest: 0.2874191 (26)\ttotal: 2m 57s\tremaining: 1h 46m 43s\n",
      "27:\tlearn: 0.2790020\ttest: 0.2874149\tbest: 0.2874149 (27)\ttotal: 3m 8s\tremaining: 1h 49m 11s\n",
      "28:\tlearn: 0.2786701\ttest: 0.2873336\tbest: 0.2873336 (28)\ttotal: 3m 17s\tremaining: 1h 50m 14s\n",
      "29:\tlearn: 0.2783954\ttest: 0.2872812\tbest: 0.2872812 (29)\ttotal: 3m 25s\tremaining: 1h 50m 39s\n",
      "30:\tlearn: 0.2782040\ttest: 0.2872305\tbest: 0.2872305 (30)\ttotal: 3m 32s\tremaining: 1h 50m 51s\n",
      "31:\tlearn: 0.2780207\ttest: 0.2871530\tbest: 0.2871530 (31)\ttotal: 3m 40s\tremaining: 1h 51m 1s\n",
      "32:\tlearn: 0.2780102\ttest: 0.2871441\tbest: 0.2871441 (32)\ttotal: 3m 40s\tremaining: 1h 47m 36s\n",
      "33:\tlearn: 0.2777243\ttest: 0.2871299\tbest: 0.2871299 (33)\ttotal: 3m 47s\tremaining: 1h 47m 51s\n",
      "34:\tlearn: 0.2775131\ttest: 0.2870523\tbest: 0.2870523 (34)\ttotal: 3m 55s\tremaining: 1h 48m 7s\n",
      "35:\tlearn: 0.2771973\ttest: 0.2870659\tbest: 0.2870523 (34)\ttotal: 4m 2s\tremaining: 1h 48m 17s\n",
      "36:\tlearn: 0.2770493\ttest: 0.2870877\tbest: 0.2870523 (34)\ttotal: 4m 9s\tremaining: 1h 48m 23s\n",
      "37:\tlearn: 0.2767334\ttest: 0.2871006\tbest: 0.2870523 (34)\ttotal: 4m 17s\tremaining: 1h 48m 27s\n",
      "38:\tlearn: 0.2767155\ttest: 0.2870819\tbest: 0.2870523 (34)\ttotal: 4m 17s\tremaining: 1h 45m 36s\n",
      "39:\tlearn: 0.2765575\ttest: 0.2870593\tbest: 0.2870523 (34)\ttotal: 4m 24s\tremaining: 1h 45m 40s\n",
      "40:\tlearn: 0.2765280\ttest: 0.2870442\tbest: 0.2870442 (40)\ttotal: 4m 24s\tremaining: 1h 43m 3s\n",
      "41:\tlearn: 0.2763430\ttest: 0.2870718\tbest: 0.2870442 (40)\ttotal: 4m 31s\tremaining: 1h 43m 10s\n",
      "42:\tlearn: 0.2761994\ttest: 0.2870553\tbest: 0.2870442 (40)\ttotal: 4m 38s\tremaining: 1h 43m 22s\n",
      "43:\tlearn: 0.2761005\ttest: 0.2870491\tbest: 0.2870442 (40)\ttotal: 4m 45s\tremaining: 1h 43m 30s\n",
      "44:\tlearn: 0.2759181\ttest: 0.2870540\tbest: 0.2870442 (40)\ttotal: 4m 53s\tremaining: 1h 43m 43s\n",
      "45:\tlearn: 0.2757325\ttest: 0.2870659\tbest: 0.2870442 (40)\ttotal: 5m 1s\tremaining: 1h 44m 4s\n",
      "46:\tlearn: 0.2756474\ttest: 0.2870551\tbest: 0.2870442 (40)\ttotal: 5m 8s\tremaining: 1h 44m 20s\n",
      "47:\tlearn: 0.2753917\ttest: 0.2870401\tbest: 0.2870401 (47)\ttotal: 5m 16s\tremaining: 1h 44m 33s\n",
      "48:\tlearn: 0.2752483\ttest: 0.2870596\tbest: 0.2870401 (47)\ttotal: 5m 23s\tremaining: 1h 44m 47s\n",
      "49:\tlearn: 0.2750757\ttest: 0.2870649\tbest: 0.2870401 (47)\ttotal: 5m 33s\tremaining: 1h 45m 33s\n",
      "50:\tlearn: 0.2749001\ttest: 0.2870754\tbest: 0.2870401 (47)\ttotal: 5m 47s\tremaining: 1h 47m 37s\n",
      "51:\tlearn: 0.2747557\ttest: 0.2870927\tbest: 0.2870401 (47)\ttotal: 6m\tremaining: 1h 49m 38s\n",
      "52:\tlearn: 0.2745353\ttest: 0.2871127\tbest: 0.2870401 (47)\ttotal: 6m 14s\tremaining: 1h 51m 29s\n",
      "53:\tlearn: 0.2744525\ttest: 0.2871435\tbest: 0.2870401 (47)\ttotal: 6m 23s\tremaining: 1h 51m 56s\n",
      "54:\tlearn: 0.2743561\ttest: 0.2871397\tbest: 0.2870401 (47)\ttotal: 6m 34s\tremaining: 1h 53m 6s\n",
      "55:\tlearn: 0.2742157\ttest: 0.2871737\tbest: 0.2870401 (47)\ttotal: 6m 47s\tremaining: 1h 54m 25s\n",
      "56:\tlearn: 0.2740655\ttest: 0.2871917\tbest: 0.2870401 (47)\ttotal: 7m\tremaining: 1h 55m 59s\n",
      "57:\tlearn: 0.2739212\ttest: 0.2872279\tbest: 0.2870401 (47)\ttotal: 7m 13s\tremaining: 1h 57m 16s\n",
      "58:\tlearn: 0.2737685\ttest: 0.2872622\tbest: 0.2870401 (47)\ttotal: 7m 23s\tremaining: 1h 57m 48s\n",
      "59:\tlearn: 0.2737007\ttest: 0.2872580\tbest: 0.2870401 (47)\ttotal: 7m 36s\tremaining: 1h 59m 11s\n",
      "60:\tlearn: 0.2735627\ttest: 0.2872828\tbest: 0.2870401 (47)\ttotal: 7m 50s\tremaining: 2h 36s\n",
      "61:\tlearn: 0.2734328\ttest: 0.2872970\tbest: 0.2870401 (47)\ttotal: 8m 3s\tremaining: 2h 1m 52s\n",
      "62:\tlearn: 0.2733495\ttest: 0.2873164\tbest: 0.2870401 (47)\ttotal: 8m 12s\tremaining: 2h 2m\n",
      "63:\tlearn: 0.2732412\ttest: 0.2873240\tbest: 0.2870401 (47)\ttotal: 8m 23s\tremaining: 2h 2m 44s\n",
      "64:\tlearn: 0.2732363\ttest: 0.2873143\tbest: 0.2870401 (47)\ttotal: 8m 23s\tremaining: 2h 46s\n",
      "65:\tlearn: 0.2730499\ttest: 0.2873404\tbest: 0.2870401 (47)\ttotal: 8m 36s\tremaining: 2h 1m 51s\n",
      "66:\tlearn: 0.2729547\ttest: 0.2873727\tbest: 0.2870401 (47)\ttotal: 8m 49s\tremaining: 2h 2m 53s\n",
      "67:\tlearn: 0.2728728\ttest: 0.2873773\tbest: 0.2870401 (47)\ttotal: 9m 2s\tremaining: 2h 3m 58s\n",
      "68:\tlearn: 0.2726839\ttest: 0.2873939\tbest: 0.2870401 (47)\ttotal: 9m 12s\tremaining: 2h 4m 12s\n",
      "69:\tlearn: 0.2725840\ttest: 0.2874002\tbest: 0.2870401 (47)\ttotal: 9m 27s\tremaining: 2h 5m 45s\n",
      "70:\tlearn: 0.2724188\ttest: 0.2874493\tbest: 0.2870401 (47)\ttotal: 9m 42s\tremaining: 2h 7m 3s\n",
      "71:\tlearn: 0.2723313\ttest: 0.2874868\tbest: 0.2870401 (47)\ttotal: 9m 56s\tremaining: 2h 8m 5s\n",
      "72:\tlearn: 0.2722260\ttest: 0.2875117\tbest: 0.2870401 (47)\ttotal: 10m 6s\tremaining: 2h 8m 19s\n",
      "73:\tlearn: 0.2721737\ttest: 0.2875255\tbest: 0.2870401 (47)\ttotal: 10m 16s\tremaining: 2h 8m 36s\n",
      "74:\tlearn: 0.2720537\ttest: 0.2875579\tbest: 0.2870401 (47)\ttotal: 10m 29s\tremaining: 2h 9m 27s\n",
      "75:\tlearn: 0.2720132\ttest: 0.2875775\tbest: 0.2870401 (47)\ttotal: 10m 42s\tremaining: 2h 10m 11s\n",
      "76:\tlearn: 0.2718631\ttest: 0.2876136\tbest: 0.2870401 (47)\ttotal: 10m 55s\tremaining: 2h 10m 52s\n",
      "77:\tlearn: 0.2717734\ttest: 0.2876250\tbest: 0.2870401 (47)\ttotal: 11m 3s\tremaining: 2h 10m 38s\n",
      "78:\tlearn: 0.2717722\ttest: 0.2876203\tbest: 0.2870401 (47)\ttotal: 11m 3s\tremaining: 2h 8m 52s\n",
      "79:\tlearn: 0.2717094\ttest: 0.2876342\tbest: 0.2870401 (47)\ttotal: 11m 14s\tremaining: 2h 9m 19s\n",
      "80:\tlearn: 0.2716240\ttest: 0.2876461\tbest: 0.2870401 (47)\ttotal: 11m 27s\tremaining: 2h 9m 58s\n",
      "81:\tlearn: 0.2714698\ttest: 0.2876908\tbest: 0.2870401 (47)\ttotal: 11m 39s\tremaining: 2h 10m 33s\n",
      "82:\tlearn: 0.2714206\ttest: 0.2876856\tbest: 0.2870401 (47)\ttotal: 11m 51s\tremaining: 2h 10m 59s\n",
      "83:\tlearn: 0.2712315\ttest: 0.2877130\tbest: 0.2870401 (47)\ttotal: 11m 58s\tremaining: 2h 10m 38s\n",
      "84:\tlearn: 0.2711132\ttest: 0.2876961\tbest: 0.2870401 (47)\ttotal: 12m 10s\tremaining: 2h 11m 6s\n"
     ]
    },
    {
     "name": "stdout",
     "output_type": "stream",
     "text": [
      "85:\tlearn: 0.2710060\ttest: 0.2877111\tbest: 0.2870401 (47)\ttotal: 12m 22s\tremaining: 2h 11m 31s\n",
      "86:\tlearn: 0.2709059\ttest: 0.2877276\tbest: 0.2870401 (47)\ttotal: 12m 34s\tremaining: 2h 11m 55s\n",
      "87:\tlearn: 0.2708254\ttest: 0.2877370\tbest: 0.2870401 (47)\ttotal: 12m 46s\tremaining: 2h 12m 20s\n",
      "88:\tlearn: 0.2707157\ttest: 0.2877784\tbest: 0.2870401 (47)\ttotal: 12m 53s\tremaining: 2h 11m 58s\n",
      "89:\tlearn: 0.2705517\ttest: 0.2877811\tbest: 0.2870401 (47)\ttotal: 13m 4s\tremaining: 2h 12m 14s\n",
      "90:\tlearn: 0.2704657\ttest: 0.2877936\tbest: 0.2870401 (47)\ttotal: 13m 16s\tremaining: 2h 12m 39s\n",
      "91:\tlearn: 0.2703111\ttest: 0.2878208\tbest: 0.2870401 (47)\ttotal: 13m 28s\tremaining: 2h 12m 59s\n",
      "92:\tlearn: 0.2703094\ttest: 0.2878217\tbest: 0.2870401 (47)\ttotal: 13m 28s\tremaining: 2h 11m 26s\n",
      "93:\tlearn: 0.2701095\ttest: 0.2879000\tbest: 0.2870401 (47)\ttotal: 13m 40s\tremaining: 2h 11m 46s\n",
      "94:\tlearn: 0.2700119\ttest: 0.2878988\tbest: 0.2870401 (47)\ttotal: 13m 47s\tremaining: 2h 11m 24s\n",
      "95:\tlearn: 0.2699479\ttest: 0.2879021\tbest: 0.2870401 (47)\ttotal: 13m 57s\tremaining: 2h 11m 30s\n",
      "96:\tlearn: 0.2698458\ttest: 0.2879388\tbest: 0.2870401 (47)\ttotal: 14m 9s\tremaining: 2h 11m 50s\n",
      "97:\tlearn: 0.2696419\ttest: 0.2879492\tbest: 0.2870401 (47)\ttotal: 14m 20s\tremaining: 2h 11m 59s\n",
      "98:\tlearn: 0.2695061\ttest: 0.2879580\tbest: 0.2870401 (47)\ttotal: 14m 31s\tremaining: 2h 12m 9s\n",
      "99:\tlearn: 0.2693890\ttest: 0.2879807\tbest: 0.2870401 (47)\ttotal: 14m 40s\tremaining: 2h 12m 1s\n",
      "100:\tlearn: 0.2692614\ttest: 0.2880218\tbest: 0.2870401 (47)\ttotal: 14m 48s\tremaining: 2h 11m 52s\n",
      "101:\tlearn: 0.2690953\ttest: 0.2880281\tbest: 0.2870401 (47)\ttotal: 15m\tremaining: 2h 12m 10s\n",
      "102:\tlearn: 0.2689939\ttest: 0.2880113\tbest: 0.2870401 (47)\ttotal: 15m 13s\tremaining: 2h 12m 32s\n",
      "103:\tlearn: 0.2689485\ttest: 0.2880014\tbest: 0.2870401 (47)\ttotal: 15m 20s\tremaining: 2h 12m 10s\n",
      "104:\tlearn: 0.2688500\ttest: 0.2880218\tbest: 0.2870401 (47)\ttotal: 15m 27s\tremaining: 2h 11m 45s\n",
      "105:\tlearn: 0.2688023\ttest: 0.2880256\tbest: 0.2870401 (47)\ttotal: 15m 33s\tremaining: 2h 11m 14s\n",
      "106:\tlearn: 0.2687789\ttest: 0.2880293\tbest: 0.2870401 (47)\ttotal: 15m 40s\tremaining: 2h 10m 49s\n",
      "107:\tlearn: 0.2687201\ttest: 0.2880312\tbest: 0.2870401 (47)\ttotal: 15m 47s\tremaining: 2h 10m 24s\n",
      "108:\tlearn: 0.2686618\ttest: 0.2880303\tbest: 0.2870401 (47)\ttotal: 15m 54s\tremaining: 2h 10m 1s\n",
      "109:\tlearn: 0.2685498\ttest: 0.2880447\tbest: 0.2870401 (47)\ttotal: 16m 1s\tremaining: 2h 9m 36s\n",
      "110:\tlearn: 0.2683620\ttest: 0.2880746\tbest: 0.2870401 (47)\ttotal: 16m 7s\tremaining: 2h 9m 11s\n",
      "111:\tlearn: 0.2681819\ttest: 0.2881026\tbest: 0.2870401 (47)\ttotal: 16m 14s\tremaining: 2h 8m 46s\n",
      "112:\tlearn: 0.2680269\ttest: 0.2881310\tbest: 0.2870401 (47)\ttotal: 16m 21s\tremaining: 2h 8m 21s\n",
      "113:\tlearn: 0.2679164\ttest: 0.2881389\tbest: 0.2870401 (47)\ttotal: 16m 27s\tremaining: 2h 7m 56s\n",
      "114:\tlearn: 0.2678155\ttest: 0.2881552\tbest: 0.2870401 (47)\ttotal: 16m 34s\tremaining: 2h 7m 31s\n",
      "115:\tlearn: 0.2678039\ttest: 0.2881590\tbest: 0.2870401 (47)\ttotal: 16m 34s\tremaining: 2h 6m 19s\n",
      "116:\tlearn: 0.2677493\ttest: 0.2881747\tbest: 0.2870401 (47)\ttotal: 16m 40s\tremaining: 2h 5m 48s\n",
      "117:\tlearn: 0.2675778\ttest: 0.2881659\tbest: 0.2870401 (47)\ttotal: 16m 46s\tremaining: 2h 5m 19s\n",
      "118:\tlearn: 0.2674132\ttest: 0.2882041\tbest: 0.2870401 (47)\ttotal: 16m 52s\tremaining: 2h 4m 52s\n",
      "119:\tlearn: 0.2673037\ttest: 0.2882431\tbest: 0.2870401 (47)\ttotal: 16m 58s\tremaining: 2h 4m 27s\n",
      "120:\tlearn: 0.2670857\ttest: 0.2882949\tbest: 0.2870401 (47)\ttotal: 17m 4s\tremaining: 2h 4m 3s\n",
      "121:\tlearn: 0.2670828\ttest: 0.2882937\tbest: 0.2870401 (47)\ttotal: 17m 4s\tremaining: 2h 2m 55s\n",
      "122:\tlearn: 0.2669899\ttest: 0.2883457\tbest: 0.2870401 (47)\ttotal: 17m 10s\tremaining: 2h 2m 29s\n",
      "123:\tlearn: 0.2669435\ttest: 0.2883539\tbest: 0.2870401 (47)\ttotal: 17m 17s\tremaining: 2h 2m 7s\n",
      "124:\tlearn: 0.2668227\ttest: 0.2883759\tbest: 0.2870401 (47)\ttotal: 17m 23s\tremaining: 2h 1m 44s\n",
      "125:\tlearn: 0.2667604\ttest: 0.2883954\tbest: 0.2870401 (47)\ttotal: 17m 29s\tremaining: 2h 1m 22s\n",
      "126:\tlearn: 0.2665847\ttest: 0.2883990\tbest: 0.2870401 (47)\ttotal: 17m 36s\tremaining: 2h 1m\n",
      "127:\tlearn: 0.2665273\ttest: 0.2884212\tbest: 0.2870401 (47)\ttotal: 17m 42s\tremaining: 2h 37s\n",
      "128:\tlearn: 0.2664039\ttest: 0.2884593\tbest: 0.2870401 (47)\ttotal: 17m 48s\tremaining: 2h 13s\n",
      "129:\tlearn: 0.2662968\ttest: 0.2884751\tbest: 0.2870401 (47)\ttotal: 17m 54s\tremaining: 1h 59m 51s\n",
      "130:\tlearn: 0.2661475\ttest: 0.2885166\tbest: 0.2870401 (47)\ttotal: 18m\tremaining: 1h 59m 30s\n",
      "131:\tlearn: 0.2659985\ttest: 0.2885591\tbest: 0.2870401 (47)\ttotal: 18m 6s\tremaining: 1h 59m 7s\n",
      "132:\tlearn: 0.2658034\ttest: 0.2886533\tbest: 0.2870401 (47)\ttotal: 18m 12s\tremaining: 1h 58m 44s\n",
      "133:\tlearn: 0.2657135\ttest: 0.2886513\tbest: 0.2870401 (47)\ttotal: 18m 19s\tremaining: 1h 58m 22s\n",
      "134:\tlearn: 0.2656217\ttest: 0.2886996\tbest: 0.2870401 (47)\ttotal: 18m 25s\tremaining: 1h 58m\n",
      "135:\tlearn: 0.2654914\ttest: 0.2887123\tbest: 0.2870401 (47)\ttotal: 18m 31s\tremaining: 1h 57m 39s\n",
      "136:\tlearn: 0.2654420\ttest: 0.2887306\tbest: 0.2870401 (47)\ttotal: 18m 37s\tremaining: 1h 57m 17s\n",
      "137:\tlearn: 0.2653457\ttest: 0.2887475\tbest: 0.2870401 (47)\ttotal: 18m 43s\tremaining: 1h 56m 56s\n",
      "138:\tlearn: 0.2651766\ttest: 0.2887871\tbest: 0.2870401 (47)\ttotal: 18m 49s\tremaining: 1h 56m 36s\n",
      "139:\tlearn: 0.2650769\ttest: 0.2888159\tbest: 0.2870401 (47)\ttotal: 18m 55s\tremaining: 1h 56m 16s\n",
      "140:\tlearn: 0.2649128\ttest: 0.2887916\tbest: 0.2870401 (47)\ttotal: 19m 1s\tremaining: 1h 55m 56s\n",
      "141:\tlearn: 0.2648553\ttest: 0.2887878\tbest: 0.2870401 (47)\ttotal: 19m 7s\tremaining: 1h 55m 36s\n",
      "142:\tlearn: 0.2647498\ttest: 0.2887889\tbest: 0.2870401 (47)\ttotal: 19m 14s\tremaining: 1h 55m 18s\n",
      "143:\tlearn: 0.2646381\ttest: 0.2888014\tbest: 0.2870401 (47)\ttotal: 19m 21s\tremaining: 1h 55m 2s\n",
      "144:\tlearn: 0.2645061\ttest: 0.2888110\tbest: 0.2870401 (47)\ttotal: 19m 28s\tremaining: 1h 54m 49s\n",
      "145:\tlearn: 0.2642754\ttest: 0.2888918\tbest: 0.2870401 (47)\ttotal: 19m 34s\tremaining: 1h 54m 31s\n",
      "146:\tlearn: 0.2641072\ttest: 0.2889055\tbest: 0.2870401 (47)\ttotal: 19m 41s\tremaining: 1h 54m 13s\n",
      "147:\tlearn: 0.2639307\ttest: 0.2889822\tbest: 0.2870401 (47)\ttotal: 19m 47s\tremaining: 1h 53m 56s\n",
      "Stopped by overfitting detector  (100 iterations wait)\n",
      "\n",
      "bestTest = 0.2870401105\n",
      "bestIteration = 47\n",
      "\n",
      "Shrink model to first 48 iterations.\n",
      "0:\tlearn: 0.5626407\ttest: 0.5632365\tbest: 0.5632365 (0)\ttotal: 6.38s\tremaining: 1h 46m 19s\n",
      "1:\tlearn: 0.4757466\ttest: 0.4766541\tbest: 0.4766541 (1)\ttotal: 12.7s\tremaining: 1h 46m 1s\n",
      "2:\tlearn: 0.4197745\ttest: 0.4211520\tbest: 0.4211520 (2)\ttotal: 19.1s\tremaining: 1h 46m 4s\n",
      "3:\tlearn: 0.3816565\ttest: 0.3835373\tbest: 0.3835373 (3)\ttotal: 20.8s\tremaining: 1h 26m 23s\n",
      "4:\tlearn: 0.3550303\ttest: 0.3574270\tbest: 0.3574270 (4)\ttotal: 26.8s\tremaining: 1h 28m 50s\n",
      "5:\tlearn: 0.3362926\ttest: 0.3392137\tbest: 0.3392137 (5)\ttotal: 32.7s\tremaining: 1h 30m 22s\n",
      "6:\tlearn: 0.3232712\ttest: 0.3265921\tbest: 0.3265921 (6)\ttotal: 34.3s\tremaining: 1h 21m 5s\n",
      "7:\tlearn: 0.3140351\ttest: 0.3175097\tbest: 0.3175097 (7)\ttotal: 34.4s\tremaining: 1h 11m 10s\n",
      "8:\tlearn: 0.3071974\ttest: 0.3110199\tbest: 0.3110199 (8)\ttotal: 40.5s\tremaining: 1h 14m 21s\n",
      "9:\tlearn: 0.3018317\ttest: 0.3059546\tbest: 0.3059546 (9)\ttotal: 46.5s\tremaining: 1h 16m 39s\n",
      "10:\tlearn: 0.2975795\ttest: 0.3021665\tbest: 0.3021665 (10)\ttotal: 52.4s\tremaining: 1h 18m 28s\n",
      "11:\tlearn: 0.2942425\ttest: 0.2993575\tbest: 0.2993575 (11)\ttotal: 58.4s\tremaining: 1h 20m 7s\n",
      "12:\tlearn: 0.2916310\ttest: 0.2970495\tbest: 0.2970495 (12)\ttotal: 1m 4s\tremaining: 1h 21m 18s\n",
      "13:\tlearn: 0.2896004\ttest: 0.2954352\tbest: 0.2954352 (13)\ttotal: 1m 10s\tremaining: 1h 22m 25s\n",
      "14:\tlearn: 0.2876864\ttest: 0.2939758\tbest: 0.2939758 (14)\ttotal: 1m 16s\tremaining: 1h 23m 16s\n",
      "15:\tlearn: 0.2861848\ttest: 0.2930310\tbest: 0.2930310 (15)\ttotal: 1m 22s\tremaining: 1h 24m 6s\n",
      "16:\tlearn: 0.2849965\ttest: 0.2922284\tbest: 0.2922284 (16)\ttotal: 1m 27s\tremaining: 1h 24m 47s\n",
      "17:\tlearn: 0.2840617\ttest: 0.2916772\tbest: 0.2916772 (17)\ttotal: 1m 33s\tremaining: 1h 25m 20s\n",
      "18:\tlearn: 0.2832241\ttest: 0.2910818\tbest: 0.2910818 (18)\ttotal: 1m 39s\tremaining: 1h 25m 50s\n",
      "19:\tlearn: 0.2825972\ttest: 0.2907335\tbest: 0.2907335 (19)\ttotal: 1m 45s\tremaining: 1h 26m 14s\n",
      "20:\tlearn: 0.2819623\ttest: 0.2904532\tbest: 0.2904532 (20)\ttotal: 1m 51s\tremaining: 1h 26m 34s\n",
      "21:\tlearn: 0.2814571\ttest: 0.2901733\tbest: 0.2901733 (21)\ttotal: 1m 57s\tremaining: 1h 26m 49s\n",
      "22:\tlearn: 0.2809446\ttest: 0.2900386\tbest: 0.2900386 (22)\ttotal: 2m 3s\tremaining: 1h 27m 5s\n"
     ]
    },
    {
     "name": "stdout",
     "output_type": "stream",
     "text": [
      "23:\tlearn: 0.2805013\ttest: 0.2898839\tbest: 0.2898839 (23)\ttotal: 2m 8s\tremaining: 1h 27m 20s\n",
      "24:\tlearn: 0.2800625\ttest: 0.2896820\tbest: 0.2896820 (24)\ttotal: 2m 14s\tremaining: 1h 27m 27s\n",
      "25:\tlearn: 0.2797006\ttest: 0.2895306\tbest: 0.2895306 (25)\ttotal: 2m 21s\tremaining: 1h 28m 4s\n",
      "26:\tlearn: 0.2794968\ttest: 0.2894166\tbest: 0.2894166 (26)\ttotal: 2m 28s\tremaining: 1h 29m 19s\n",
      "27:\tlearn: 0.2790559\ttest: 0.2894236\tbest: 0.2894166 (26)\ttotal: 2m 36s\tremaining: 1h 30m 29s\n",
      "28:\tlearn: 0.2787060\ttest: 0.2893522\tbest: 0.2893522 (28)\ttotal: 2m 44s\tremaining: 1h 31m 32s\n",
      "29:\tlearn: 0.2784159\ttest: 0.2892997\tbest: 0.2892997 (29)\ttotal: 2m 51s\tremaining: 1h 32m 26s\n",
      "30:\tlearn: 0.2781613\ttest: 0.2892602\tbest: 0.2892602 (30)\ttotal: 2m 59s\tremaining: 1h 33m 22s\n",
      "31:\tlearn: 0.2779324\ttest: 0.2891969\tbest: 0.2891969 (31)\ttotal: 3m 6s\tremaining: 1h 34m 5s\n",
      "32:\tlearn: 0.2777572\ttest: 0.2891999\tbest: 0.2891969 (31)\ttotal: 3m 14s\tremaining: 1h 34m 46s\n",
      "33:\tlearn: 0.2775177\ttest: 0.2891526\tbest: 0.2891526 (33)\ttotal: 3m 21s\tremaining: 1h 35m 20s\n",
      "34:\tlearn: 0.2773765\ttest: 0.2891447\tbest: 0.2891447 (34)\ttotal: 3m 28s\tremaining: 1h 36m 2s\n",
      "35:\tlearn: 0.2771924\ttest: 0.2891705\tbest: 0.2891447 (34)\ttotal: 3m 36s\tremaining: 1h 36m 33s\n",
      "36:\tlearn: 0.2769680\ttest: 0.2892081\tbest: 0.2891447 (34)\ttotal: 3m 43s\tremaining: 1h 36m 57s\n",
      "37:\tlearn: 0.2768225\ttest: 0.2891981\tbest: 0.2891447 (34)\ttotal: 3m 50s\tremaining: 1h 37m 19s\n",
      "38:\tlearn: 0.2766506\ttest: 0.2891655\tbest: 0.2891447 (34)\ttotal: 3m 57s\tremaining: 1h 37m 31s\n",
      "39:\tlearn: 0.2763638\ttest: 0.2891975\tbest: 0.2891447 (34)\ttotal: 4m 4s\tremaining: 1h 37m 46s\n",
      "40:\tlearn: 0.2762244\ttest: 0.2892343\tbest: 0.2891447 (34)\ttotal: 4m 11s\tremaining: 1h 37m 56s\n",
      "41:\tlearn: 0.2761095\ttest: 0.2892338\tbest: 0.2891447 (34)\ttotal: 4m 18s\tremaining: 1h 38m 5s\n",
      "42:\tlearn: 0.2759958\ttest: 0.2892314\tbest: 0.2891447 (34)\ttotal: 4m 24s\tremaining: 1h 38m 16s\n",
      "43:\tlearn: 0.2759708\ttest: 0.2892343\tbest: 0.2891447 (34)\ttotal: 4m 25s\tremaining: 1h 36m\n",
      "44:\tlearn: 0.2757587\ttest: 0.2892316\tbest: 0.2891447 (34)\ttotal: 4m 32s\tremaining: 1h 36m 13s\n",
      "45:\tlearn: 0.2755337\ttest: 0.2892454\tbest: 0.2891447 (34)\ttotal: 4m 38s\tremaining: 1h 36m 23s\n",
      "46:\tlearn: 0.2753745\ttest: 0.2892603\tbest: 0.2891447 (34)\ttotal: 4m 45s\tremaining: 1h 36m 30s\n",
      "47:\tlearn: 0.2751824\ttest: 0.2892956\tbest: 0.2891447 (34)\ttotal: 4m 52s\tremaining: 1h 36m 39s\n",
      "48:\tlearn: 0.2751155\ttest: 0.2893024\tbest: 0.2891447 (34)\ttotal: 4m 59s\tremaining: 1h 36m 55s\n",
      "49:\tlearn: 0.2750941\ttest: 0.2892967\tbest: 0.2891447 (34)\ttotal: 4m 59s\tremaining: 1h 34m 56s\n",
      "50:\tlearn: 0.2750161\ttest: 0.2893116\tbest: 0.2891447 (34)\ttotal: 5m 6s\tremaining: 1h 35m 2s\n",
      "51:\tlearn: 0.2747169\ttest: 0.2893988\tbest: 0.2891447 (34)\ttotal: 5m 13s\tremaining: 1h 35m 7s\n",
      "52:\tlearn: 0.2746036\ttest: 0.2893980\tbest: 0.2891447 (34)\ttotal: 5m 19s\tremaining: 1h 35m 11s\n",
      "53:\tlearn: 0.2745978\ttest: 0.2893980\tbest: 0.2891447 (34)\ttotal: 5m 19s\tremaining: 1h 33m 22s\n",
      "54:\tlearn: 0.2744644\ttest: 0.2893857\tbest: 0.2891447 (34)\ttotal: 5m 26s\tremaining: 1h 33m 29s\n",
      "55:\tlearn: 0.2743544\ttest: 0.2893973\tbest: 0.2891447 (34)\ttotal: 5m 33s\tremaining: 1h 33m 33s\n",
      "56:\tlearn: 0.2742016\ttest: 0.2894116\tbest: 0.2891447 (34)\ttotal: 5m 39s\tremaining: 1h 33m 37s\n",
      "57:\tlearn: 0.2739650\ttest: 0.2894548\tbest: 0.2891447 (34)\ttotal: 5m 46s\tremaining: 1h 33m 41s\n",
      "58:\tlearn: 0.2738539\ttest: 0.2894702\tbest: 0.2891447 (34)\ttotal: 5m 52s\tremaining: 1h 33m 45s\n",
      "59:\tlearn: 0.2737456\ttest: 0.2894635\tbest: 0.2891447 (34)\ttotal: 5m 59s\tremaining: 1h 33m 50s\n",
      "60:\tlearn: 0.2734644\ttest: 0.2894760\tbest: 0.2891447 (34)\ttotal: 6m 5s\tremaining: 1h 33m 51s\n",
      "61:\tlearn: 0.2733616\ttest: 0.2895067\tbest: 0.2891447 (34)\ttotal: 6m 11s\tremaining: 1h 33m 47s\n",
      "62:\tlearn: 0.2732113\ttest: 0.2895464\tbest: 0.2891447 (34)\ttotal: 6m 17s\tremaining: 1h 33m 39s\n",
      "63:\tlearn: 0.2730625\ttest: 0.2895769\tbest: 0.2891447 (34)\ttotal: 6m 23s\tremaining: 1h 33m 31s\n",
      "64:\tlearn: 0.2730583\ttest: 0.2895772\tbest: 0.2891447 (34)\ttotal: 6m 23s\tremaining: 1h 32m\n",
      "65:\tlearn: 0.2729202\ttest: 0.2896146\tbest: 0.2891447 (34)\ttotal: 6m 29s\tremaining: 1h 31m 53s\n",
      "66:\tlearn: 0.2728270\ttest: 0.2896280\tbest: 0.2891447 (34)\ttotal: 6m 35s\tremaining: 1h 31m 47s\n",
      "67:\tlearn: 0.2727663\ttest: 0.2896553\tbest: 0.2891447 (34)\ttotal: 6m 41s\tremaining: 1h 31m 40s\n",
      "68:\tlearn: 0.2726214\ttest: 0.2896806\tbest: 0.2891447 (34)\ttotal: 6m 47s\tremaining: 1h 31m 33s\n",
      "69:\tlearn: 0.2725360\ttest: 0.2896818\tbest: 0.2891447 (34)\ttotal: 6m 50s\tremaining: 1h 30m 49s\n",
      "70:\tlearn: 0.2723746\ttest: 0.2897127\tbest: 0.2891447 (34)\ttotal: 6m 55s\tremaining: 1h 30m 42s\n",
      "71:\tlearn: 0.2721664\ttest: 0.2897846\tbest: 0.2891447 (34)\ttotal: 7m 1s\tremaining: 1h 30m 36s\n",
      "72:\tlearn: 0.2721559\ttest: 0.2897893\tbest: 0.2891447 (34)\ttotal: 7m 1s\tremaining: 1h 29m 18s\n",
      "73:\tlearn: 0.2720506\ttest: 0.2898228\tbest: 0.2891447 (34)\ttotal: 7m 7s\tremaining: 1h 29m 11s\n",
      "74:\tlearn: 0.2720473\ttest: 0.2898197\tbest: 0.2891447 (34)\ttotal: 7m 7s\tremaining: 1h 27m 55s\n",
      "75:\tlearn: 0.2718236\ttest: 0.2898877\tbest: 0.2891447 (34)\ttotal: 7m 13s\tremaining: 1h 27m 50s\n",
      "76:\tlearn: 0.2716791\ttest: 0.2898951\tbest: 0.2891447 (34)\ttotal: 7m 19s\tremaining: 1h 27m 47s\n",
      "77:\tlearn: 0.2715385\ttest: 0.2898894\tbest: 0.2891447 (34)\ttotal: 7m 25s\tremaining: 1h 27m 43s\n",
      "78:\tlearn: 0.2714415\ttest: 0.2898907\tbest: 0.2891447 (34)\ttotal: 7m 30s\tremaining: 1h 27m 37s\n",
      "79:\tlearn: 0.2714389\ttest: 0.2898902\tbest: 0.2891447 (34)\ttotal: 7m 31s\tremaining: 1h 26m 27s\n",
      "80:\tlearn: 0.2714388\ttest: 0.2898904\tbest: 0.2891447 (34)\ttotal: 7m 31s\tremaining: 1h 25m 18s\n",
      "81:\tlearn: 0.2713226\ttest: 0.2899174\tbest: 0.2891447 (34)\ttotal: 7m 36s\tremaining: 1h 25m 15s\n",
      "82:\tlearn: 0.2713185\ttest: 0.2899175\tbest: 0.2891447 (34)\ttotal: 7m 37s\tremaining: 1h 24m 9s\n",
      "83:\tlearn: 0.2711794\ttest: 0.2899431\tbest: 0.2891447 (34)\ttotal: 7m 42s\tremaining: 1h 24m 7s\n",
      "84:\tlearn: 0.2710755\ttest: 0.2899609\tbest: 0.2891447 (34)\ttotal: 7m 48s\tremaining: 1h 24m 4s\n",
      "85:\tlearn: 0.2708931\ttest: 0.2900313\tbest: 0.2891447 (34)\ttotal: 7m 54s\tremaining: 1h 24m 1s\n",
      "86:\tlearn: 0.2707951\ttest: 0.2900467\tbest: 0.2891447 (34)\ttotal: 8m\tremaining: 1h 24m\n",
      "87:\tlearn: 0.2707477\ttest: 0.2900554\tbest: 0.2891447 (34)\ttotal: 8m 6s\tremaining: 1h 23m 56s\n",
      "88:\tlearn: 0.2707056\ttest: 0.2900424\tbest: 0.2891447 (34)\ttotal: 8m 11s\tremaining: 1h 23m 49s\n",
      "89:\tlearn: 0.2705498\ttest: 0.2900662\tbest: 0.2891447 (34)\ttotal: 8m 16s\tremaining: 1h 23m 40s\n",
      "90:\tlearn: 0.2704799\ttest: 0.2900666\tbest: 0.2891447 (34)\ttotal: 8m 21s\tremaining: 1h 23m 32s\n",
      "91:\tlearn: 0.2704051\ttest: 0.2900853\tbest: 0.2891447 (34)\ttotal: 8m 27s\tremaining: 1h 23m 24s\n",
      "92:\tlearn: 0.2703132\ttest: 0.2901020\tbest: 0.2891447 (34)\ttotal: 8m 32s\tremaining: 1h 23m 17s\n",
      "93:\tlearn: 0.2701994\ttest: 0.2901619\tbest: 0.2891447 (34)\ttotal: 8m 37s\tremaining: 1h 23m 10s\n",
      "94:\tlearn: 0.2701198\ttest: 0.2901848\tbest: 0.2891447 (34)\ttotal: 8m 43s\tremaining: 1h 23m 2s\n",
      "95:\tlearn: 0.2699611\ttest: 0.2901886\tbest: 0.2891447 (34)\ttotal: 8m 48s\tremaining: 1h 22m 55s\n",
      "96:\tlearn: 0.2698625\ttest: 0.2901840\tbest: 0.2891447 (34)\ttotal: 8m 53s\tremaining: 1h 22m 49s\n",
      "97:\tlearn: 0.2697870\ttest: 0.2902039\tbest: 0.2891447 (34)\ttotal: 8m 59s\tremaining: 1h 22m 45s\n",
      "98:\tlearn: 0.2697012\ttest: 0.2902048\tbest: 0.2891447 (34)\ttotal: 9m 4s\tremaining: 1h 22m 39s\n",
      "99:\tlearn: 0.2695800\ttest: 0.2902100\tbest: 0.2891447 (34)\ttotal: 9m 10s\tremaining: 1h 22m 33s\n",
      "100:\tlearn: 0.2694372\ttest: 0.2901970\tbest: 0.2891447 (34)\ttotal: 9m 15s\tremaining: 1h 22m 27s\n",
      "101:\tlearn: 0.2693416\ttest: 0.2901862\tbest: 0.2891447 (34)\ttotal: 9m 21s\tremaining: 1h 22m 21s\n",
      "102:\tlearn: 0.2693416\ttest: 0.2901862\tbest: 0.2891447 (34)\ttotal: 9m 21s\tremaining: 1h 21m 28s\n",
      "103:\tlearn: 0.2691661\ttest: 0.2902147\tbest: 0.2891447 (34)\ttotal: 9m 26s\tremaining: 1h 21m 23s\n",
      "104:\tlearn: 0.2690635\ttest: 0.2902424\tbest: 0.2891447 (34)\ttotal: 9m 32s\tremaining: 1h 21m 19s\n",
      "105:\tlearn: 0.2689451\ttest: 0.2902498\tbest: 0.2891447 (34)\ttotal: 9m 37s\tremaining: 1h 21m 14s\n",
      "106:\tlearn: 0.2688771\ttest: 0.2902540\tbest: 0.2891447 (34)\ttotal: 9m 43s\tremaining: 1h 21m 9s\n",
      "107:\tlearn: 0.2687239\ttest: 0.2902851\tbest: 0.2891447 (34)\ttotal: 9m 49s\tremaining: 1h 21m 5s\n",
      "108:\tlearn: 0.2686159\ttest: 0.2902937\tbest: 0.2891447 (34)\ttotal: 9m 54s\tremaining: 1h 21m\n",
      "109:\tlearn: 0.2685570\ttest: 0.2902950\tbest: 0.2891447 (34)\ttotal: 10m\tremaining: 1h 20m 57s\n",
      "110:\tlearn: 0.2682786\ttest: 0.2903736\tbest: 0.2891447 (34)\ttotal: 10m 6s\tremaining: 1h 20m 54s\n"
     ]
    },
    {
     "name": "stdout",
     "output_type": "stream",
     "text": [
      "111:\tlearn: 0.2681150\ttest: 0.2904287\tbest: 0.2891447 (34)\ttotal: 10m 12s\tremaining: 1h 20m 52s\n",
      "112:\tlearn: 0.2680258\ttest: 0.2904361\tbest: 0.2891447 (34)\ttotal: 10m 17s\tremaining: 1h 20m 48s\n",
      "113:\tlearn: 0.2678074\ttest: 0.2904417\tbest: 0.2891447 (34)\ttotal: 10m 23s\tremaining: 1h 20m 45s\n",
      "114:\tlearn: 0.2677225\ttest: 0.2904690\tbest: 0.2891447 (34)\ttotal: 10m 29s\tremaining: 1h 20m 43s\n",
      "115:\tlearn: 0.2676004\ttest: 0.2904521\tbest: 0.2891447 (34)\ttotal: 10m 35s\tremaining: 1h 20m 39s\n",
      "116:\tlearn: 0.2675437\ttest: 0.2904635\tbest: 0.2891447 (34)\ttotal: 10m 40s\tremaining: 1h 20m 36s\n",
      "117:\tlearn: 0.2674949\ttest: 0.2904846\tbest: 0.2891447 (34)\ttotal: 10m 46s\tremaining: 1h 20m 32s\n",
      "118:\tlearn: 0.2674439\ttest: 0.2905052\tbest: 0.2891447 (34)\ttotal: 10m 52s\tremaining: 1h 20m 29s\n",
      "119:\tlearn: 0.2673583\ttest: 0.2905237\tbest: 0.2891447 (34)\ttotal: 10m 58s\tremaining: 1h 20m 27s\n",
      "120:\tlearn: 0.2672767\ttest: 0.2905286\tbest: 0.2891447 (34)\ttotal: 11m 4s\tremaining: 1h 20m 25s\n",
      "121:\tlearn: 0.2671353\ttest: 0.2905183\tbest: 0.2891447 (34)\ttotal: 11m 10s\tremaining: 1h 20m 23s\n",
      "122:\tlearn: 0.2670739\ttest: 0.2905488\tbest: 0.2891447 (34)\ttotal: 11m 16s\tremaining: 1h 20m 22s\n",
      "123:\tlearn: 0.2670086\ttest: 0.2905608\tbest: 0.2891447 (34)\ttotal: 11m 22s\tremaining: 1h 20m 22s\n",
      "124:\tlearn: 0.2669084\ttest: 0.2905905\tbest: 0.2891447 (34)\ttotal: 11m 28s\tremaining: 1h 20m 22s\n",
      "125:\tlearn: 0.2667782\ttest: 0.2906263\tbest: 0.2891447 (34)\ttotal: 11m 34s\tremaining: 1h 20m 20s\n",
      "126:\tlearn: 0.2667019\ttest: 0.2906379\tbest: 0.2891447 (34)\ttotal: 11m 41s\tremaining: 1h 20m 20s\n",
      "127:\tlearn: 0.2666597\ttest: 0.2906605\tbest: 0.2891447 (34)\ttotal: 11m 47s\tremaining: 1h 20m 22s\n",
      "128:\tlearn: 0.2665522\ttest: 0.2907047\tbest: 0.2891447 (34)\ttotal: 11m 54s\tremaining: 1h 20m 23s\n",
      "129:\tlearn: 0.2664266\ttest: 0.2907235\tbest: 0.2891447 (34)\ttotal: 12m\tremaining: 1h 20m 24s\n",
      "130:\tlearn: 0.2662175\ttest: 0.2907489\tbest: 0.2891447 (34)\ttotal: 12m 7s\tremaining: 1h 20m 25s\n",
      "131:\tlearn: 0.2660544\ttest: 0.2907863\tbest: 0.2891447 (34)\ttotal: 12m 14s\tremaining: 1h 20m 26s\n",
      "132:\tlearn: 0.2659000\ttest: 0.2908288\tbest: 0.2891447 (34)\ttotal: 12m 20s\tremaining: 1h 20m 27s\n",
      "133:\tlearn: 0.2657989\ttest: 0.2908391\tbest: 0.2891447 (34)\ttotal: 12m 26s\tremaining: 1h 20m 27s\n",
      "134:\tlearn: 0.2656811\ttest: 0.2908868\tbest: 0.2891447 (34)\ttotal: 12m 33s\tremaining: 1h 20m 27s\n",
      "Stopped by overfitting detector  (100 iterations wait)\n",
      "\n",
      "bestTest = 0.2891446634\n",
      "bestIteration = 34\n",
      "\n",
      "Shrink model to first 35 iterations.\n",
      "0:\tlearn: 0.5626994\ttest: 0.5628764\tbest: 0.5628764 (0)\ttotal: 6.24s\tremaining: 1h 43m 51s\n",
      "1:\tlearn: 0.4757888\ttest: 0.4761537\tbest: 0.4761537 (1)\ttotal: 12.4s\tremaining: 1h 43m 2s\n",
      "2:\tlearn: 0.4197456\ttest: 0.4203855\tbest: 0.4203855 (2)\ttotal: 18.5s\tremaining: 1h 42m 33s\n",
      "3:\tlearn: 0.3817208\ttest: 0.3824899\tbest: 0.3824899 (3)\ttotal: 20s\tremaining: 1h 22m 59s\n",
      "4:\tlearn: 0.3552234\ttest: 0.3562401\tbest: 0.3562401 (4)\ttotal: 26.3s\tremaining: 1h 27m 3s\n",
      "5:\tlearn: 0.3368720\ttest: 0.3380055\tbest: 0.3380055 (5)\ttotal: 32.4s\tremaining: 1h 29m 28s\n",
      "6:\tlearn: 0.3238432\ttest: 0.3251115\tbest: 0.3251115 (6)\ttotal: 33.9s\tremaining: 1h 20m 9s\n",
      "7:\tlearn: 0.3145915\ttest: 0.3158246\tbest: 0.3158246 (7)\ttotal: 34s\tremaining: 1h 10m 22s\n",
      "8:\tlearn: 0.3081825\ttest: 0.3093822\tbest: 0.3093822 (8)\ttotal: 34.2s\tremaining: 1h 2m 43s\n",
      "9:\tlearn: 0.3026888\ttest: 0.3039493\tbest: 0.3039493 (9)\ttotal: 35.7s\tremaining: 58m 58s\n",
      "10:\tlearn: 0.2980862\ttest: 0.2997961\tbest: 0.2997961 (10)\ttotal: 41.3s\tremaining: 1h 1m 51s\n",
      "11:\tlearn: 0.2947454\ttest: 0.2968429\tbest: 0.2968429 (11)\ttotal: 46.8s\tremaining: 1h 4m 14s\n",
      "12:\tlearn: 0.2923582\ttest: 0.2945774\tbest: 0.2945774 (12)\ttotal: 52.6s\tremaining: 1h 6m 32s\n",
      "13:\tlearn: 0.2901774\ttest: 0.2926372\tbest: 0.2926372 (13)\ttotal: 58.1s\tremaining: 1h 8m 14s\n",
      "14:\tlearn: 0.2883851\ttest: 0.2912314\tbest: 0.2912314 (14)\ttotal: 1m 3s\tremaining: 1h 9m 43s\n",
      "15:\tlearn: 0.2870839\ttest: 0.2901099\tbest: 0.2901099 (15)\ttotal: 1m 9s\tremaining: 1h 11m 5s\n",
      "16:\tlearn: 0.2858137\ttest: 0.2891419\tbest: 0.2891419 (16)\ttotal: 1m 15s\tremaining: 1h 12m 42s\n",
      "17:\tlearn: 0.2847409\ttest: 0.2883471\tbest: 0.2883471 (17)\ttotal: 1m 20s\tremaining: 1h 13m 37s\n",
      "18:\tlearn: 0.2838957\ttest: 0.2878159\tbest: 0.2878159 (18)\ttotal: 1m 26s\tremaining: 1h 14m 32s\n",
      "19:\tlearn: 0.2833146\ttest: 0.2873936\tbest: 0.2873936 (19)\ttotal: 1m 34s\tremaining: 1h 16m 49s\n",
      "20:\tlearn: 0.2829810\ttest: 0.2870672\tbest: 0.2870672 (20)\ttotal: 1m 34s\tremaining: 1h 13m 16s\n",
      "21:\tlearn: 0.2825459\ttest: 0.2867954\tbest: 0.2867954 (21)\ttotal: 1m 41s\tremaining: 1h 15m 21s\n",
      "22:\tlearn: 0.2819154\ttest: 0.2866007\tbest: 0.2866007 (22)\ttotal: 1m 49s\tremaining: 1h 17m 17s\n",
      "23:\tlearn: 0.2814839\ttest: 0.2864312\tbest: 0.2864312 (23)\ttotal: 1m 56s\tremaining: 1h 19m 3s\n",
      "24:\tlearn: 0.2808576\ttest: 0.2862756\tbest: 0.2862756 (24)\ttotal: 2m 4s\tremaining: 1h 20m 42s\n",
      "25:\tlearn: 0.2804411\ttest: 0.2861302\tbest: 0.2861302 (25)\ttotal: 2m 11s\tremaining: 1h 22m 10s\n",
      "26:\tlearn: 0.2800592\ttest: 0.2859993\tbest: 0.2859993 (26)\ttotal: 2m 19s\tremaining: 1h 23m 34s\n",
      "27:\tlearn: 0.2796899\ttest: 0.2859485\tbest: 0.2859485 (27)\ttotal: 2m 26s\tremaining: 1h 24m 54s\n",
      "28:\tlearn: 0.2793429\ttest: 0.2858934\tbest: 0.2858934 (28)\ttotal: 2m 34s\tremaining: 1h 26m 4s\n",
      "29:\tlearn: 0.2789991\ttest: 0.2858054\tbest: 0.2858054 (29)\ttotal: 2m 41s\tremaining: 1h 27m 5s\n",
      "30:\tlearn: 0.2787328\ttest: 0.2857467\tbest: 0.2857467 (30)\ttotal: 2m 48s\tremaining: 1h 27m 51s\n",
      "31:\tlearn: 0.2785081\ttest: 0.2857225\tbest: 0.2857225 (31)\ttotal: 2m 55s\tremaining: 1h 28m 34s\n",
      "32:\tlearn: 0.2783087\ttest: 0.2856721\tbest: 0.2856721 (32)\ttotal: 3m 2s\tremaining: 1h 29m 17s\n",
      "33:\tlearn: 0.2781346\ttest: 0.2856504\tbest: 0.2856504 (33)\ttotal: 3m 9s\tremaining: 1h 29m 55s\n",
      "34:\tlearn: 0.2778293\ttest: 0.2856316\tbest: 0.2856316 (34)\ttotal: 3m 17s\tremaining: 1h 30m 31s\n",
      "35:\tlearn: 0.2777629\ttest: 0.2856044\tbest: 0.2856044 (35)\ttotal: 3m 17s\tremaining: 1h 28m\n",
      "36:\tlearn: 0.2776203\ttest: 0.2855451\tbest: 0.2855451 (36)\ttotal: 3m 24s\tremaining: 1h 28m 39s\n",
      "37:\tlearn: 0.2774499\ttest: 0.2855184\tbest: 0.2855184 (37)\ttotal: 3m 31s\tremaining: 1h 29m 12s\n",
      "38:\tlearn: 0.2771036\ttest: 0.2855493\tbest: 0.2855184 (37)\ttotal: 3m 38s\tremaining: 1h 29m 43s\n",
      "39:\tlearn: 0.2769607\ttest: 0.2855542\tbest: 0.2855184 (37)\ttotal: 3m 45s\tremaining: 1h 30m 10s\n",
      "40:\tlearn: 0.2769385\ttest: 0.2855342\tbest: 0.2855184 (37)\ttotal: 3m 45s\tremaining: 1h 27m 56s\n",
      "41:\tlearn: 0.2767673\ttest: 0.2855658\tbest: 0.2855184 (37)\ttotal: 3m 52s\tremaining: 1h 28m 26s\n",
      "42:\tlearn: 0.2764889\ttest: 0.2855885\tbest: 0.2855184 (37)\ttotal: 3m 59s\tremaining: 1h 28m 55s\n",
      "43:\tlearn: 0.2762405\ttest: 0.2856032\tbest: 0.2855184 (37)\ttotal: 4m 7s\tremaining: 1h 29m 31s\n",
      "44:\tlearn: 0.2760602\ttest: 0.2856055\tbest: 0.2855184 (37)\ttotal: 4m 14s\tremaining: 1h 30m 3s\n",
      "45:\tlearn: 0.2759331\ttest: 0.2856076\tbest: 0.2855184 (37)\ttotal: 4m 22s\tremaining: 1h 30m 42s\n",
      "46:\tlearn: 0.2757620\ttest: 0.2856459\tbest: 0.2855184 (37)\ttotal: 4m 29s\tremaining: 1h 31m 9s\n",
      "47:\tlearn: 0.2755655\ttest: 0.2856771\tbest: 0.2855184 (37)\ttotal: 4m 37s\tremaining: 1h 31m 37s\n",
      "48:\tlearn: 0.2754175\ttest: 0.2856771\tbest: 0.2855184 (37)\ttotal: 4m 44s\tremaining: 1h 32m 2s\n",
      "49:\tlearn: 0.2753225\ttest: 0.2856770\tbest: 0.2855184 (37)\ttotal: 4m 51s\tremaining: 1h 32m 26s\n",
      "50:\tlearn: 0.2751803\ttest: 0.2856325\tbest: 0.2855184 (37)\ttotal: 4m 59s\tremaining: 1h 32m 51s\n",
      "51:\tlearn: 0.2750244\ttest: 0.2856172\tbest: 0.2855184 (37)\ttotal: 5m 6s\tremaining: 1h 33m 14s\n",
      "52:\tlearn: 0.2748513\ttest: 0.2856705\tbest: 0.2855184 (37)\ttotal: 5m 14s\tremaining: 1h 33m 34s\n",
      "53:\tlearn: 0.2746587\ttest: 0.2856835\tbest: 0.2855184 (37)\ttotal: 5m 21s\tremaining: 1h 33m 59s\n",
      "54:\tlearn: 0.2746475\ttest: 0.2856708\tbest: 0.2855184 (37)\ttotal: 5m 22s\tremaining: 1h 32m 12s\n",
      "55:\tlearn: 0.2745188\ttest: 0.2856595\tbest: 0.2855184 (37)\ttotal: 5m 29s\tremaining: 1h 32m 32s\n",
      "56:\tlearn: 0.2743780\ttest: 0.2856742\tbest: 0.2855184 (37)\ttotal: 5m 36s\tremaining: 1h 32m 50s\n",
      "57:\tlearn: 0.2742890\ttest: 0.2856703\tbest: 0.2855184 (37)\ttotal: 5m 44s\tremaining: 1h 33m 7s\n",
      "58:\tlearn: 0.2742765\ttest: 0.2856575\tbest: 0.2855184 (37)\ttotal: 5m 44s\tremaining: 1h 31m 29s\n",
      "59:\tlearn: 0.2741506\ttest: 0.2856916\tbest: 0.2855184 (37)\ttotal: 5m 51s\tremaining: 1h 31m 45s\n",
      "60:\tlearn: 0.2740583\ttest: 0.2857103\tbest: 0.2855184 (37)\ttotal: 5m 58s\tremaining: 1h 32m 2s\n",
      "61:\tlearn: 0.2738773\ttest: 0.2857371\tbest: 0.2855184 (37)\ttotal: 6m 5s\tremaining: 1h 32m 17s\n",
      "62:\tlearn: 0.2737721\ttest: 0.2857330\tbest: 0.2855184 (37)\ttotal: 6m 13s\tremaining: 1h 32m 29s\n"
     ]
    },
    {
     "name": "stdout",
     "output_type": "stream",
     "text": [
      "63:\tlearn: 0.2736344\ttest: 0.2857338\tbest: 0.2855184 (37)\ttotal: 6m 20s\tremaining: 1h 32m 42s\n",
      "64:\tlearn: 0.2734317\ttest: 0.2857314\tbest: 0.2855184 (37)\ttotal: 6m 27s\tremaining: 1h 32m 55s\n",
      "65:\tlearn: 0.2734286\ttest: 0.2857316\tbest: 0.2855184 (37)\ttotal: 6m 27s\tremaining: 1h 31m 26s\n",
      "66:\tlearn: 0.2733066\ttest: 0.2857385\tbest: 0.2855184 (37)\ttotal: 6m 34s\tremaining: 1h 31m 38s\n",
      "67:\tlearn: 0.2731863\ttest: 0.2857244\tbest: 0.2855184 (37)\ttotal: 6m 41s\tremaining: 1h 31m 46s\n",
      "68:\tlearn: 0.2730902\ttest: 0.2857156\tbest: 0.2855184 (37)\ttotal: 6m 48s\tremaining: 1h 31m 56s\n",
      "69:\tlearn: 0.2729344\ttest: 0.2857377\tbest: 0.2855184 (37)\ttotal: 6m 56s\tremaining: 1h 32m 15s\n",
      "70:\tlearn: 0.2728038\ttest: 0.2857389\tbest: 0.2855184 (37)\ttotal: 7m 3s\tremaining: 1h 32m 25s\n",
      "71:\tlearn: 0.2726162\ttest: 0.2858184\tbest: 0.2855184 (37)\ttotal: 7m 11s\tremaining: 1h 32m 35s\n",
      "72:\tlearn: 0.2725074\ttest: 0.2858270\tbest: 0.2855184 (37)\ttotal: 7m 18s\tremaining: 1h 32m 43s\n",
      "73:\tlearn: 0.2725044\ttest: 0.2858206\tbest: 0.2855184 (37)\ttotal: 7m 18s\tremaining: 1h 31m 23s\n",
      "74:\tlearn: 0.2723367\ttest: 0.2858450\tbest: 0.2855184 (37)\ttotal: 7m 25s\tremaining: 1h 31m 30s\n",
      "75:\tlearn: 0.2721811\ttest: 0.2858802\tbest: 0.2855184 (37)\ttotal: 7m 31s\tremaining: 1h 31m 33s\n",
      "76:\tlearn: 0.2719859\ttest: 0.2859121\tbest: 0.2855184 (37)\ttotal: 7m 38s\tremaining: 1h 31m 37s\n",
      "77:\tlearn: 0.2718271\ttest: 0.2859537\tbest: 0.2855184 (37)\ttotal: 7m 45s\tremaining: 1h 31m 39s\n",
      "78:\tlearn: 0.2716333\ttest: 0.2859672\tbest: 0.2855184 (37)\ttotal: 7m 51s\tremaining: 1h 31m 40s\n",
      "79:\tlearn: 0.2713836\ttest: 0.2860096\tbest: 0.2855184 (37)\ttotal: 7m 58s\tremaining: 1h 31m 40s\n",
      "80:\tlearn: 0.2711400\ttest: 0.2860128\tbest: 0.2855184 (37)\ttotal: 8m 4s\tremaining: 1h 31m 36s\n",
      "81:\tlearn: 0.2709698\ttest: 0.2860605\tbest: 0.2855184 (37)\ttotal: 8m 10s\tremaining: 1h 31m 32s\n",
      "82:\tlearn: 0.2709303\ttest: 0.2860606\tbest: 0.2855184 (37)\ttotal: 8m 11s\tremaining: 1h 30m 25s\n",
      "83:\tlearn: 0.2707939\ttest: 0.2861049\tbest: 0.2855184 (37)\ttotal: 8m 17s\tremaining: 1h 30m 22s\n",
      "84:\tlearn: 0.2706923\ttest: 0.2861491\tbest: 0.2855184 (37)\ttotal: 8m 23s\tremaining: 1h 30m 20s\n",
      "85:\tlearn: 0.2706053\ttest: 0.2861581\tbest: 0.2855184 (37)\ttotal: 8m 29s\tremaining: 1h 30m 17s\n",
      "86:\tlearn: 0.2704902\ttest: 0.2861843\tbest: 0.2855184 (37)\ttotal: 8m 35s\tremaining: 1h 30m 14s\n",
      "87:\tlearn: 0.2704353\ttest: 0.2861942\tbest: 0.2855184 (37)\ttotal: 8m 42s\tremaining: 1h 30m 11s\n",
      "88:\tlearn: 0.2702503\ttest: 0.2862482\tbest: 0.2855184 (37)\ttotal: 8m 48s\tremaining: 1h 30m 8s\n",
      "89:\tlearn: 0.2701580\ttest: 0.2862791\tbest: 0.2855184 (37)\ttotal: 8m 54s\tremaining: 1h 30m 5s\n",
      "90:\tlearn: 0.2700424\ttest: 0.2862977\tbest: 0.2855184 (37)\ttotal: 9m\tremaining: 1h 30m 2s\n",
      "91:\tlearn: 0.2699815\ttest: 0.2862956\tbest: 0.2855184 (37)\ttotal: 9m 7s\tremaining: 1h 29m 59s\n",
      "92:\tlearn: 0.2697796\ttest: 0.2863427\tbest: 0.2855184 (37)\ttotal: 9m 13s\tremaining: 1h 29m 57s\n",
      "93:\tlearn: 0.2697353\ttest: 0.2863624\tbest: 0.2855184 (37)\ttotal: 9m 19s\tremaining: 1h 29m 52s\n",
      "94:\tlearn: 0.2696747\ttest: 0.2863747\tbest: 0.2855184 (37)\ttotal: 9m 25s\tremaining: 1h 29m 48s\n",
      "95:\tlearn: 0.2695214\ttest: 0.2864080\tbest: 0.2855184 (37)\ttotal: 9m 31s\tremaining: 1h 29m 43s\n",
      "96:\tlearn: 0.2694487\ttest: 0.2864179\tbest: 0.2855184 (37)\ttotal: 9m 37s\tremaining: 1h 29m 40s\n",
      "97:\tlearn: 0.2693833\ttest: 0.2864185\tbest: 0.2855184 (37)\ttotal: 9m 44s\tremaining: 1h 29m 37s\n",
      "98:\tlearn: 0.2693252\ttest: 0.2864336\tbest: 0.2855184 (37)\ttotal: 9m 50s\tremaining: 1h 29m 33s\n",
      "99:\tlearn: 0.2691923\ttest: 0.2864954\tbest: 0.2855184 (37)\ttotal: 9m 56s\tremaining: 1h 29m 29s\n",
      "100:\tlearn: 0.2691296\ttest: 0.2865134\tbest: 0.2855184 (37)\ttotal: 10m 2s\tremaining: 1h 29m 25s\n",
      "101:\tlearn: 0.2690312\ttest: 0.2865575\tbest: 0.2855184 (37)\ttotal: 10m 8s\tremaining: 1h 29m 18s\n",
      "102:\tlearn: 0.2689544\ttest: 0.2865874\tbest: 0.2855184 (37)\ttotal: 10m 14s\tremaining: 1h 29m 10s\n",
      "103:\tlearn: 0.2688239\ttest: 0.2866406\tbest: 0.2855184 (37)\ttotal: 10m 20s\tremaining: 1h 29m 4s\n",
      "104:\tlearn: 0.2687797\ttest: 0.2866500\tbest: 0.2855184 (37)\ttotal: 10m 26s\tremaining: 1h 28m 59s\n",
      "105:\tlearn: 0.2686387\ttest: 0.2866621\tbest: 0.2855184 (37)\ttotal: 10m 32s\tremaining: 1h 28m 53s\n",
      "106:\tlearn: 0.2685371\ttest: 0.2866810\tbest: 0.2855184 (37)\ttotal: 10m 38s\tremaining: 1h 28m 46s\n",
      "107:\tlearn: 0.2684024\ttest: 0.2867006\tbest: 0.2855184 (37)\ttotal: 10m 44s\tremaining: 1h 28m 38s\n",
      "108:\tlearn: 0.2683472\ttest: 0.2867047\tbest: 0.2855184 (37)\ttotal: 10m 50s\tremaining: 1h 28m 34s\n",
      "109:\tlearn: 0.2682884\ttest: 0.2867336\tbest: 0.2855184 (37)\ttotal: 10m 56s\tremaining: 1h 28m 28s\n",
      "110:\tlearn: 0.2681917\ttest: 0.2867487\tbest: 0.2855184 (37)\ttotal: 11m 1s\tremaining: 1h 28m 20s\n",
      "111:\tlearn: 0.2681045\ttest: 0.2867742\tbest: 0.2855184 (37)\ttotal: 11m 7s\tremaining: 1h 28m 13s\n",
      "112:\tlearn: 0.2680939\ttest: 0.2867733\tbest: 0.2855184 (37)\ttotal: 11m 7s\tremaining: 1h 27m 22s\n",
      "113:\tlearn: 0.2678912\ttest: 0.2868291\tbest: 0.2855184 (37)\ttotal: 11m 13s\tremaining: 1h 27m 16s\n",
      "114:\tlearn: 0.2677919\ttest: 0.2868400\tbest: 0.2855184 (37)\ttotal: 11m 19s\tremaining: 1h 27m 10s\n",
      "115:\tlearn: 0.2677911\ttest: 0.2868403\tbest: 0.2855184 (37)\ttotal: 11m 19s\tremaining: 1h 26m 20s\n",
      "116:\tlearn: 0.2677151\ttest: 0.2868551\tbest: 0.2855184 (37)\ttotal: 11m 25s\tremaining: 1h 26m 16s\n",
      "117:\tlearn: 0.2675508\ttest: 0.2869056\tbest: 0.2855184 (37)\ttotal: 11m 31s\tremaining: 1h 26m 11s\n",
      "118:\tlearn: 0.2674798\ttest: 0.2868899\tbest: 0.2855184 (37)\ttotal: 11m 37s\tremaining: 1h 26m 5s\n",
      "119:\tlearn: 0.2673351\ttest: 0.2869242\tbest: 0.2855184 (37)\ttotal: 11m 43s\tremaining: 1h 25m 59s\n",
      "120:\tlearn: 0.2671557\ttest: 0.2869611\tbest: 0.2855184 (37)\ttotal: 11m 49s\tremaining: 1h 25m 55s\n",
      "121:\tlearn: 0.2670207\ttest: 0.2870191\tbest: 0.2855184 (37)\ttotal: 11m 55s\tremaining: 1h 25m 50s\n",
      "122:\tlearn: 0.2668162\ttest: 0.2870402\tbest: 0.2855184 (37)\ttotal: 12m 2s\tremaining: 1h 25m 51s\n",
      "123:\tlearn: 0.2666096\ttest: 0.2870832\tbest: 0.2855184 (37)\ttotal: 12m 8s\tremaining: 1h 25m 49s\n",
      "124:\tlearn: 0.2664576\ttest: 0.2870881\tbest: 0.2855184 (37)\ttotal: 12m 14s\tremaining: 1h 25m 44s\n",
      "125:\tlearn: 0.2662903\ttest: 0.2871466\tbest: 0.2855184 (37)\ttotal: 12m 21s\tremaining: 1h 25m 42s\n",
      "126:\tlearn: 0.2661035\ttest: 0.2872331\tbest: 0.2855184 (37)\ttotal: 12m 28s\tremaining: 1h 25m 42s\n",
      "127:\tlearn: 0.2660359\ttest: 0.2872402\tbest: 0.2855184 (37)\ttotal: 12m 34s\tremaining: 1h 25m 38s\n",
      "128:\tlearn: 0.2659552\ttest: 0.2872674\tbest: 0.2855184 (37)\ttotal: 12m 40s\tremaining: 1h 25m 34s\n",
      "129:\tlearn: 0.2657956\ttest: 0.2872837\tbest: 0.2855184 (37)\ttotal: 12m 47s\tremaining: 1h 25m 33s\n",
      "130:\tlearn: 0.2656609\ttest: 0.2873093\tbest: 0.2855184 (37)\ttotal: 12m 53s\tremaining: 1h 25m 30s\n",
      "131:\tlearn: 0.2656609\ttest: 0.2873093\tbest: 0.2855184 (37)\ttotal: 12m 53s\tremaining: 1h 24m 46s\n",
      "132:\tlearn: 0.2655085\ttest: 0.2873369\tbest: 0.2855184 (37)\ttotal: 12m 59s\tremaining: 1h 24m 43s\n",
      "133:\tlearn: 0.2653451\ttest: 0.2874006\tbest: 0.2855184 (37)\ttotal: 13m 6s\tremaining: 1h 24m 42s\n",
      "134:\tlearn: 0.2651845\ttest: 0.2874413\tbest: 0.2855184 (37)\ttotal: 13m 13s\tremaining: 1h 24m 41s\n",
      "135:\tlearn: 0.2650202\ttest: 0.2874724\tbest: 0.2855184 (37)\ttotal: 13m 19s\tremaining: 1h 24m 41s\n",
      "136:\tlearn: 0.2649641\ttest: 0.2874768\tbest: 0.2855184 (37)\ttotal: 13m 26s\tremaining: 1h 24m 41s\n",
      "137:\tlearn: 0.2648162\ttest: 0.2875141\tbest: 0.2855184 (37)\ttotal: 13m 34s\tremaining: 1h 24m 45s\n",
      "Stopped by overfitting detector  (100 iterations wait)\n",
      "\n",
      "bestTest = 0.285518392\n",
      "bestIteration = 37\n",
      "\n",
      "Shrink model to first 38 iterations.\n",
      "0:\tlearn: 0.5626165\ttest: 0.5626454\tbest: 0.5626454 (0)\ttotal: 6.37s\tremaining: 1h 46m 5s\n",
      "1:\tlearn: 0.4758709\ttest: 0.4758639\tbest: 0.4758639 (1)\ttotal: 12.6s\tremaining: 1h 44m 38s\n",
      "2:\tlearn: 0.4199772\ttest: 0.4198547\tbest: 0.4198547 (2)\ttotal: 18.8s\tremaining: 1h 44m 22s\n",
      "3:\tlearn: 0.3820110\ttest: 0.3819391\tbest: 0.3819391 (3)\ttotal: 20.3s\tremaining: 1h 24m 25s\n",
      "4:\tlearn: 0.3555532\ttest: 0.3555314\tbest: 0.3555314 (4)\ttotal: 26.7s\tremaining: 1h 28m 24s\n",
      "5:\tlearn: 0.3370177\ttest: 0.3371458\tbest: 0.3371458 (5)\ttotal: 32.9s\tremaining: 1h 30m 46s\n",
      "6:\tlearn: 0.3239885\ttest: 0.3241880\tbest: 0.3241880 (6)\ttotal: 34.4s\tremaining: 1h 21m 17s\n",
      "7:\tlearn: 0.3141107\ttest: 0.3144534\tbest: 0.3144534 (7)\ttotal: 40.3s\tremaining: 1h 23m 22s\n",
      "8:\tlearn: 0.3071792\ttest: 0.3076394\tbest: 0.3076394 (8)\ttotal: 46.4s\tremaining: 1h 25m 13s\n",
      "9:\tlearn: 0.3016330\ttest: 0.3021486\tbest: 0.3021486 (9)\ttotal: 52.3s\tremaining: 1h 26m 18s\n",
      "10:\tlearn: 0.2976961\ttest: 0.2983136\tbest: 0.2983136 (10)\ttotal: 58s\tremaining: 1h 26m 55s\n"
     ]
    },
    {
     "name": "stdout",
     "output_type": "stream",
     "text": [
      "11:\tlearn: 0.2946728\ttest: 0.2953721\tbest: 0.2953721 (11)\ttotal: 1m 3s\tremaining: 1h 27m 21s\n",
      "12:\tlearn: 0.2921431\ttest: 0.2930053\tbest: 0.2930053 (12)\ttotal: 1m 9s\tremaining: 1h 27m 56s\n",
      "13:\tlearn: 0.2901262\ttest: 0.2911829\tbest: 0.2911829 (13)\ttotal: 1m 15s\tremaining: 1h 28m 21s\n",
      "14:\tlearn: 0.2885621\ttest: 0.2897152\tbest: 0.2897152 (14)\ttotal: 1m 20s\tremaining: 1h 28m 34s\n",
      "15:\tlearn: 0.2870720\ttest: 0.2885240\tbest: 0.2885240 (15)\ttotal: 1m 26s\tremaining: 1h 29m 1s\n",
      "16:\tlearn: 0.2860862\ttest: 0.2876616\tbest: 0.2876616 (16)\ttotal: 1m 32s\tremaining: 1h 29m 24s\n",
      "17:\tlearn: 0.2852598\ttest: 0.2869814\tbest: 0.2869814 (17)\ttotal: 1m 39s\tremaining: 1h 30m 34s\n",
      "18:\tlearn: 0.2845637\ttest: 0.2864756\tbest: 0.2864756 (18)\ttotal: 1m 47s\tremaining: 1h 32m 22s\n",
      "19:\tlearn: 0.2841621\ttest: 0.2860734\tbest: 0.2860734 (19)\ttotal: 1m 47s\tremaining: 1h 27m 51s\n",
      "20:\tlearn: 0.2835845\ttest: 0.2855899\tbest: 0.2855899 (20)\ttotal: 1m 55s\tremaining: 1h 29m 27s\n",
      "21:\tlearn: 0.2829262\ttest: 0.2852783\tbest: 0.2852783 (21)\ttotal: 2m 2s\tremaining: 1h 30m 52s\n",
      "22:\tlearn: 0.2824472\ttest: 0.2850409\tbest: 0.2850409 (22)\ttotal: 2m 10s\tremaining: 1h 32m 14s\n",
      "23:\tlearn: 0.2819509\ttest: 0.2847753\tbest: 0.2847753 (23)\ttotal: 2m 17s\tremaining: 1h 33m 25s\n",
      "24:\tlearn: 0.2814592\ttest: 0.2845465\tbest: 0.2845465 (24)\ttotal: 2m 25s\tremaining: 1h 34m 28s\n",
      "25:\tlearn: 0.2810565\ttest: 0.2843991\tbest: 0.2843991 (25)\ttotal: 2m 32s\tremaining: 1h 35m 22s\n",
      "26:\tlearn: 0.2807015\ttest: 0.2842725\tbest: 0.2842725 (26)\ttotal: 2m 40s\tremaining: 1h 36m 11s\n",
      "27:\tlearn: 0.2804039\ttest: 0.2841906\tbest: 0.2841906 (27)\ttotal: 2m 48s\tremaining: 1h 37m 13s\n",
      "28:\tlearn: 0.2800429\ttest: 0.2841368\tbest: 0.2841368 (28)\ttotal: 2m 55s\tremaining: 1h 38m 4s\n",
      "29:\tlearn: 0.2799449\ttest: 0.2840498\tbest: 0.2840498 (29)\ttotal: 2m 55s\tremaining: 1h 34m 47s\n",
      "30:\tlearn: 0.2797032\ttest: 0.2840430\tbest: 0.2840430 (30)\ttotal: 3m 3s\tremaining: 1h 35m 28s\n",
      "31:\tlearn: 0.2794354\ttest: 0.2839978\tbest: 0.2839978 (31)\ttotal: 3m 10s\tremaining: 1h 36m 10s\n",
      "32:\tlearn: 0.2790581\ttest: 0.2839695\tbest: 0.2839695 (32)\ttotal: 3m 18s\tremaining: 1h 37m\n",
      "33:\tlearn: 0.2788546\ttest: 0.2839252\tbest: 0.2839252 (33)\ttotal: 3m 26s\tremaining: 1h 37m 40s\n",
      "34:\tlearn: 0.2785838\ttest: 0.2838762\tbest: 0.2838762 (34)\ttotal: 3m 33s\tremaining: 1h 38m 10s\n",
      "35:\tlearn: 0.2784095\ttest: 0.2838524\tbest: 0.2838524 (35)\ttotal: 3m 40s\tremaining: 1h 38m 37s\n",
      "36:\tlearn: 0.2781528\ttest: 0.2838938\tbest: 0.2838524 (35)\ttotal: 3m 48s\tremaining: 1h 39m 8s\n",
      "37:\tlearn: 0.2779907\ttest: 0.2838585\tbest: 0.2838524 (35)\ttotal: 3m 56s\tremaining: 1h 39m 35s\n",
      "38:\tlearn: 0.2778071\ttest: 0.2838596\tbest: 0.2838524 (35)\ttotal: 4m 3s\tremaining: 1h 40m 6s\n",
      "39:\tlearn: 0.2777852\ttest: 0.2838482\tbest: 0.2838482 (39)\ttotal: 4m 3s\tremaining: 1h 37m 33s\n",
      "40:\tlearn: 0.2775940\ttest: 0.2838480\tbest: 0.2838480 (40)\ttotal: 4m 11s\tremaining: 1h 37m 58s\n",
      "41:\tlearn: 0.2773051\ttest: 0.2838617\tbest: 0.2838480 (40)\ttotal: 4m 19s\tremaining: 1h 38m 28s\n",
      "42:\tlearn: 0.2771107\ttest: 0.2838766\tbest: 0.2838480 (40)\ttotal: 4m 26s\tremaining: 1h 38m 47s\n",
      "43:\tlearn: 0.2769558\ttest: 0.2838624\tbest: 0.2838480 (40)\ttotal: 4m 33s\tremaining: 1h 38m 59s\n",
      "44:\tlearn: 0.2768565\ttest: 0.2838575\tbest: 0.2838480 (40)\ttotal: 4m 40s\tremaining: 1h 39m 9s\n",
      "45:\tlearn: 0.2766962\ttest: 0.2838443\tbest: 0.2838443 (45)\ttotal: 4m 47s\tremaining: 1h 39m 20s\n",
      "46:\tlearn: 0.2765641\ttest: 0.2838392\tbest: 0.2838392 (46)\ttotal: 4m 54s\tremaining: 1h 39m 31s\n",
      "47:\tlearn: 0.2764148\ttest: 0.2838572\tbest: 0.2838392 (46)\ttotal: 5m 1s\tremaining: 1h 39m 34s\n",
      "48:\tlearn: 0.2762411\ttest: 0.2838555\tbest: 0.2838392 (46)\ttotal: 5m 7s\tremaining: 1h 39m 35s\n",
      "49:\tlearn: 0.2760770\ttest: 0.2838444\tbest: 0.2838392 (46)\ttotal: 5m 14s\tremaining: 1h 39m 35s\n",
      "50:\tlearn: 0.2759236\ttest: 0.2838367\tbest: 0.2838367 (50)\ttotal: 5m 21s\tremaining: 1h 39m 35s\n",
      "51:\tlearn: 0.2757589\ttest: 0.2838922\tbest: 0.2838367 (50)\ttotal: 5m 27s\tremaining: 1h 39m 34s\n",
      "52:\tlearn: 0.2755152\ttest: 0.2839073\tbest: 0.2838367 (50)\ttotal: 5m 34s\tremaining: 1h 39m 38s\n",
      "53:\tlearn: 0.2755052\ttest: 0.2839000\tbest: 0.2838367 (50)\ttotal: 5m 34s\tremaining: 1h 37m 42s\n",
      "54:\tlearn: 0.2753558\ttest: 0.2839191\tbest: 0.2838367 (50)\ttotal: 5m 41s\tremaining: 1h 37m 43s\n",
      "55:\tlearn: 0.2752082\ttest: 0.2839082\tbest: 0.2838367 (50)\ttotal: 5m 47s\tremaining: 1h 37m 44s\n",
      "56:\tlearn: 0.2750831\ttest: 0.2839192\tbest: 0.2838367 (50)\ttotal: 5m 54s\tremaining: 1h 37m 45s\n",
      "57:\tlearn: 0.2749887\ttest: 0.2839516\tbest: 0.2838367 (50)\ttotal: 6m 1s\tremaining: 1h 37m 52s\n",
      "58:\tlearn: 0.2748543\ttest: 0.2839891\tbest: 0.2838367 (50)\ttotal: 6m 7s\tremaining: 1h 37m 47s\n",
      "59:\tlearn: 0.2747652\ttest: 0.2840178\tbest: 0.2838367 (50)\ttotal: 6m 14s\tremaining: 1h 37m 42s\n",
      "60:\tlearn: 0.2746314\ttest: 0.2840385\tbest: 0.2838367 (50)\ttotal: 6m 20s\tremaining: 1h 37m 36s\n",
      "61:\tlearn: 0.2745202\ttest: 0.2840624\tbest: 0.2838367 (50)\ttotal: 6m 26s\tremaining: 1h 37m 28s\n",
      "62:\tlearn: 0.2743689\ttest: 0.2840744\tbest: 0.2838367 (50)\ttotal: 6m 33s\tremaining: 1h 37m 26s\n",
      "63:\tlearn: 0.2740964\ttest: 0.2841065\tbest: 0.2838367 (50)\ttotal: 6m 40s\tremaining: 1h 37m 36s\n",
      "64:\tlearn: 0.2740906\ttest: 0.2841059\tbest: 0.2838367 (50)\ttotal: 6m 40s\tremaining: 1h 36m 1s\n",
      "65:\tlearn: 0.2739353\ttest: 0.2841145\tbest: 0.2838367 (50)\ttotal: 6m 47s\tremaining: 1h 36m 3s\n",
      "66:\tlearn: 0.2738565\ttest: 0.2841172\tbest: 0.2838367 (50)\ttotal: 6m 53s\tremaining: 1h 35m 59s\n",
      "67:\tlearn: 0.2737992\ttest: 0.2841224\tbest: 0.2838367 (50)\ttotal: 6m 59s\tremaining: 1h 35m 53s\n",
      "68:\tlearn: 0.2735819\ttest: 0.2841608\tbest: 0.2838367 (50)\ttotal: 7m 6s\tremaining: 1h 35m 47s\n",
      "69:\tlearn: 0.2735010\ttest: 0.2841371\tbest: 0.2838367 (50)\ttotal: 7m 12s\tremaining: 1h 35m 43s\n",
      "70:\tlearn: 0.2733375\ttest: 0.2841502\tbest: 0.2838367 (50)\ttotal: 7m 18s\tremaining: 1h 35m 37s\n",
      "71:\tlearn: 0.2732534\ttest: 0.2841891\tbest: 0.2838367 (50)\ttotal: 7m 24s\tremaining: 1h 35m 30s\n",
      "72:\tlearn: 0.2731518\ttest: 0.2841977\tbest: 0.2838367 (50)\ttotal: 7m 30s\tremaining: 1h 35m 25s\n",
      "73:\tlearn: 0.2730888\ttest: 0.2841920\tbest: 0.2838367 (50)\ttotal: 7m 37s\tremaining: 1h 35m 22s\n",
      "74:\tlearn: 0.2730888\ttest: 0.2841919\tbest: 0.2838367 (50)\ttotal: 7m 37s\tremaining: 1h 34m\n",
      "75:\tlearn: 0.2730888\ttest: 0.2841919\tbest: 0.2838367 (50)\ttotal: 7m 37s\tremaining: 1h 32m 41s\n",
      "76:\tlearn: 0.2729871\ttest: 0.2842276\tbest: 0.2838367 (50)\ttotal: 7m 44s\tremaining: 1h 32m 45s\n",
      "77:\tlearn: 0.2729131\ttest: 0.2842880\tbest: 0.2838367 (50)\ttotal: 7m 48s\tremaining: 1h 32m 14s\n",
      "78:\tlearn: 0.2728328\ttest: 0.2843063\tbest: 0.2838367 (50)\ttotal: 7m 54s\tremaining: 1h 32m 6s\n",
      "79:\tlearn: 0.2727658\ttest: 0.2843029\tbest: 0.2838367 (50)\ttotal: 7m 59s\tremaining: 1h 31m 58s\n",
      "80:\tlearn: 0.2726237\ttest: 0.2843133\tbest: 0.2838367 (50)\ttotal: 8m 6s\tremaining: 1h 31m 56s\n",
      "81:\tlearn: 0.2725168\ttest: 0.2843259\tbest: 0.2838367 (50)\ttotal: 8m 12s\tremaining: 1h 31m 51s\n",
      "82:\tlearn: 0.2723816\ttest: 0.2843283\tbest: 0.2838367 (50)\ttotal: 8m 18s\tremaining: 1h 31m 46s\n",
      "83:\tlearn: 0.2722678\ttest: 0.2843569\tbest: 0.2838367 (50)\ttotal: 8m 24s\tremaining: 1h 31m 39s\n",
      "84:\tlearn: 0.2721080\ttest: 0.2843912\tbest: 0.2838367 (50)\ttotal: 8m 29s\tremaining: 1h 31m 27s\n",
      "85:\tlearn: 0.2719843\ttest: 0.2844422\tbest: 0.2838367 (50)\ttotal: 8m 35s\tremaining: 1h 31m 16s\n",
      "86:\tlearn: 0.2719093\ttest: 0.2844231\tbest: 0.2838367 (50)\ttotal: 8m 41s\tremaining: 1h 31m 12s\n",
      "87:\tlearn: 0.2718415\ttest: 0.2844379\tbest: 0.2838367 (50)\ttotal: 8m 47s\tremaining: 1h 31m 6s\n",
      "88:\tlearn: 0.2717379\ttest: 0.2844231\tbest: 0.2838367 (50)\ttotal: 8m 53s\tremaining: 1h 30m 56s\n",
      "89:\tlearn: 0.2714883\ttest: 0.2844294\tbest: 0.2838367 (50)\ttotal: 8m 58s\tremaining: 1h 30m 46s\n",
      "90:\tlearn: 0.2714854\ttest: 0.2844296\tbest: 0.2838367 (50)\ttotal: 8m 58s\tremaining: 1h 29m 42s\n",
      "91:\tlearn: 0.2714123\ttest: 0.2844513\tbest: 0.2838367 (50)\ttotal: 9m 4s\tremaining: 1h 29m 32s\n",
      "92:\tlearn: 0.2712955\ttest: 0.2844574\tbest: 0.2838367 (50)\ttotal: 9m 10s\tremaining: 1h 29m 24s\n",
      "93:\tlearn: 0.2712391\ttest: 0.2844681\tbest: 0.2838367 (50)\ttotal: 9m 15s\tremaining: 1h 29m 16s\n",
      "94:\tlearn: 0.2711802\ttest: 0.2844687\tbest: 0.2838367 (50)\ttotal: 9m 21s\tremaining: 1h 29m 6s\n",
      "95:\tlearn: 0.2710688\ttest: 0.2845086\tbest: 0.2838367 (50)\ttotal: 9m 27s\tremaining: 1h 29m\n",
      "96:\tlearn: 0.2709869\ttest: 0.2845235\tbest: 0.2838367 (50)\ttotal: 9m 33s\tremaining: 1h 28m 56s\n",
      "97:\tlearn: 0.2709104\ttest: 0.2845206\tbest: 0.2838367 (50)\ttotal: 9m 39s\tremaining: 1h 28m 53s\n",
      "98:\tlearn: 0.2707709\ttest: 0.2845762\tbest: 0.2838367 (50)\ttotal: 9m 46s\tremaining: 1h 28m 53s\n"
     ]
    },
    {
     "name": "stdout",
     "output_type": "stream",
     "text": [
      "99:\tlearn: 0.2706170\ttest: 0.2846137\tbest: 0.2838367 (50)\ttotal: 9m 51s\tremaining: 1h 28m 47s\n",
      "100:\tlearn: 0.2705682\ttest: 0.2846070\tbest: 0.2838367 (50)\ttotal: 9m 57s\tremaining: 1h 28m 39s\n",
      "101:\tlearn: 0.2705092\ttest: 0.2846195\tbest: 0.2838367 (50)\ttotal: 10m 3s\tremaining: 1h 28m 31s\n",
      "102:\tlearn: 0.2704613\ttest: 0.2846294\tbest: 0.2838367 (50)\ttotal: 10m 9s\tremaining: 1h 28m 24s\n",
      "103:\tlearn: 0.2704591\ttest: 0.2846270\tbest: 0.2838367 (50)\ttotal: 10m 9s\tremaining: 1h 27m 28s\n",
      "104:\tlearn: 0.2704303\ttest: 0.2846374\tbest: 0.2838367 (50)\ttotal: 10m 14s\tremaining: 1h 27m 21s\n",
      "105:\tlearn: 0.2703252\ttest: 0.2846451\tbest: 0.2838367 (50)\ttotal: 10m 20s\tremaining: 1h 27m 15s\n",
      "106:\tlearn: 0.2702675\ttest: 0.2846825\tbest: 0.2838367 (50)\ttotal: 10m 26s\tremaining: 1h 27m 9s\n",
      "107:\tlearn: 0.2701319\ttest: 0.2846886\tbest: 0.2838367 (50)\ttotal: 10m 32s\tremaining: 1h 27m 2s\n",
      "108:\tlearn: 0.2700283\ttest: 0.2846880\tbest: 0.2838367 (50)\ttotal: 10m 38s\tremaining: 1h 26m 57s\n",
      "109:\tlearn: 0.2699337\ttest: 0.2847193\tbest: 0.2838367 (50)\ttotal: 10m 44s\tremaining: 1h 26m 51s\n",
      "110:\tlearn: 0.2697950\ttest: 0.2847433\tbest: 0.2838367 (50)\ttotal: 10m 50s\tremaining: 1h 26m 48s\n",
      "111:\tlearn: 0.2696154\ttest: 0.2847474\tbest: 0.2838367 (50)\ttotal: 10m 56s\tremaining: 1h 26m 43s\n",
      "112:\tlearn: 0.2695262\ttest: 0.2847631\tbest: 0.2838367 (50)\ttotal: 11m 2s\tremaining: 1h 26m 37s\n",
      "113:\tlearn: 0.2694179\ttest: 0.2847865\tbest: 0.2838367 (50)\ttotal: 11m 8s\tremaining: 1h 26m 32s\n",
      "114:\tlearn: 0.2692828\ttest: 0.2847837\tbest: 0.2838367 (50)\ttotal: 11m 14s\tremaining: 1h 26m 27s\n",
      "115:\tlearn: 0.2692408\ttest: 0.2847716\tbest: 0.2838367 (50)\ttotal: 11m 20s\tremaining: 1h 26m 22s\n",
      "116:\tlearn: 0.2691437\ttest: 0.2847950\tbest: 0.2838367 (50)\ttotal: 11m 25s\tremaining: 1h 26m 17s\n",
      "117:\tlearn: 0.2690933\ttest: 0.2848387\tbest: 0.2838367 (50)\ttotal: 11m 32s\tremaining: 1h 26m 12s\n",
      "118:\tlearn: 0.2689592\ttest: 0.2848623\tbest: 0.2838367 (50)\ttotal: 11m 38s\tremaining: 1h 26m 7s\n",
      "119:\tlearn: 0.2688374\ttest: 0.2849113\tbest: 0.2838367 (50)\ttotal: 11m 44s\tremaining: 1h 26m 3s\n",
      "120:\tlearn: 0.2686529\ttest: 0.2849269\tbest: 0.2838367 (50)\ttotal: 11m 50s\tremaining: 1h 25m 58s\n",
      "121:\tlearn: 0.2684516\ttest: 0.2849306\tbest: 0.2838367 (50)\ttotal: 11m 56s\tremaining: 1h 25m 53s\n",
      "122:\tlearn: 0.2683375\ttest: 0.2849623\tbest: 0.2838367 (50)\ttotal: 12m 2s\tremaining: 1h 25m 49s\n",
      "123:\tlearn: 0.2681211\ttest: 0.2850207\tbest: 0.2838367 (50)\ttotal: 12m 8s\tremaining: 1h 25m 44s\n",
      "124:\tlearn: 0.2680689\ttest: 0.2850223\tbest: 0.2838367 (50)\ttotal: 12m 14s\tremaining: 1h 25m 40s\n",
      "125:\tlearn: 0.2679324\ttest: 0.2850497\tbest: 0.2838367 (50)\ttotal: 12m 20s\tremaining: 1h 25m 35s\n",
      "126:\tlearn: 0.2678175\ttest: 0.2850644\tbest: 0.2838367 (50)\ttotal: 12m 26s\tremaining: 1h 25m 32s\n",
      "127:\tlearn: 0.2677290\ttest: 0.2850879\tbest: 0.2838367 (50)\ttotal: 12m 32s\tremaining: 1h 25m 28s\n",
      "128:\tlearn: 0.2676521\ttest: 0.2851332\tbest: 0.2838367 (50)\ttotal: 12m 38s\tremaining: 1h 25m 24s\n",
      "129:\tlearn: 0.2675985\ttest: 0.2851239\tbest: 0.2838367 (50)\ttotal: 12m 45s\tremaining: 1h 25m 21s\n",
      "130:\tlearn: 0.2675144\ttest: 0.2851696\tbest: 0.2838367 (50)\ttotal: 12m 51s\tremaining: 1h 25m 17s\n",
      "131:\tlearn: 0.2673426\ttest: 0.2851988\tbest: 0.2838367 (50)\ttotal: 12m 57s\tremaining: 1h 25m 13s\n",
      "132:\tlearn: 0.2672695\ttest: 0.2851831\tbest: 0.2838367 (50)\ttotal: 13m 3s\tremaining: 1h 25m 9s\n",
      "133:\tlearn: 0.2671692\ttest: 0.2852339\tbest: 0.2838367 (50)\ttotal: 13m 10s\tremaining: 1h 25m 5s\n",
      "134:\tlearn: 0.2670112\ttest: 0.2852703\tbest: 0.2838367 (50)\ttotal: 13m 16s\tremaining: 1h 25m 1s\n",
      "135:\tlearn: 0.2669351\ttest: 0.2852817\tbest: 0.2838367 (50)\ttotal: 13m 22s\tremaining: 1h 24m 56s\n",
      "136:\tlearn: 0.2667484\ttest: 0.2853165\tbest: 0.2838367 (50)\ttotal: 13m 28s\tremaining: 1h 24m 52s\n",
      "137:\tlearn: 0.2665633\ttest: 0.2853850\tbest: 0.2838367 (50)\ttotal: 13m 34s\tremaining: 1h 24m 48s\n",
      "138:\tlearn: 0.2664732\ttest: 0.2853933\tbest: 0.2838367 (50)\ttotal: 13m 40s\tremaining: 1h 24m 44s\n",
      "139:\tlearn: 0.2663106\ttest: 0.2853905\tbest: 0.2838367 (50)\ttotal: 13m 47s\tremaining: 1h 24m 40s\n",
      "140:\tlearn: 0.2662856\ttest: 0.2854057\tbest: 0.2838367 (50)\ttotal: 13m 53s\tremaining: 1h 24m 36s\n",
      "141:\tlearn: 0.2661065\ttest: 0.2854514\tbest: 0.2838367 (50)\ttotal: 13m 59s\tremaining: 1h 24m 31s\n",
      "142:\tlearn: 0.2660444\ttest: 0.2854551\tbest: 0.2838367 (50)\ttotal: 14m 5s\tremaining: 1h 24m 27s\n",
      "143:\tlearn: 0.2659523\ttest: 0.2854527\tbest: 0.2838367 (50)\ttotal: 14m 11s\tremaining: 1h 24m 22s\n",
      "144:\tlearn: 0.2658918\ttest: 0.2854541\tbest: 0.2838367 (50)\ttotal: 14m 17s\tremaining: 1h 24m 18s\n",
      "145:\tlearn: 0.2657410\ttest: 0.2854593\tbest: 0.2838367 (50)\ttotal: 14m 24s\tremaining: 1h 24m 14s\n",
      "146:\tlearn: 0.2655476\ttest: 0.2854805\tbest: 0.2838367 (50)\ttotal: 14m 30s\tremaining: 1h 24m 10s\n",
      "147:\tlearn: 0.2653708\ttest: 0.2855030\tbest: 0.2838367 (50)\ttotal: 14m 36s\tremaining: 1h 24m 6s\n",
      "148:\tlearn: 0.2651239\ttest: 0.2855434\tbest: 0.2838367 (50)\ttotal: 14m 42s\tremaining: 1h 24m 2s\n",
      "149:\tlearn: 0.2649313\ttest: 0.2855754\tbest: 0.2838367 (50)\ttotal: 14m 49s\tremaining: 1h 23m 59s\n",
      "150:\tlearn: 0.2647275\ttest: 0.2856135\tbest: 0.2838367 (50)\ttotal: 14m 55s\tremaining: 1h 23m 54s\n",
      "Stopped by overfitting detector  (100 iterations wait)\n",
      "\n",
      "bestTest = 0.2838366651\n",
      "bestIteration = 50\n",
      "\n",
      "Shrink model to first 51 iterations.\n"
     ]
    }
   ],
   "source": [
    "from catboost import CatBoostClassifier\n",
    "from sklearn.model_selection import StratifiedKFold\n",
    "\n",
    "boot = StratifiedKFold(n_splits=10)\n",
    "score = []\n",
    "# Loop through samples\n",
    "for train, test in boot.split(X, y):\n",
    "    start_time = time.time()\n",
    "    num+=1\n",
    "\n",
    "    # Split train and test\n",
    "    x_train = X[train]\n",
    "    y_train = y[train]\n",
    "    x_test = X[test]\n",
    "    y_test = y[test]\n",
    "    \n",
    "    cat = CatBoostClassifier(depth=16, learning_rate=0.1, n_estimators=1000)\n",
    "    cat.fit(x_train, y_train, early_stopping_rounds = 100,eval_set=(x_test, y_test), use_best_model=True)\n",
    "    score.append(cat.score(x_test, y_test))"
   ]
  },
  {
   "cell_type": "code",
   "execution_count": 107,
   "metadata": {},
   "outputs": [],
   "source": [
    "pred = cat.predict_proba(test_data)"
   ]
  },
  {
   "cell_type": "code",
   "execution_count": 110,
   "metadata": {},
   "outputs": [],
   "source": [
    "prediction = pred[:,1]"
   ]
  },
  {
   "cell_type": "code",
   "execution_count": 111,
   "metadata": {},
   "outputs": [],
   "source": [
    "submit_df = pd.DataFrame({'user_id': sample_sub['user_id'], 'Churn': prediction},\n",
    "                             columns=['user_id','Churn'])\n",
    "submit_df.to_csv('cat.csv', index=False)"
   ]
  },
  {
   "cell_type": "code",
   "execution_count": 112,
   "metadata": {},
   "outputs": [
    {
     "data": {
      "text/html": [
       "<div>\n",
       "<style scoped>\n",
       "    .dataframe tbody tr th:only-of-type {\n",
       "        vertical-align: middle;\n",
       "    }\n",
       "\n",
       "    .dataframe tbody tr th {\n",
       "        vertical-align: top;\n",
       "    }\n",
       "\n",
       "    .dataframe thead th {\n",
       "        text-align: right;\n",
       "    }\n",
       "</style>\n",
       "<table border=\"1\" class=\"dataframe\">\n",
       "  <thead>\n",
       "    <tr style=\"text-align: right;\">\n",
       "      <th></th>\n",
       "      <th>user_id</th>\n",
       "      <th>Churn</th>\n",
       "    </tr>\n",
       "  </thead>\n",
       "  <tbody>\n",
       "    <tr>\n",
       "      <th>0</th>\n",
       "      <td>af900d87e73b7ff6509d2203df4704a98aa5f2a6</td>\n",
       "      <td>0.607943</td>\n",
       "    </tr>\n",
       "    <tr>\n",
       "      <th>1</th>\n",
       "      <td>5335efd940280b82143272275637d1e65d37eadb</td>\n",
       "      <td>0.530368</td>\n",
       "    </tr>\n",
       "    <tr>\n",
       "      <th>2</th>\n",
       "      <td>a581f4fa08677c26f83f643248c667e241043086</td>\n",
       "      <td>0.099614</td>\n",
       "    </tr>\n",
       "    <tr>\n",
       "      <th>3</th>\n",
       "      <td>64f67177d0775262b8087a9e2e3b8061b6324ae6</td>\n",
       "      <td>0.021081</td>\n",
       "    </tr>\n",
       "    <tr>\n",
       "      <th>4</th>\n",
       "      <td>0d6009a4594c4be22449b8d9cc01a0bcea98faea</td>\n",
       "      <td>0.002635</td>\n",
       "    </tr>\n",
       "    <tr>\n",
       "      <th>...</th>\n",
       "      <td>...</td>\n",
       "      <td>...</td>\n",
       "    </tr>\n",
       "    <tr>\n",
       "      <th>99995</th>\n",
       "      <td>c6bcb3336795a18eb6c0bc7e19078a0704ef4d7e</td>\n",
       "      <td>0.001360</td>\n",
       "    </tr>\n",
       "    <tr>\n",
       "      <th>99996</th>\n",
       "      <td>a44b4e44dc70115ed5bf971ebb4193dd536e87f0</td>\n",
       "      <td>0.006399</td>\n",
       "    </tr>\n",
       "    <tr>\n",
       "      <th>99997</th>\n",
       "      <td>a2f84faffbc995bd0e2d726fa4ffdb93f11646ed</td>\n",
       "      <td>0.009385</td>\n",
       "    </tr>\n",
       "    <tr>\n",
       "      <th>99998</th>\n",
       "      <td>afa76e894df4201fc77eb714de7d1f262299611a</td>\n",
       "      <td>0.017937</td>\n",
       "    </tr>\n",
       "    <tr>\n",
       "      <th>99999</th>\n",
       "      <td>c08a2d84b87c1f5d4bb318114f508b77aa8e2663</td>\n",
       "      <td>0.164187</td>\n",
       "    </tr>\n",
       "  </tbody>\n",
       "</table>\n",
       "<p>100000 rows × 2 columns</p>\n",
       "</div>"
      ],
      "text/plain": [
       "                                        user_id     Churn\n",
       "0      af900d87e73b7ff6509d2203df4704a98aa5f2a6  0.607943\n",
       "1      5335efd940280b82143272275637d1e65d37eadb  0.530368\n",
       "2      a581f4fa08677c26f83f643248c667e241043086  0.099614\n",
       "3      64f67177d0775262b8087a9e2e3b8061b6324ae6  0.021081\n",
       "4      0d6009a4594c4be22449b8d9cc01a0bcea98faea  0.002635\n",
       "...                                         ...       ...\n",
       "99995  c6bcb3336795a18eb6c0bc7e19078a0704ef4d7e  0.001360\n",
       "99996  a44b4e44dc70115ed5bf971ebb4193dd536e87f0  0.006399\n",
       "99997  a2f84faffbc995bd0e2d726fa4ffdb93f11646ed  0.009385\n",
       "99998  afa76e894df4201fc77eb714de7d1f262299611a  0.017937\n",
       "99999  c08a2d84b87c1f5d4bb318114f508b77aa8e2663  0.164187\n",
       "\n",
       "[100000 rows x 2 columns]"
      ]
     },
     "execution_count": 112,
     "metadata": {},
     "output_type": "execute_result"
    }
   ],
   "source": [
    "submit_df"
   ]
  },
  {
   "cell_type": "code",
   "execution_count": null,
   "metadata": {},
   "outputs": [],
   "source": []
  }
 ],
 "metadata": {
  "kernelspec": {
   "display_name": "Python 3",
   "language": "python",
   "name": "python3"
  },
  "language_info": {
   "codemirror_mode": {
    "name": "ipython",
    "version": 3
   },
   "file_extension": ".py",
   "mimetype": "text/x-python",
   "name": "python",
   "nbconvert_exporter": "python",
   "pygments_lexer": "ipython3",
   "version": "3.7.6"
  }
 },
 "nbformat": 4,
 "nbformat_minor": 4
}
